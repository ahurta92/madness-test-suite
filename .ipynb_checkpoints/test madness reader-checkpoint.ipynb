{
 "cells": [
  {
   "cell_type": "code",
   "execution_count": 1,
   "id": "256bc60d",
   "metadata": {},
   "outputs": [],
   "source": [
    "import os\n",
    "import sys\n",
    "import pandas as pd\n",
    "import json\n",
    "snmem = \"/gpfs/projects/rjh/adrian/post_watoc/large_polar_low\"\n",
    "ahurt = \"/home/adrianhurtado/testing/post_watoc/large_polar_low/\"\n",
    "os.chdir(ahurt)\n",
    "from madnessReader import *"
   ]
  },
  {
   "cell_type": "code",
   "execution_count": 2,
   "id": "f05ee1c9",
   "metadata": {},
   "outputs": [
    {
     "name": "stdout",
     "output_type": "stream",
     "text": [
      "0.022232625  not found: [Errno 2] No such file or directory: '/home/adrianhurtado/testing/post_watoc/large_polar_low/hf/Be/dipole_hf_0-022233/response_base.json'\n",
      "0.022232625  not found: [Errno 2] No such file or directory: '/home/adrianhurtado/testing/post_watoc/large_polar_low/hf/Be/dipole_hf_0-022233/response_base.json'\n"
     ]
    },
    {
     "ename": "IndexError",
     "evalue": "index 2 is out of bounds for axis 0 with size 2",
     "output_type": "error",
     "traceback": [
      "\u001b[0;31m---------------------------------------------------------------------------\u001b[0m",
      "\u001b[0;31mIndexError\u001b[0m                                Traceback (most recent call last)",
      "Input \u001b[0;32mIn [2]\u001b[0m, in \u001b[0;36m<cell line: 5>\u001b[0;34m()\u001b[0m\n\u001b[1;32m      1\u001b[0m basis_list\u001b[38;5;241m=\u001b[39m[\u001b[38;5;124m'\u001b[39m\u001b[38;5;124maug-cc-pVDZ\u001b[39m\u001b[38;5;124m'\u001b[39m,\u001b[38;5;124m'\u001b[39m\u001b[38;5;124maug-cc-pVTZ\u001b[39m\u001b[38;5;124m'\u001b[39m,\u001b[38;5;124m'\u001b[39m\u001b[38;5;124maug-cc-pVQZ\u001b[39m\u001b[38;5;124m'\u001b[39m,\u001b[38;5;124m'\u001b[39m\u001b[38;5;124maug-cc-pV5Z\u001b[39m\u001b[38;5;124m'\u001b[39m,\u001b[38;5;124m'\u001b[39m\u001b[38;5;124maug-cc-pV6Z\u001b[39m\u001b[38;5;124m'\u001b[39m]\n\u001b[1;32m      2\u001b[0m d_basis_list\u001b[38;5;241m=\u001b[39m[\u001b[38;5;124m'\u001b[39m\u001b[38;5;124md-aug-cc-pVDZ\u001b[39m\u001b[38;5;124m'\u001b[39m,\u001b[38;5;124m'\u001b[39m\u001b[38;5;124md-aug-cc-pVTZ\u001b[39m\u001b[38;5;124m'\u001b[39m,\u001b[38;5;124m'\u001b[39m\u001b[38;5;124md-aug-cc-pVQZ\u001b[39m\u001b[38;5;124m'\u001b[39m,\u001b[38;5;124m'\u001b[39m\u001b[38;5;124md-aug-cc-pV5Z\u001b[39m\u001b[38;5;124m'\u001b[39m,\u001b[38;5;124m'\u001b[39m\u001b[38;5;124md-aug-cc-pV6Z\u001b[39m\u001b[38;5;124m'\u001b[39m]\n\u001b[0;32m----> 5\u001b[0m \u001b[43mcreate_polar_diff_plot\u001b[49m\u001b[43m(\u001b[49m\u001b[38;5;124;43m'\u001b[39;49m\u001b[38;5;124;43mBe\u001b[39;49m\u001b[38;5;124;43m'\u001b[39;49m\u001b[43m,\u001b[49m\u001b[43md_basis_list\u001b[49m\u001b[43m[\u001b[49m\u001b[38;5;241;43m0\u001b[39;49m\u001b[43m:\u001b[49m\u001b[38;5;241;43m3\u001b[39;49m\u001b[43m]\u001b[49m\u001b[43m)\u001b[49m\n",
      "File \u001b[0;32m~/testing/madness-test-suite/madness-test-suite/madnessReader.py:832\u001b[0m, in \u001b[0;36mcreate_polar_diff_plot\u001b[0;34m(mol, basis_list)\u001b[0m\n\u001b[1;32m    829\u001b[0m title \u001b[38;5;241m=\u001b[39m mol\n\u001b[1;32m    830\u001b[0m yl \u001b[38;5;241m=\u001b[39m \u001b[38;5;124mr\u001b[39m\u001b[38;5;124m\"\u001b[39m\u001b[38;5;124m $\u001b[39m\u001b[38;5;124m\\\u001b[39m\u001b[38;5;124mDelta\u001b[39m\u001b[38;5;124m\\\u001b[39m\u001b[38;5;124malpha_\u001b[39m\u001b[38;5;132;01m{avg}\u001b[39;00m\u001b[38;5;124m$\u001b[39m\u001b[38;5;124m\"\u001b[39m \u001b[38;5;241m+\u001b[39m \u001b[38;5;124mr\u001b[39m\u001b[38;5;124m\"\u001b[39m\u001b[38;5;124m (MRA - BASIS)\u001b[39m\u001b[38;5;124m\"\u001b[39m\n\u001b[0;32m--> 832\u001b[0m data, diff_data, energy_diff, polar_diff \u001b[38;5;241m=\u001b[39m \u001b[43mcreate_data\u001b[49m\u001b[43m(\u001b[49m\u001b[43mmol\u001b[49m\u001b[43m,\u001b[49m\u001b[43m \u001b[49m\u001b[43mbasis_list\u001b[49m\u001b[43m)\u001b[49m\n\u001b[1;32m    833\u001b[0m num_freq \u001b[38;5;241m=\u001b[39m \u001b[38;5;28mlen\u001b[39m(\u001b[38;5;28mlist\u001b[39m(polar_diff\u001b[38;5;241m.\u001b[39mkeys()))\n\u001b[1;32m    834\u001b[0m polar_diff\u001b[38;5;241m.\u001b[39miloc[:, :]\u001b[38;5;241m.\u001b[39mplot(marker\u001b[38;5;241m=\u001b[39m\u001b[38;5;124m\"\u001b[39m\u001b[38;5;124mv\u001b[39m\u001b[38;5;124m\"\u001b[39m, linestyle\u001b[38;5;241m=\u001b[39m\u001b[38;5;124m\"\u001b[39m\u001b[38;5;124msolid\u001b[39m\u001b[38;5;124m\"\u001b[39m, markersize\u001b[38;5;241m=\u001b[39m\u001b[38;5;241m12\u001b[39m, linewidth\u001b[38;5;241m=\u001b[39m\u001b[38;5;241m2\u001b[39m, colormap\u001b[38;5;241m=\u001b[39m\u001b[38;5;124m'\u001b[39m\u001b[38;5;124mplasma\u001b[39m\u001b[38;5;124m'\u001b[39m)\n",
      "File \u001b[0;32m~/testing/madness-test-suite/madness-test-suite/madnessReader.py:800\u001b[0m, in \u001b[0;36mcreate_data\u001b[0;34m(mol, basis_list)\u001b[0m\n\u001b[1;32m    798\u001b[0m data \u001b[38;5;241m=\u001b[39m []\n\u001b[1;32m    799\u001b[0m \u001b[38;5;28;01mfor\u001b[39;00m x \u001b[38;5;129;01min\u001b[39;00m xx:\n\u001b[0;32m--> 800\u001b[0m     data\u001b[38;5;241m.\u001b[39mappend(\u001b[43mcreate_polar_table\u001b[49m\u001b[43m(\u001b[49m\u001b[43mmol\u001b[49m\u001b[43m,\u001b[49m\u001b[43m \u001b[49m\u001b[38;5;124;43m\"\u001b[39;49m\u001b[38;5;124;43mhf\u001b[39;49m\u001b[38;5;124;43m\"\u001b[39;49m\u001b[43m,\u001b[49m\u001b[43m \u001b[49m\u001b[43mbasis_list\u001b[49m\u001b[43m,\u001b[49m\u001b[43m \u001b[49m\u001b[43mx\u001b[49m\u001b[43m)\u001b[49m)\n\u001b[1;32m    801\u001b[0m average \u001b[38;5;241m=\u001b[39m (data[\u001b[38;5;241m0\u001b[39m] \u001b[38;5;241m+\u001b[39m data[\u001b[38;5;241m1\u001b[39m] \u001b[38;5;241m+\u001b[39m data[\u001b[38;5;241m2\u001b[39m]) \u001b[38;5;241m/\u001b[39m \u001b[38;5;241m3\u001b[39m\n\u001b[1;32m    803\u001b[0m diff_data \u001b[38;5;241m=\u001b[39m average \u001b[38;5;241m-\u001b[39m average\u001b[38;5;241m.\u001b[39mloc[\u001b[38;5;124m\"\u001b[39m\u001b[38;5;124mMRA\u001b[39m\u001b[38;5;124m\"\u001b[39m]\n",
      "File \u001b[0;32m~/testing/madness-test-suite/madness-test-suite/madnessReader.py:777\u001b[0m, in \u001b[0;36mcreate_polar_table\u001b[0;34m(mol, xc, basis_list, xx)\u001b[0m\n\u001b[1;32m    774\u001b[0m mad_data_e[\u001b[38;5;124m\"\u001b[39m\u001b[38;5;124mTotal HF Energy\u001b[39m\u001b[38;5;124m\"\u001b[39m] \u001b[38;5;241m=\u001b[39m moldata\u001b[38;5;241m.\u001b[39mground_e[\u001b[38;5;124m\"\u001b[39m\u001b[38;5;124me_tot\u001b[39m\u001b[38;5;124m\"\u001b[39m]\n\u001b[1;32m    776\u001b[0m \u001b[38;5;28;01mfor\u001b[39;00m i \u001b[38;5;129;01min\u001b[39;00m \u001b[38;5;28mrange\u001b[39m(\u001b[38;5;28mlen\u001b[39m(names)):\n\u001b[0;32m--> 777\u001b[0m     mad_data_r[names[i]] \u001b[38;5;241m=\u001b[39m \u001b[43mmoldata\u001b[49m\u001b[38;5;241;43m.\u001b[39;49m\u001b[43mpolar_df\u001b[49m\u001b[43m[\u001b[49m\u001b[43mxx\u001b[49m\u001b[43m]\u001b[49m\u001b[43m[\u001b[49m\u001b[43mi\u001b[49m\u001b[43m]\u001b[49m\n\u001b[1;32m    779\u001b[0m mad_data_e \u001b[38;5;241m=\u001b[39m pd\u001b[38;5;241m.\u001b[39mSeries(mad_data_e)\n\u001b[1;32m    780\u001b[0m mad_data_r \u001b[38;5;241m=\u001b[39m pd\u001b[38;5;241m.\u001b[39mSeries(mad_data_r)\n",
      "File \u001b[0;32m~/anaconda3/lib/python3.9/site-packages/pandas/core/series.py:955\u001b[0m, in \u001b[0;36mSeries.__getitem__\u001b[0;34m(self, key)\u001b[0m\n\u001b[1;32m    952\u001b[0m     key \u001b[38;5;241m=\u001b[39m unpack_1tuple(key)\n\u001b[1;32m    954\u001b[0m \u001b[38;5;28;01mif\u001b[39;00m is_integer(key) \u001b[38;5;129;01mand\u001b[39;00m \u001b[38;5;28mself\u001b[39m\u001b[38;5;241m.\u001b[39mindex\u001b[38;5;241m.\u001b[39m_should_fallback_to_positional:\n\u001b[0;32m--> 955\u001b[0m     \u001b[38;5;28;01mreturn\u001b[39;00m \u001b[38;5;28;43mself\u001b[39;49m\u001b[38;5;241;43m.\u001b[39;49m\u001b[43m_values\u001b[49m\u001b[43m[\u001b[49m\u001b[43mkey\u001b[49m\u001b[43m]\u001b[49m\n\u001b[1;32m    957\u001b[0m \u001b[38;5;28;01melif\u001b[39;00m key_is_scalar:\n\u001b[1;32m    958\u001b[0m     \u001b[38;5;28;01mreturn\u001b[39;00m \u001b[38;5;28mself\u001b[39m\u001b[38;5;241m.\u001b[39m_get_value(key)\n",
      "\u001b[0;31mIndexError\u001b[0m: index 2 is out of bounds for axis 0 with size 2"
     ]
    }
   ],
   "source": [
    "\n",
    "basis_list=['aug-cc-pVDZ','aug-cc-pVTZ','aug-cc-pVQZ','aug-cc-pV5Z','aug-cc-pV6Z']\n",
    "d_basis_list=['d-aug-cc-pVDZ','d-aug-cc-pVTZ','d-aug-cc-pVQZ','d-aug-cc-pV5Z','d-aug-cc-pV6Z']\n",
    "\n",
    "\n",
    "create_polar_diff_plot('Be',d_basis_list[0:3])\n"
   ]
  },
  {
   "cell_type": "code",
   "execution_count": 5,
   "id": "62c990b8",
   "metadata": {},
   "outputs": [
    {
     "data": {
      "text/plain": [
       "{'d-aug-cc-pVQZ': {'ground': {'calculationType': 'energyCalculation',\n",
       "   'calculationTime': {'cpuTime': 0.135, 'wallTime': 0.148, 'units': 'second'},\n",
       "   'calculationResults': {'totalEnergy': {'value': -14.572969540431,\n",
       "     'units': 'Hartree'},\n",
       "    'nuclearRepulsionEnergy': {'value': 0.0, 'units': 'Hartree'},\n",
       "    'electronEnergy': {'value': -14.572969540431, 'units': 'Hartree'}},\n",
       "   'calculationSetup': {'numberOfElectrons': 4,\n",
       "    'molecularSpinMultiplicity': 1,\n",
       "    'waveFunctionType': 'HF',\n",
       "    'waveFunctionTheory': 'Hartree-Fock',\n",
       "    'charge': 0}},\n",
       "  'response': {'frequencies': [0.0,\n",
       "    0.01111631,\n",
       "    0.02223262,\n",
       "    0.03334894,\n",
       "    0.04446525,\n",
       "    0.05558156,\n",
       "    0.06669787,\n",
       "    0.07781419,\n",
       "    0.0889305],\n",
       "   'values': {'xx': [45.59896624411,\n",
       "     45.77622803008,\n",
       "     46.31652056491,\n",
       "     47.24640886997,\n",
       "     48.61389238082,\n",
       "     50.4949498644,\n",
       "     53.00502693983,\n",
       "     56.31901121558,\n",
       "     60.70694768307],\n",
       "    'xy': [0, 0, 0, 0, 0, 0, 0, 0, 0],\n",
       "    'xz': [0, 0, 0, 0, 0, 0, 0, 0, 0],\n",
       "    'yx': [0, 0, 0, 0, 0, 0, 0, 0, 0],\n",
       "    'yy': [45.59896624411,\n",
       "     45.77622803008,\n",
       "     46.31652056491,\n",
       "     47.24640886997,\n",
       "     48.61389238082,\n",
       "     50.4949498644,\n",
       "     53.00502693983,\n",
       "     56.31901121558,\n",
       "     60.70694768307],\n",
       "    'yz': [0, 0, 0, 0, 0, 0, 0, 0, 0],\n",
       "    'zx': [0, 0, 0, 0, 0, 0, 0, 0, 0],\n",
       "    'zy': [0, 0, 0, 0, 0, 0, 0, 0, 0],\n",
       "    'zz': [45.59896622978,\n",
       "     45.77622801557,\n",
       "     46.3165205498,\n",
       "     47.24640885384,\n",
       "     48.61389236312,\n",
       "     50.49494984443,\n",
       "     53.00502691663,\n",
       "     56.31901118779,\n",
       "     60.70694764858]},\n",
       "   'calculationTime': {'cpuTime': 2.98, 'wallTime': 2.98, 'units': 'second'}}}}"
      ]
     },
     "execution_count": 5,
     "metadata": {},
     "output_type": "execute_result"
    }
   ],
   "source": [
    "d=DaltonRunner()\n",
    "d.get_polar_json('Be','hf','dipole','d-aug-cc-pVQZ')"
   ]
  },
  {
   "cell_type": "code",
   "execution_count": 7,
   "id": "e37ec2ea",
   "metadata": {
    "scrolled": false
   },
   "outputs": [
    {
     "name": "stdout",
     "output_type": "stream",
     "text": [
      "0.0  not found: [Errno 2] No such file or directory: '/home/adrianhurtado/testing/post_watoc/large_polar_low/hf/H2O/dipole_hf_0-000000/response_base.json'\n"
     ]
    },
    {
     "name": "stderr",
     "output_type": "stream",
     "text": [
      "/home/adrianhurtado/testing/madness-test-suite/madness-test-suite/madnessReader.py:380: FutureWarning: The default dtype for empty Series will be 'object' instead of 'float64' in a future version. Specify a dtype explicitly to silence this warning.\n",
      "  pd.Series(converged),\n"
     ]
    },
    {
     "ename": "TypeError",
     "evalue": "'NoneType' object is not subscriptable",
     "output_type": "error",
     "traceback": [
      "\u001b[0;31m---------------------------------------------------------------------------\u001b[0m",
      "\u001b[0;31mTypeError\u001b[0m                                 Traceback (most recent call last)",
      "Input \u001b[0;32mIn [7]\u001b[0m, in \u001b[0;36m<cell line: 1>\u001b[0;34m()\u001b[0m\n\u001b[0;32m----> 1\u001b[0m d\u001b[38;5;241m=\u001b[39m\u001b[43mdisplay_convergence_plots\u001b[49m\u001b[43m(\u001b[49m\u001b[38;5;124;43m'\u001b[39;49m\u001b[38;5;124;43mH2O\u001b[39;49m\u001b[38;5;124;43m'\u001b[39;49m\u001b[43m,\u001b[49m\u001b[38;5;124;43m'\u001b[39;49m\u001b[38;5;124;43mhf\u001b[39;49m\u001b[38;5;124;43m'\u001b[39;49m\u001b[43m,\u001b[49m\u001b[38;5;124;43m'\u001b[39;49m\u001b[38;5;124;43mdipole\u001b[39;49m\u001b[38;5;124;43m'\u001b[39;49m\u001b[43m,\u001b[49m\u001b[38;5;28;43;01mTrue\u001b[39;49;00m\u001b[43m \u001b[49m\u001b[43m)\u001b[49m\n\u001b[1;32m      2\u001b[0m d\u001b[38;5;241m=\u001b[39mfrequency_norm_plots(\u001b[38;5;124m'\u001b[39m\u001b[38;5;124mH2O\u001b[39m\u001b[38;5;124m'\u001b[39m,\u001b[38;5;124m'\u001b[39m\u001b[38;5;124mhf\u001b[39m\u001b[38;5;124m'\u001b[39m,\u001b[38;5;124m'\u001b[39m\u001b[38;5;124mdipole\u001b[39m\u001b[38;5;124m'\u001b[39m,\u001b[38;5;28;01mTrue\u001b[39;00m )\n\u001b[1;32m      3\u001b[0m vals\u001b[38;5;241m=\u001b[39mFrequencyData(\u001b[38;5;124m'\u001b[39m\u001b[38;5;124mH2O\u001b[39m\u001b[38;5;124m'\u001b[39m,\u001b[38;5;124m'\u001b[39m\u001b[38;5;124mhf\u001b[39m\u001b[38;5;124m'\u001b[39m,\u001b[38;5;124m'\u001b[39m\u001b[38;5;124mdipole\u001b[39m\u001b[38;5;124m'\u001b[39m)\n",
      "File \u001b[0;32m~/testing/madness-test-suite/madness-test-suite/madnessReader.py:893\u001b[0m, in \u001b[0;36mdisplay_convergence_plots\u001b[0;34m(mol, xc, rtype, save)\u001b[0m\n\u001b[1;32m    891\u001b[0m     d \u001b[38;5;241m=\u001b[39m ExcitedData(mol, xc)\n\u001b[1;32m    892\u001b[0m \u001b[38;5;28;01melif\u001b[39;00m rtype \u001b[38;5;241m==\u001b[39m \u001b[38;5;124m\"\u001b[39m\u001b[38;5;124mdipole\u001b[39m\u001b[38;5;124m\"\u001b[39m:\n\u001b[0;32m--> 893\u001b[0m     d \u001b[38;5;241m=\u001b[39m \u001b[43mFrequencyData\u001b[49m\u001b[43m(\u001b[49m\u001b[43mmol\u001b[49m\u001b[43m,\u001b[49m\u001b[43m \u001b[49m\u001b[43mxc\u001b[49m\u001b[43m,\u001b[49m\u001b[43m \u001b[49m\u001b[38;5;124;43m\"\u001b[39;49m\u001b[38;5;124;43mdipole\u001b[39;49m\u001b[38;5;124;43m\"\u001b[39;49m\u001b[43m)\u001b[49m\n\u001b[1;32m    895\u001b[0m xkeys \u001b[38;5;241m=\u001b[39m []\n\u001b[1;32m    896\u001b[0m ykeys \u001b[38;5;241m=\u001b[39m []\n",
      "File \u001b[0;32m~/testing/madness-test-suite/madness-test-suite/madnessReader.py:498\u001b[0m, in \u001b[0;36mFrequencyData.__init__\u001b[0;34m(self, mol, xc, operator)\u001b[0m\n\u001b[1;32m    481\u001b[0m     \u001b[38;5;28mself\u001b[39m\u001b[38;5;241m.\u001b[39mground_e[e_name] \u001b[38;5;241m=\u001b[39m \u001b[38;5;28mself\u001b[39m\u001b[38;5;241m.\u001b[39mground_scf_data[e_name][\u001b[38;5;241m-\u001b[39m\u001b[38;5;241m1\u001b[39m]\n\u001b[1;32m    482\u001b[0m (\n\u001b[1;32m    483\u001b[0m     \u001b[38;5;28mself\u001b[39m\u001b[38;5;241m.\u001b[39mparams,\n\u001b[1;32m    484\u001b[0m     \u001b[38;5;28mself\u001b[39m\u001b[38;5;241m.\u001b[39miter_data,\n\u001b[0;32m   (...)\u001b[0m\n\u001b[1;32m    496\u001b[0m     \u001b[38;5;28mself\u001b[39m\u001b[38;5;241m.\u001b[39mbsh_norms\n\u001b[1;32m    497\u001b[0m ) \u001b[38;5;241m=\u001b[39m mad_reader\u001b[38;5;241m.\u001b[39mget_polar_result(mol, xc, operator)\n\u001b[0;32m--> 498\u001b[0m \u001b[38;5;28mself\u001b[39m\u001b[38;5;241m.\u001b[39mnum_states \u001b[38;5;241m=\u001b[39m \u001b[38;5;28;43mself\u001b[39;49m\u001b[38;5;241;43m.\u001b[39;49m\u001b[43mparams\u001b[49m\u001b[43m[\u001b[49m\u001b[38;5;124;43m\"\u001b[39;49m\u001b[38;5;124;43mstates\u001b[39;49m\u001b[38;5;124;43m\"\u001b[39;49m\u001b[43m]\u001b[49m\n",
      "\u001b[0;31mTypeError\u001b[0m: 'NoneType' object is not subscriptable"
     ]
    }
   ],
   "source": [
    "mol='BeH2'\n",
    "d=display_convergence_plots(mol,'hf','dipole',True )\n",
    "d=frequency_norm_plots(mol,'hf','dipole',True )\n",
    "vals=FrequencyData(mol,'hf','dipole')\n",
    "vals.polar_df"
   ]
  },
  {
   "cell_type": "code",
   "execution_count": 8,
   "id": "ca61351e",
   "metadata": {
    "scrolled": false
   },
   "outputs": [
    {
     "name": "stdout",
     "output_type": "stream",
     "text": [
      "0.0  not found: [Errno 2] No such file or directory: '/home/adrianhurtado/testing/post_watoc/large_polar_low/hf/H2O/dipole_hf_0-000000/response_base.json'\n"
     ]
    },
    {
     "name": "stderr",
     "output_type": "stream",
     "text": [
      "/home/adrianhurtado/testing/madness-test-suite/madness-test-suite/madnessReader.py:380: FutureWarning: The default dtype for empty Series will be 'object' instead of 'float64' in a future version. Specify a dtype explicitly to silence this warning.\n",
      "  pd.Series(converged),\n"
     ]
    },
    {
     "ename": "TypeError",
     "evalue": "'NoneType' object is not subscriptable",
     "output_type": "error",
     "traceback": [
      "\u001b[0;31m---------------------------------------------------------------------------\u001b[0m",
      "\u001b[0;31mTypeError\u001b[0m                                 Traceback (most recent call last)",
      "Input \u001b[0;32mIn [8]\u001b[0m, in \u001b[0;36m<cell line: 2>\u001b[0;34m()\u001b[0m\n\u001b[1;32m      1\u001b[0m mol\u001b[38;5;241m=\u001b[39m\u001b[38;5;124m'\u001b[39m\u001b[38;5;124mH2O\u001b[39m\u001b[38;5;124m'\u001b[39m\n\u001b[0;32m----> 2\u001b[0m d\u001b[38;5;241m=\u001b[39m\u001b[43mdisplay_convergence_plots\u001b[49m\u001b[43m(\u001b[49m\u001b[43mmol\u001b[49m\u001b[43m,\u001b[49m\u001b[38;5;124;43m'\u001b[39;49m\u001b[38;5;124;43mhf\u001b[39;49m\u001b[38;5;124;43m'\u001b[39;49m\u001b[43m,\u001b[49m\u001b[38;5;124;43m'\u001b[39;49m\u001b[38;5;124;43mdipole\u001b[39;49m\u001b[38;5;124;43m'\u001b[39;49m\u001b[43m,\u001b[49m\u001b[38;5;28;43;01mTrue\u001b[39;49;00m\u001b[43m \u001b[49m\u001b[43m)\u001b[49m\n\u001b[1;32m      3\u001b[0m d\u001b[38;5;241m=\u001b[39mfrequency_norm_plots(mol,\u001b[38;5;124m'\u001b[39m\u001b[38;5;124mhf\u001b[39m\u001b[38;5;124m'\u001b[39m,\u001b[38;5;124m'\u001b[39m\u001b[38;5;124mdipole\u001b[39m\u001b[38;5;124m'\u001b[39m,\u001b[38;5;28;01mTrue\u001b[39;00m )\n",
      "File \u001b[0;32m~/testing/madness-test-suite/madness-test-suite/madnessReader.py:893\u001b[0m, in \u001b[0;36mdisplay_convergence_plots\u001b[0;34m(mol, xc, rtype, save)\u001b[0m\n\u001b[1;32m    891\u001b[0m     d \u001b[38;5;241m=\u001b[39m ExcitedData(mol, xc)\n\u001b[1;32m    892\u001b[0m \u001b[38;5;28;01melif\u001b[39;00m rtype \u001b[38;5;241m==\u001b[39m \u001b[38;5;124m\"\u001b[39m\u001b[38;5;124mdipole\u001b[39m\u001b[38;5;124m\"\u001b[39m:\n\u001b[0;32m--> 893\u001b[0m     d \u001b[38;5;241m=\u001b[39m \u001b[43mFrequencyData\u001b[49m\u001b[43m(\u001b[49m\u001b[43mmol\u001b[49m\u001b[43m,\u001b[49m\u001b[43m \u001b[49m\u001b[43mxc\u001b[49m\u001b[43m,\u001b[49m\u001b[43m \u001b[49m\u001b[38;5;124;43m\"\u001b[39;49m\u001b[38;5;124;43mdipole\u001b[39;49m\u001b[38;5;124;43m\"\u001b[39;49m\u001b[43m)\u001b[49m\n\u001b[1;32m    895\u001b[0m xkeys \u001b[38;5;241m=\u001b[39m []\n\u001b[1;32m    896\u001b[0m ykeys \u001b[38;5;241m=\u001b[39m []\n",
      "File \u001b[0;32m~/testing/madness-test-suite/madness-test-suite/madnessReader.py:498\u001b[0m, in \u001b[0;36mFrequencyData.__init__\u001b[0;34m(self, mol, xc, operator)\u001b[0m\n\u001b[1;32m    481\u001b[0m     \u001b[38;5;28mself\u001b[39m\u001b[38;5;241m.\u001b[39mground_e[e_name] \u001b[38;5;241m=\u001b[39m \u001b[38;5;28mself\u001b[39m\u001b[38;5;241m.\u001b[39mground_scf_data[e_name][\u001b[38;5;241m-\u001b[39m\u001b[38;5;241m1\u001b[39m]\n\u001b[1;32m    482\u001b[0m (\n\u001b[1;32m    483\u001b[0m     \u001b[38;5;28mself\u001b[39m\u001b[38;5;241m.\u001b[39mparams,\n\u001b[1;32m    484\u001b[0m     \u001b[38;5;28mself\u001b[39m\u001b[38;5;241m.\u001b[39miter_data,\n\u001b[0;32m   (...)\u001b[0m\n\u001b[1;32m    496\u001b[0m     \u001b[38;5;28mself\u001b[39m\u001b[38;5;241m.\u001b[39mbsh_norms\n\u001b[1;32m    497\u001b[0m ) \u001b[38;5;241m=\u001b[39m mad_reader\u001b[38;5;241m.\u001b[39mget_polar_result(mol, xc, operator)\n\u001b[0;32m--> 498\u001b[0m \u001b[38;5;28mself\u001b[39m\u001b[38;5;241m.\u001b[39mnum_states \u001b[38;5;241m=\u001b[39m \u001b[38;5;28;43mself\u001b[39;49m\u001b[38;5;241;43m.\u001b[39;49m\u001b[43mparams\u001b[49m\u001b[43m[\u001b[49m\u001b[38;5;124;43m\"\u001b[39;49m\u001b[38;5;124;43mstates\u001b[39;49m\u001b[38;5;124;43m\"\u001b[39;49m\u001b[43m]\u001b[49m\n",
      "\u001b[0;31mTypeError\u001b[0m: 'NoneType' object is not subscriptable"
     ]
    }
   ],
   "source": [
    "mol='H2O'\n",
    "d=display_convergence_plots(mol,'hf','dipole',True )\n",
    "d=frequency_norm_plots(mol,'hf','dipole',True )"
   ]
  },
  {
   "cell_type": "code",
   "execution_count": null,
   "id": "fc1fd54f",
   "metadata": {},
   "outputs": [],
   "source": [
    "mol='Be'\n",
    "d=w01_convergence_plots(mol,'hf','dipole',True )\n",
    "d=frequency_norm_plots(mol,'hf','dipole',True )"
   ]
  },
  {
   "cell_type": "code",
   "execution_count": null,
   "id": "13575eec",
   "metadata": {},
   "outputs": [],
   "source": [
    "m=FrequencyData('H2','hf','dipole')\n",
    "m.polar_df"
   ]
  },
  {
   "cell_type": "code",
   "execution_count": null,
   "id": "5bece507",
   "metadata": {},
   "outputs": [],
   "source": [
    "vs=[]\n",
    "for k,v in m.d_norms.items():\n",
    "    vs.append(pd.DataFrame(v))"
   ]
  },
  {
   "cell_type": "code",
   "execution_count": null,
   "id": "5ad1e189",
   "metadata": {},
   "outputs": [],
   "source": [
    "d=frequency_norm_plots('Be','hf','dipole',False)"
   ]
  },
  {
   "cell_type": "code",
   "execution_count": null,
   "id": "8a99cd8e",
   "metadata": {},
   "outputs": [],
   "source": [
    "np.exp(4)"
   ]
  },
  {
   "cell_type": "code",
   "execution_count": null,
   "id": "47230d91",
   "metadata": {},
   "outputs": [],
   "source": [
    "np.exp(7)\n"
   ]
  },
  {
   "cell_type": "code",
   "execution_count": null,
   "id": "16ff7b98",
   "metadata": {},
   "outputs": [],
   "source": [
    "np.exp(10)\n"
   ]
  },
  {
   "cell_type": "code",
   "execution_count": null,
   "id": "90bebcb8",
   "metadata": {},
   "outputs": [],
   "source": []
  }
 ],
 "metadata": {
  "kernelspec": {
   "display_name": "Python 3 (ipykernel)",
   "language": "python",
   "name": "python3"
  },
  "language_info": {
   "codemirror_mode": {
    "name": "ipython",
    "version": 3
   },
   "file_extension": ".py",
   "mimetype": "text/x-python",
   "name": "python",
   "nbconvert_exporter": "python",
   "pygments_lexer": "ipython3",
   "version": "3.9.12"
  }
 },
 "nbformat": 4,
 "nbformat_minor": 5
}
