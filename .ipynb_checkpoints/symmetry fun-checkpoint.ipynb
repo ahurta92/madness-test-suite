{
 "cells": [
  {
   "cell_type": "code",
   "execution_count": 1,
   "id": "3df30ae0",
   "metadata": {},
   "outputs": [],
   "source": [
    "import os\n",
    "import pandas as pd\n",
    "import numpy as np\n",
    "from numpy import linalg as LA\n",
    "import json\n",
    "\n",
    "from symmetry_fun import SymmetryData\n",
    "from symmetry_fun import *"
   ]
  },
  {
   "cell_type": "code",
   "execution_count": 2,
   "id": "12d9d6d9",
   "metadata": {},
   "outputs": [
    {
     "name": "stdout",
     "output_type": "stream",
     "text": [
      "coords  [[ 0.        0.686442 -0.686442  1.06572   0.680464 -1.732359 -0.013827]\n",
      " [ 0.        0.426203 -0.426203 -0.430758  1.514938 -0.558795 -0.525388]\n",
      " [ 0.        1.06272  -1.06272   1.617416  1.08595  -0.789959 -1.913409]]\n",
      "coords  (3, 7)\n",
      "1\n",
      "2\n",
      "['C' 'C']\n",
      "coordinates:  [[ 0.686442 -0.686442]\n",
      " [ 0.426203 -0.426203]\n",
      " [ 1.06272  -1.06272 ]] \n",
      " com:  [[0.]\n",
      " [0.]\n",
      " [0.]]\n",
      "coords  [[ 0.      0.      0.    ]\n",
      " [ 0.      0.7572 -0.7572]\n",
      " [ 0.1173 -0.4692 -0.4692]]\n",
      "coords  (3, 3)\n",
      "1\n",
      "2\n",
      "['H' 'H']\n",
      "coordinates:  [[ 0.          0.        ]\n",
      " [ 0.7572     -0.7572    ]\n",
      " [-0.52092453 -0.52092453]] \n",
      " com:  [[ 0.        ]\n",
      " [ 0.        ]\n",
      " [-0.52092453]]\n",
      "coords  [[ 0.        0.        0.950353 -0.475176]\n",
      " [ 0.        0.        0.       -0.823029]\n",
      " [ 0.        1.008    -0.336    -0.336   ]]\n",
      "coords  (3, 4)\n",
      "1\n",
      "2\n",
      "['H' 'H']\n",
      "coordinates:  [[-0.02810097  0.92225203]\n",
      " [ 0.0486722   0.0486722 ]\n",
      " [ 0.98812967 -0.35587033]] \n",
      " com:  [[0.44707553]\n",
      " [0.0486722 ]\n",
      " [0.31612967]]\n",
      "coords  [[ 0.        1.20832   1.20832   0.       -1.20832  -1.20832   0.\n",
      "   2.149787  2.149787  0.       -2.149787 -2.149787]\n",
      " [ 1.395248  0.697624 -0.697624 -1.395248 -0.697624  0.697624  2.48236\n",
      "   1.24118  -1.24118  -2.48236  -1.24118   1.24118 ]\n",
      " [ 0.        0.        0.        0.        0.        0.        0.\n",
      "   0.        0.        0.        0.        0.      ]]\n",
      "coords  (3, 12)\n",
      "1\n",
      "2\n",
      "['C' 'C']\n",
      "coordinates:  [[ 0.        1.20832 ]\n",
      " [ 1.395248 -0.697624]\n",
      " [ 0.        0.      ]] \n",
      " com:  [[0.60416 ]\n",
      " [0.348812]\n",
      " [0.      ]]\n",
      "coords  [[ 0.      1.0202 -1.0202 -1.0202  1.0202]\n",
      " [ 0.      1.0202 -1.0202  1.0202 -1.0202]\n",
      " [ 0.      1.0202  1.0202 -1.0202 -1.0202]]\n",
      "coords  (3, 5)\n",
      "1\n",
      "2\n",
      "['Cl' 'Cl']\n",
      "coordinates:  [[ 1.0202 -1.0202]\n",
      " [ 1.0202 -1.0202]\n",
      " [ 1.0202  1.0202]] \n",
      " com:  [[0.    ]\n",
      " [0.    ]\n",
      " [1.0202]]\n",
      "coords  [[ 0.          0.          0.98770643 -0.33228878]\n",
      " [ 0.          0.          0.         -0.9301334 ]\n",
      " [ 0.          1.74755     1.9857191   1.98571912]]\n",
      "coords  (3, 4)\n",
      "1\n",
      "1\n",
      "1\n"
     ]
    }
   ],
   "source": [
    "\n",
    "allene=SymmetryData('allene')\n",
    "h2o=SymmetryData('H2O')\n",
    "NH3=SymmetryData('NH3ex')\n",
    "benzene=SymmetryData('C6H6')\n",
    "ccl4=SymmetryData('CCl4')\n",
    "nh2cl=SymmetryData('NH2Cl')"
   ]
  },
  {
   "cell_type": "code",
   "execution_count": null,
   "id": "23d5ad30",
   "metadata": {},
   "outputs": [],
   "source": []
  },
  {
   "cell_type": "code",
   "execution_count": 3,
   "id": "c22aacd1",
   "metadata": {},
   "outputs": [],
   "source": [
    "nx=np.array([1,0,0])\n",
    "ny=np.array([0,1,0])\n",
    "nz=np.array([0,0,1])\n",
    "\n",
    "\n",
    "rx=Rotation(nx,90)\n",
    "ry=Rotation(ny,90)\n",
    "rz=Rotation(nz,90)\n",
    "\n"
   ]
  },
  {
   "cell_type": "code",
   "execution_count": 4,
   "id": "238f5f65",
   "metadata": {},
   "outputs": [
    {
     "name": "stdout",
     "output_type": "stream",
     "text": [
      "[1. 0. 0.]\n"
     ]
    }
   ],
   "source": [
    "from numpy import matmul as mul\n",
    "\n",
    "X=mul(rx,nx.T)\n",
    "print(X)"
   ]
  },
  {
   "cell_type": "code",
   "execution_count": 5,
   "id": "d545e749",
   "metadata": {},
   "outputs": [],
   "source": [
    "# try picking unit vector with smallest dot product with n\n",
    "\n"
   ]
  },
  {
   "cell_type": "code",
   "execution_count": 6,
   "id": "88183e94",
   "metadata": {},
   "outputs": [
    {
     "name": "stdout",
     "output_type": "stream",
     "text": [
      "(3, 1)\n",
      "(3,)\n",
      "(3, 1)\n",
      "n:  [[0.      ]\n",
      " [1.395248]\n",
      " [0.      ]]\n",
      "norm:  1.3952480000000000437\n",
      "n:  [[0.]\n",
      " [1.]\n",
      " [0.]]\n"
     ]
    },
    {
     "data": {
      "text/plain": [
       "array([1, 0, 0])"
      ]
     },
     "execution_count": 6,
     "metadata": {},
     "output_type": "execute_result"
    }
   ],
   "source": [
    "r1=np.subtract(benzene.coordinates[:,[0]],benzene.com)\n",
    "print(benzene.com.shape)\n",
    "print(benzene.coordinates[:,0].shape)\n",
    "print(r1.shape)\n",
    "selectPerp(r1)\n",
    "    \n",
    "    "
   ]
  },
  {
   "cell_type": "code",
   "execution_count": null,
   "id": "49c9dfc7",
   "metadata": {},
   "outputs": [],
   "source": [
    "\n"
   ]
  },
  {
   "cell_type": "code",
   "execution_count": 7,
   "id": "316f3e43",
   "metadata": {},
   "outputs": [],
   "source": [
    "X=h2o.coordinates\n",
    "n=X[:,[0]]\n",
    "\n",
    "C2p=Rotation(n/LA.norm(n),np.pi)\n",
    "Y=np.matmul(C2p,X)"
   ]
  },
  {
   "cell_type": "code",
   "execution_count": 8,
   "id": "64369e67",
   "metadata": {},
   "outputs": [
    {
     "data": {
      "text/plain": [
       "array([[ 0.        ,  0.        ,  0.        ],\n",
       "       [ 0.        ,  0.7572    , -0.7572    ],\n",
       "       [ 0.06557547, -0.52092453, -0.52092453]], dtype=float128)"
      ]
     },
     "execution_count": 8,
     "metadata": {},
     "output_type": "execute_result"
    }
   ],
   "source": [
    "X"
   ]
  },
  {
   "cell_type": "code",
   "execution_count": 9,
   "id": "e6fa6fbc",
   "metadata": {},
   "outputs": [
    {
     "data": {
      "text/plain": [
       "array([[ 0.00000000e+00, -9.27302555e-17,  9.27302555e-17],\n",
       "       [ 0.00000000e+00, -7.57199999e-01,  7.57199999e-01],\n",
       "       [ 6.55754731e-02, -5.20924526e-01, -5.20924526e-01]],\n",
       "      dtype=float128)"
      ]
     },
     "execution_count": 9,
     "metadata": {},
     "output_type": "execute_result"
    }
   ],
   "source": [
    "Y"
   ]
  },
  {
   "cell_type": "code",
   "execution_count": 10,
   "id": "25c2d7e4",
   "metadata": {},
   "outputs": [
    {
     "name": "stdout",
     "output_type": "stream",
     "text": [
      "num atoms  3\n",
      "x shape (3, 3)\n",
      "y shape (3, 3)\n",
      "sub between yi and xj:  0.0\n",
      "sub between yi and xj:  9.273025548913363211e-17\n",
      "sub between yi and xj:  9.273025548913363211e-17\n"
     ]
    },
    {
     "data": {
      "text/plain": [
       "True"
      ]
     },
     "execution_count": 10,
     "metadata": {},
     "output_type": "execute_result"
    }
   ],
   "source": [
    "h2o.check_rotation(C2p)"
   ]
  },
  {
   "cell_type": "code",
   "execution_count": 17,
   "id": "4af5b07f",
   "metadata": {},
   "outputs": [
    {
     "name": "stdout",
     "output_type": "stream",
     "text": [
      "num atoms  3\n",
      "x shape (3, 3)\n",
      "y shape (3, 3)\n",
      "sub between yi and xj:  0.0\n"
     ]
    },
    {
     "data": {
      "text/plain": [
       "False"
      ]
     },
     "execution_count": 17,
     "metadata": {},
     "output_type": "execute_result"
    }
   ],
   "source": [
    "h2o.check_rotation(Rotation(n/LA.norm(n),np.pi/4))"
   ]
  },
  {
   "cell_type": "code",
   "execution_count": 25,
   "id": "2b7a49ec",
   "metadata": {},
   "outputs": [
    {
     "name": "stdout",
     "output_type": "stream",
     "text": [
      "n:  [[0.      ]\n",
      " [1.395248]\n",
      " [0.      ]]\n",
      "norm:  1.3952480000000000437\n",
      "n:  [[0.]\n",
      " [1.]\n",
      " [0.]]\n",
      "num atoms  12\n",
      "x shape (3, 12)\n",
      "y shape (3, 12)\n"
     ]
    },
    {
     "data": {
      "text/plain": [
       "False"
      ]
     },
     "execution_count": 25,
     "metadata": {},
     "output_type": "execute_result"
    }
   ],
   "source": [
    "\n",
    "benzene.check_rotation(Rotation(selectPerp(benzene.coordinates[:,[0]]),np.pi/6))"
   ]
  },
  {
   "cell_type": "code",
   "execution_count": 21,
   "id": "b5c8e584",
   "metadata": {},
   "outputs": [
    {
     "data": {
      "text/plain": [
       "array([0, 0, 1])"
      ]
     },
     "execution_count": 21,
     "metadata": {},
     "output_type": "execute_result"
    }
   ],
   "source": [
    "nz"
   ]
  },
  {
   "cell_type": "code",
   "execution_count": null,
   "id": "d86f165c",
   "metadata": {},
   "outputs": [],
   "source": []
  }
 ],
 "metadata": {
  "kernelspec": {
   "display_name": "Python 3 (ipykernel)",
   "language": "python",
   "name": "python3"
  },
  "language_info": {
   "codemirror_mode": {
    "name": "ipython",
    "version": 3
   },
   "file_extension": ".py",
   "mimetype": "text/x-python",
   "name": "python",
   "nbconvert_exporter": "python",
   "pygments_lexer": "ipython3",
   "version": "3.9.7"
  }
 },
 "nbformat": 4,
 "nbformat_minor": 5
}
