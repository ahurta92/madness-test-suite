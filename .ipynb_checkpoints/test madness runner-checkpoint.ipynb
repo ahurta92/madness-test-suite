{
 "cells": [
  {
   "cell_type": "code",
   "execution_count": 6,
   "id": "3aded1f9",
   "metadata": {},
   "outputs": [],
   "source": [
    "from madnessReader import MadRunner"
   ]
  },
  {
   "cell_type": "code",
   "execution_count": 7,
   "id": "e36b7457",
   "metadata": {},
   "outputs": [],
   "source": [
    "mrunner=MadRunner()"
   ]
  },
  {
   "cell_type": "code",
   "execution_count": 8,
   "id": "1a94d99e",
   "metadata": {},
   "outputs": [
    {
     "data": {
      "text/plain": [
       "(b'MADNESS runtime initialized with 15 threads in the pool and affinity -1 -1 -1\\nTrying to read frequency.json\\nREAD IT\\ndid not find the frequency data for [Be][hf][]\\n We do not have moldft answers so please run and save the results in the molecule directory\\ntime: \"2022-04-15 14:38:17\"\\nMOLDFT return energy: -14.572937500077627\\nMOLDFT return energy answer: null\\nmoldft path : \"/home/adrianhurtado/testing/madness-test-suite/madness-test-suite/hf/Be\"\\nmoldft json path : \"/home/adrianhurtado/testing/madness-test-suite/madness-test-suite/molecules/moldft.json\"\\nmoldft restart path : \"/home/adrianhurtado/testing/madness-test-suite/madness-test-suite/hf/Be/restartdata.00000\"\\nmolecule path  path : \"/home/adrianhurtado/testing/madness-test-suite/madness-test-suite/molecules/Be.mol\"\\ncalc_info json path : \"/home/adrianhurtado/testing/madness-test-suite/madness-test-suite/hf/Be/calc_info.json\"\\nmoldft json path : \"/home/adrianhurtado/testing/madness-test-suite/madness-test-suite/molecules/moldft.json\"\\nCreating MOLDFT directory for Be:/\"/home/adrianhurtado/testing/madness-test-suite/madness-test-suite/hf/Be\":\\nEntering : \"/home/adrianhurtado/testing/madness-test-suite/madness-test-suite/hf/Be\" to run MOLDFT \\n\\n',\n",
       " None)"
      ]
     },
     "execution_count": 8,
     "metadata": {},
     "output_type": "execute_result"
    }
   ],
   "source": [
    "mrunner.run_madness_ground('Be','hf')"
   ]
  },
  {
   "cell_type": "code",
   "execution_count": null,
   "id": "40872b15",
   "metadata": {},
   "outputs": [
    {
     "name": "stdout",
     "output_type": "stream",
     "text": [
      "mad-excited Be hf\n"
     ]
    }
   ],
   "source": [
    "\n",
    "mrunner.run_response('Be','hf','excited-state')"
   ]
  },
  {
   "cell_type": "code",
   "execution_count": null,
   "id": "71349aaa",
   "metadata": {},
   "outputs": [],
   "source": [
    "\n",
    "mrunner.run_response('N2','hf','excited-state')"
   ]
  }
 ],
 "metadata": {
  "kernelspec": {
   "display_name": "Python 3 (ipykernel)",
   "language": "python",
   "name": "python3"
  },
  "language_info": {
   "codemirror_mode": {
    "name": "ipython",
    "version": 3
   },
   "file_extension": ".py",
   "mimetype": "text/x-python",
   "name": "python",
   "nbconvert_exporter": "python",
   "pygments_lexer": "ipython3",
   "version": "3.9.7"
  }
 },
 "nbformat": 4,
 "nbformat_minor": 5
}
