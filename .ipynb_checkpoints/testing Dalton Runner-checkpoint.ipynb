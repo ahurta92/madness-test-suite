{
 "cells": [
  {
   "cell_type": "code",
   "execution_count": 5,
   "id": "cb50bb56",
   "metadata": {},
   "outputs": [],
   "source": [
    "from daltonRunner import DaltonRunner"
   ]
  },
  {
   "cell_type": "code",
   "execution_count": 6,
   "id": "8e72e8bd",
   "metadata": {},
   "outputs": [
    {
     "name": "stdout",
     "output_type": "stream",
     "text": [
      "8\n"
     ]
    }
   ],
   "source": [
    "\n",
    "drunner=DaltonRunner()"
   ]
  },
  {
   "cell_type": "code",
   "execution_count": 7,
   "id": "30dca2b1",
   "metadata": {},
   "outputs": [
    {
     "name": "stdout",
     "output_type": "stream",
     "text": [
      "/home/adrianhurtado/anaconda3/bin/mpirun\n",
      "16\n"
     ]
    }
   ],
   "source": [
    "import os\n",
    "import shutil\n",
    "os.path.exists(\"mpirun\")\n",
    "N=shutil.which(\"mpirun\")\n",
    "print(N) \n",
    "print(os.cpu_count()) "
   ]
  },
  {
   "cell_type": "code",
   "execution_count": 16,
   "id": "f3363736",
   "metadata": {},
   "outputs": [
    {
     "name": "stderr",
     "output_type": "stream",
     "text": [
      "File /home/adrianhurtado/testing/madness-test-suite/madness-test-suite/../dalton/hf/O3/dipole/freq_O3-d-aug-cc-pVQZ.out not found!\n"
     ]
    },
    {
     "name": "stdout",
     "output_type": "stream",
     "text": [
      "did not find output file\n",
      "Try and run molecule  O3\n"
     ]
    },
    {
     "ename": "KeyboardInterrupt",
     "evalue": "",
     "output_type": "error",
     "traceback": [
      "\u001b[0;31m---------------------------------------------------------------------------\u001b[0m",
      "\u001b[0;31mFileNotFoundError\u001b[0m                         Traceback (most recent call last)",
      "File \u001b[0;32m~/testing/madness-test-suite/madness-test-suite/daltonRunner.py:206\u001b[0m, in \u001b[0;36mDaltonRunner.get_polar_json\u001b[0;34m(self, mol, xc, operator, basis)\u001b[0m\n\u001b[1;32m    205\u001b[0m \u001b[38;5;28;01mtry\u001b[39;00m:\n\u001b[0;32m--> 206\u001b[0m     \u001b[38;5;28;01mwith\u001b[39;00m \u001b[38;5;28;43mopen\u001b[39;49m\u001b[43m(\u001b[49m\u001b[43moutfile\u001b[49m\u001b[43m,\u001b[49m\u001b[43m \u001b[49m\u001b[38;5;124;43m'\u001b[39;49m\u001b[38;5;124;43mr\u001b[39;49m\u001b[38;5;124;43m'\u001b[39;49m\u001b[43m)\u001b[49m \u001b[38;5;28;01mas\u001b[39;00m daltonOutput:\n\u001b[1;32m    207\u001b[0m         \u001b[38;5;28;01mtry\u001b[39;00m:\n",
      "\u001b[0;31mFileNotFoundError\u001b[0m: [Errno 2] No such file or directory: '/home/adrianhurtado/testing/madness-test-suite/madness-test-suite/../dalton/hf/O3/dipole/freq_O3-d-aug-cc-pVQZ.out'",
      "\nDuring handling of the above exception, another exception occurred:\n",
      "\u001b[0;31mKeyboardInterrupt\u001b[0m                         Traceback (most recent call last)",
      "Input \u001b[0;32mIn [16]\u001b[0m, in \u001b[0;36m<cell line: 1>\u001b[0;34m()\u001b[0m\n\u001b[0;32m----> 1\u001b[0m j\u001b[38;5;241m=\u001b[39m\u001b[43mdrunner\u001b[49m\u001b[38;5;241;43m.\u001b[39;49m\u001b[43mget_polar_json\u001b[49m\u001b[43m(\u001b[49m\u001b[38;5;124;43m'\u001b[39;49m\u001b[38;5;124;43mO3\u001b[39;49m\u001b[38;5;124;43m'\u001b[39;49m\u001b[43m,\u001b[49m\u001b[38;5;124;43m'\u001b[39;49m\u001b[38;5;124;43mhf\u001b[39;49m\u001b[38;5;124;43m'\u001b[39;49m\u001b[43m,\u001b[49m\u001b[38;5;124;43m'\u001b[39;49m\u001b[38;5;124;43mdipole\u001b[39;49m\u001b[38;5;124;43m'\u001b[39;49m\u001b[43m,\u001b[49m\u001b[38;5;124;43m'\u001b[39;49m\u001b[38;5;124;43md-aug-cc-pVQZ\u001b[39;49m\u001b[38;5;124;43m'\u001b[39;49m\u001b[43m)\u001b[49m\n",
      "File \u001b[0;32m~/testing/madness-test-suite/madness-test-suite/daltonRunner.py:223\u001b[0m, in \u001b[0;36mDaltonRunner.get_polar_json\u001b[0;34m(self, mol, xc, operator, basis)\u001b[0m\n\u001b[1;32m    221\u001b[0m \u001b[38;5;28mprint\u001b[39m(\u001b[38;5;124m\"\u001b[39m\u001b[38;5;124mdid not find output file\u001b[39m\u001b[38;5;124m\"\u001b[39m)\n\u001b[1;32m    222\u001b[0m \u001b[38;5;28mprint\u001b[39m(\u001b[38;5;124m\"\u001b[39m\u001b[38;5;124mTry and run molecule \u001b[39m\u001b[38;5;124m\"\u001b[39m, mol)\n\u001b[0;32m--> 223\u001b[0m d_out, d_error \u001b[38;5;241m=\u001b[39m \u001b[38;5;28;43mself\u001b[39;49m\u001b[38;5;241;43m.\u001b[39;49m\u001b[43m__run_dalton\u001b[49m\u001b[43m(\u001b[49m\u001b[43mrun_directory\u001b[49m\u001b[43m,\u001b[49m\u001b[43m \u001b[49m\u001b[43mdal_input\u001b[49m\u001b[43m,\u001b[49m\u001b[43m \u001b[49m\u001b[43mmol_input\u001b[49m\u001b[43m)\u001b[49m\n\u001b[1;32m    224\u001b[0m \u001b[38;5;28mprint\u001b[39m(d_out, d_error)\n\u001b[1;32m    225\u001b[0m \u001b[38;5;28;01mwith\u001b[39;00m \u001b[38;5;28mopen\u001b[39m(outfile, \u001b[38;5;124m'\u001b[39m\u001b[38;5;124mr\u001b[39m\u001b[38;5;124m'\u001b[39m) \u001b[38;5;28;01mas\u001b[39;00m daltonOutput:\n",
      "File \u001b[0;32m~/testing/madness-test-suite/madness-test-suite/daltonRunner.py:98\u001b[0m, in \u001b[0;36mDaltonRunner.__run_dalton\u001b[0;34m(self, rdir, dfile, mfile)\u001b[0m\n\u001b[1;32m     96\u001b[0m     daltonCommand \u001b[38;5;241m=\u001b[39m \u001b[38;5;124m'\u001b[39m\u001b[38;5;124mdalton \u001b[39m\u001b[38;5;124m'\u001b[39m \u001b[38;5;241m+\u001b[39m dfile \u001b[38;5;241m+\u001b[39m \u001b[38;5;124m'\u001b[39m\u001b[38;5;124m \u001b[39m\u001b[38;5;124m'\u001b[39m \u001b[38;5;241m+\u001b[39m mfile\n\u001b[1;32m     97\u001b[0m process \u001b[38;5;241m=\u001b[39m subprocess\u001b[38;5;241m.\u001b[39mPopen(daltonCommand\u001b[38;5;241m.\u001b[39msplit(), stdout\u001b[38;5;241m=\u001b[39msubprocess\u001b[38;5;241m.\u001b[39mPIPE)\n\u001b[0;32m---> 98\u001b[0m output, error \u001b[38;5;241m=\u001b[39m \u001b[43mprocess\u001b[49m\u001b[38;5;241;43m.\u001b[39;49m\u001b[43mcommunicate\u001b[49m\u001b[43m(\u001b[49m\u001b[43m)\u001b[49m\n\u001b[1;32m     99\u001b[0m os\u001b[38;5;241m.\u001b[39mchdir(PROOT)\n\u001b[1;32m    100\u001b[0m \u001b[38;5;28;01mreturn\u001b[39;00m output, error\n",
      "File \u001b[0;32m~/anaconda3/lib/python3.9/subprocess.py:1121\u001b[0m, in \u001b[0;36mPopen.communicate\u001b[0;34m(self, input, timeout)\u001b[0m\n\u001b[1;32m   1119\u001b[0m     \u001b[38;5;28mself\u001b[39m\u001b[38;5;241m.\u001b[39m_stdin_write(\u001b[38;5;28minput\u001b[39m)\n\u001b[1;32m   1120\u001b[0m \u001b[38;5;28;01melif\u001b[39;00m \u001b[38;5;28mself\u001b[39m\u001b[38;5;241m.\u001b[39mstdout:\n\u001b[0;32m-> 1121\u001b[0m     stdout \u001b[38;5;241m=\u001b[39m \u001b[38;5;28;43mself\u001b[39;49m\u001b[38;5;241;43m.\u001b[39;49m\u001b[43mstdout\u001b[49m\u001b[38;5;241;43m.\u001b[39;49m\u001b[43mread\u001b[49m\u001b[43m(\u001b[49m\u001b[43m)\u001b[49m\n\u001b[1;32m   1122\u001b[0m     \u001b[38;5;28mself\u001b[39m\u001b[38;5;241m.\u001b[39mstdout\u001b[38;5;241m.\u001b[39mclose()\n\u001b[1;32m   1123\u001b[0m \u001b[38;5;28;01melif\u001b[39;00m \u001b[38;5;28mself\u001b[39m\u001b[38;5;241m.\u001b[39mstderr:\n",
      "\u001b[0;31mKeyboardInterrupt\u001b[0m: "
     ]
    }
   ],
   "source": [
    "j=drunner.get_polar_json('O3','hf','dipole','d-aug-cc-pVDZ')"
   ]
  },
  {
   "cell_type": "code",
   "execution_count": 15,
   "id": "f8667d21",
   "metadata": {},
   "outputs": [
    {
     "data": {
      "text/plain": [
       "{'d-aug-cc-pVQZ': {'ground': {'calculationType': 'energyCalculation',\n",
       "   'calculationTime': {'cpuTime': 60.515,\n",
       "    'wallTime': 60.574,\n",
       "    'units': 'second'},\n",
       "   'calculationResults': {'totalEnergy': {'value': -56.22395736897,\n",
       "     'units': 'Hartree'},\n",
       "    'nuclearRepulsionEnergy': {'value': 11.953993709534, 'units': 'Hartree'},\n",
       "    'electronEnergy': {'value': -68.177951078504, 'units': 'Hartree'}},\n",
       "   'calculationSetup': {'numberOfElectrons': 10,\n",
       "    'molecularSpinMultiplicity': 1,\n",
       "    'waveFunctionType': 'HF',\n",
       "    'waveFunctionTheory': 'Hartree-Fock',\n",
       "    'charge': 0}},\n",
       "  'response': {'frequencies': [0.0, 0.01704725, 0.0340945, 0.068189, 0.136378],\n",
       "   'values': {'xx': [12.79074240877,\n",
       "     12.80191810767,\n",
       "     12.83560843313,\n",
       "     12.97287803316,\n",
       "     13.56633234951],\n",
       "    'xy': [0, 0, 0, 0, 0],\n",
       "    'xz': [0.0002630687545984,\n",
       "     0.0002641133829991,\n",
       "     0.000267296022667,\n",
       "     0.0002808066668858,\n",
       "     0.0003514340858814],\n",
       "    'yx': [0, 0, 0, 0, 0],\n",
       "    'yy': [12.79119228489,\n",
       "     12.80236908298,\n",
       "     12.83606273179,\n",
       "     12.97334602368,\n",
       "     13.56686235789],\n",
       "    'yz': [0, 0, 0, 0, 0],\n",
       "    'zx': [0, 0, 0, 0, 0],\n",
       "    'zy': [0, 0, 0, 0, 0],\n",
       "    'zz': [13.30135921674,\n",
       "     13.32208923051,\n",
       "     13.38499647037,\n",
       "     13.64802512375,\n",
       "     14.93583607385]},\n",
       "   'calculationTime': {'cpuTime': 1.0, 'wallTime': 1.0, 'units': 'second'}}}}"
      ]
     },
     "execution_count": 15,
     "metadata": {},
     "output_type": "execute_result"
    }
   ],
   "source": [
    "j"
   ]
  },
  {
   "cell_type": "code",
   "execution_count": null,
   "id": "09dba47d",
   "metadata": {},
   "outputs": [],
   "source": []
  },
  {
   "cell_type": "code",
   "execution_count": null,
   "id": "0c77809e",
   "metadata": {},
   "outputs": [],
   "source": []
  },
  {
   "cell_type": "code",
   "execution_count": null,
   "id": "0af5b049",
   "metadata": {},
   "outputs": [],
   "source": []
  },
  {
   "cell_type": "code",
   "execution_count": null,
   "id": "70421905",
   "metadata": {},
   "outputs": [],
   "source": []
  },
  {
   "cell_type": "code",
   "execution_count": null,
   "id": "9e80018f",
   "metadata": {},
   "outputs": [],
   "source": []
  },
  {
   "cell_type": "code",
   "execution_count": null,
   "id": "329c7f7c",
   "metadata": {},
   "outputs": [],
   "source": []
  }
 ],
 "metadata": {
  "kernelspec": {
   "display_name": "Python 3 (ipykernel)",
   "language": "python",
   "name": "python3"
  },
  "language_info": {
   "codemirror_mode": {
    "name": "ipython",
    "version": 3
   },
   "file_extension": ".py",
   "mimetype": "text/x-python",
   "name": "python",
   "nbconvert_exporter": "python",
   "pygments_lexer": "ipython3",
   "version": "3.9.12"
  }
 },
 "nbformat": 4,
 "nbformat_minor": 5
}
