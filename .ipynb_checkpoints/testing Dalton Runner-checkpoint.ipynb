{
 "cells": [
  {
   "cell_type": "code",
   "execution_count": 1,
   "id": "cb50bb56",
   "metadata": {},
   "outputs": [],
   "source": [
    "from daltonRunner import DaltonRunner"
   ]
  },
  {
   "cell_type": "code",
   "execution_count": 2,
   "id": "8e72e8bd",
   "metadata": {},
   "outputs": [],
   "source": [
    "\n",
    "drunner=DaltonRunner()"
   ]
  },
  {
   "cell_type": "code",
   "execution_count": 6,
   "id": "f3afe1af",
   "metadata": {},
   "outputs": [
    {
     "ename": "NameError",
     "evalue": "name 'shutil' is not defined",
     "output_type": "error",
     "traceback": [
      "\u001b[0;31m---------------------------------------------------------------------------\u001b[0m",
      "\u001b[0;31mNameError\u001b[0m                                 Traceback (most recent call last)",
      "Input \u001b[0;32mIn [6]\u001b[0m, in \u001b[0;36m<cell line: 3>\u001b[0;34m()\u001b[0m\n\u001b[1;32m      1\u001b[0m \u001b[38;5;28;01mimport\u001b[39;00m \u001b[38;5;21;01mos\u001b[39;00m\n\u001b[1;32m      2\u001b[0m os\u001b[38;5;241m.\u001b[39mpath\u001b[38;5;241m.\u001b[39mexists(\u001b[38;5;124m\"\u001b[39m\u001b[38;5;124mmpirun\u001b[39m\u001b[38;5;124m\"\u001b[39m)\n\u001b[0;32m----> 3\u001b[0m \u001b[43mshutil\u001b[49m\u001b[38;5;241m.\u001b[39mwhich(\u001b[38;5;124m\"\u001b[39m\u001b[38;5;124mpython\u001b[39m\u001b[38;5;124m\"\u001b[39m)\n",
      "\u001b[0;31mNameError\u001b[0m: name 'shutil' is not defined"
     ]
    }
   ],
   "source": [
    "import os\n",
    "import shutil\n",
    "os.path.exists(\"mpirun\")\n",
    "shutil.which(\"python\")"
   ]
  },
  {
   "cell_type": "code",
   "execution_count": 3,
   "id": "f3363736",
   "metadata": {},
   "outputs": [
    {
     "name": "stderr",
     "output_type": "stream",
     "text": [
      "File /home/adrianhurtado/testing/madness-test-suite/madness-test-suite/../dalton/hf/CH3NH2/dipole/freq_CH3NH2-aug-cc-pVQZ.out not found!\n"
     ]
    },
    {
     "name": "stdout",
     "output_type": "stream",
     "text": [
      "did not find output file\n",
      "Try and run molecule  CH3NH2\n"
     ]
    },
    {
     "ename": "KeyboardInterrupt",
     "evalue": "",
     "output_type": "error",
     "traceback": [
      "\u001b[0;31m---------------------------------------------------------------------------\u001b[0m",
      "\u001b[0;31mFileNotFoundError\u001b[0m                         Traceback (most recent call last)",
      "File \u001b[0;32m~/testing/madness-test-suite/madness-test-suite/daltonRunner.py:194\u001b[0m, in \u001b[0;36mDaltonRunner.get_polar_json\u001b[0;34m(self, mol, xc, operator, basis)\u001b[0m\n\u001b[1;32m    193\u001b[0m \u001b[38;5;28;01mtry\u001b[39;00m:\n\u001b[0;32m--> 194\u001b[0m     \u001b[38;5;28;01mwith\u001b[39;00m \u001b[38;5;28;43mopen\u001b[39;49m\u001b[43m(\u001b[49m\u001b[43moutfile\u001b[49m\u001b[43m,\u001b[49m\u001b[43m \u001b[49m\u001b[38;5;124;43m'\u001b[39;49m\u001b[38;5;124;43mr\u001b[39;49m\u001b[38;5;124;43m'\u001b[39;49m\u001b[43m)\u001b[49m \u001b[38;5;28;01mas\u001b[39;00m daltonOutput:\n\u001b[1;32m    195\u001b[0m         dj \u001b[38;5;241m=\u001b[39m daltonToJson()\n",
      "\u001b[0;31mFileNotFoundError\u001b[0m: [Errno 2] No such file or directory: '/home/adrianhurtado/testing/madness-test-suite/madness-test-suite/../dalton/hf/CH3NH2/dipole/freq_CH3NH2-aug-cc-pVQZ.out'",
      "\nDuring handling of the above exception, another exception occurred:\n",
      "\u001b[0;31mKeyboardInterrupt\u001b[0m                         Traceback (most recent call last)",
      "Input \u001b[0;32mIn [3]\u001b[0m, in \u001b[0;36m<cell line: 1>\u001b[0;34m()\u001b[0m\n\u001b[0;32m----> 1\u001b[0m \u001b[43mdrunner\u001b[49m\u001b[38;5;241;43m.\u001b[39;49m\u001b[43mget_polar_json\u001b[49m\u001b[43m(\u001b[49m\u001b[38;5;124;43m'\u001b[39;49m\u001b[38;5;124;43mCH3NH2\u001b[39;49m\u001b[38;5;124;43m'\u001b[39;49m\u001b[43m,\u001b[49m\u001b[38;5;124;43m'\u001b[39;49m\u001b[38;5;124;43mhf\u001b[39;49m\u001b[38;5;124;43m'\u001b[39;49m\u001b[43m,\u001b[49m\u001b[38;5;124;43m'\u001b[39;49m\u001b[38;5;124;43mdipole\u001b[39;49m\u001b[38;5;124;43m'\u001b[39;49m\u001b[43m,\u001b[49m\u001b[38;5;124;43m'\u001b[39;49m\u001b[38;5;124;43maug-cc-pVQZ\u001b[39;49m\u001b[38;5;124;43m'\u001b[39;49m\u001b[43m)\u001b[49m\n",
      "File \u001b[0;32m~/testing/madness-test-suite/madness-test-suite/daltonRunner.py:201\u001b[0m, in \u001b[0;36mDaltonRunner.get_polar_json\u001b[0;34m(self, mol, xc, operator, basis)\u001b[0m\n\u001b[1;32m    199\u001b[0m \u001b[38;5;28mprint\u001b[39m(\u001b[38;5;124m\"\u001b[39m\u001b[38;5;124mdid not find output file\u001b[39m\u001b[38;5;124m\"\u001b[39m)\n\u001b[1;32m    200\u001b[0m \u001b[38;5;28mprint\u001b[39m(\u001b[38;5;124m\"\u001b[39m\u001b[38;5;124mTry and run molecule \u001b[39m\u001b[38;5;124m\"\u001b[39m, mol)\n\u001b[0;32m--> 201\u001b[0m d_out, d_error \u001b[38;5;241m=\u001b[39m \u001b[38;5;28;43mself\u001b[39;49m\u001b[38;5;241;43m.\u001b[39;49m\u001b[43m__run_dalton\u001b[49m\u001b[43m(\u001b[49m\u001b[43mrun_directory\u001b[49m\u001b[43m,\u001b[49m\u001b[43m \u001b[49m\u001b[43mdal_input\u001b[49m\u001b[43m,\u001b[49m\u001b[43m \u001b[49m\u001b[43mmol_input\u001b[49m\u001b[43m)\u001b[49m\n\u001b[1;32m    202\u001b[0m \u001b[38;5;28mprint\u001b[39m(d_out, d_error)\n\u001b[1;32m    203\u001b[0m \u001b[38;5;28;01mwith\u001b[39;00m \u001b[38;5;28mopen\u001b[39m(outfile, \u001b[38;5;124m'\u001b[39m\u001b[38;5;124mr\u001b[39m\u001b[38;5;124m'\u001b[39m) \u001b[38;5;28;01mas\u001b[39;00m daltonOutput:\n",
      "File \u001b[0;32m~/testing/madness-test-suite/madness-test-suite/daltonRunner.py:86\u001b[0m, in \u001b[0;36mDaltonRunner.__run_dalton\u001b[0;34m(self, rdir, dfile, mfile)\u001b[0m\n\u001b[1;32m     84\u001b[0m daltonCommand \u001b[38;5;241m=\u001b[39m \u001b[38;5;124m'\u001b[39m\u001b[38;5;124mdalton \u001b[39m\u001b[38;5;124m'\u001b[39m \u001b[38;5;241m+\u001b[39m dfile \u001b[38;5;241m+\u001b[39m \u001b[38;5;124m'\u001b[39m\u001b[38;5;124m \u001b[39m\u001b[38;5;124m'\u001b[39m \u001b[38;5;241m+\u001b[39m mfile\n\u001b[1;32m     85\u001b[0m process \u001b[38;5;241m=\u001b[39m subprocess\u001b[38;5;241m.\u001b[39mPopen(daltonCommand\u001b[38;5;241m.\u001b[39msplit(), stdout\u001b[38;5;241m=\u001b[39msubprocess\u001b[38;5;241m.\u001b[39mPIPE)\n\u001b[0;32m---> 86\u001b[0m output, error \u001b[38;5;241m=\u001b[39m \u001b[43mprocess\u001b[49m\u001b[38;5;241;43m.\u001b[39;49m\u001b[43mcommunicate\u001b[49m\u001b[43m(\u001b[49m\u001b[43m)\u001b[49m\n\u001b[1;32m     87\u001b[0m os\u001b[38;5;241m.\u001b[39mchdir(PROOT)\n\u001b[1;32m     88\u001b[0m \u001b[38;5;28;01mreturn\u001b[39;00m output, error\n",
      "File \u001b[0;32m~/anaconda3/lib/python3.9/subprocess.py:1121\u001b[0m, in \u001b[0;36mPopen.communicate\u001b[0;34m(self, input, timeout)\u001b[0m\n\u001b[1;32m   1119\u001b[0m     \u001b[38;5;28mself\u001b[39m\u001b[38;5;241m.\u001b[39m_stdin_write(\u001b[38;5;28minput\u001b[39m)\n\u001b[1;32m   1120\u001b[0m \u001b[38;5;28;01melif\u001b[39;00m \u001b[38;5;28mself\u001b[39m\u001b[38;5;241m.\u001b[39mstdout:\n\u001b[0;32m-> 1121\u001b[0m     stdout \u001b[38;5;241m=\u001b[39m \u001b[38;5;28;43mself\u001b[39;49m\u001b[38;5;241;43m.\u001b[39;49m\u001b[43mstdout\u001b[49m\u001b[38;5;241;43m.\u001b[39;49m\u001b[43mread\u001b[49m\u001b[43m(\u001b[49m\u001b[43m)\u001b[49m\n\u001b[1;32m   1122\u001b[0m     \u001b[38;5;28mself\u001b[39m\u001b[38;5;241m.\u001b[39mstdout\u001b[38;5;241m.\u001b[39mclose()\n\u001b[1;32m   1123\u001b[0m \u001b[38;5;28;01melif\u001b[39;00m \u001b[38;5;28mself\u001b[39m\u001b[38;5;241m.\u001b[39mstderr:\n",
      "\u001b[0;31mKeyboardInterrupt\u001b[0m: "
     ]
    }
   ],
   "source": [
    "\n",
    "drunner.get_polar_json('CH3NH2','hf','dipole','aug-cc-pVQZ')"
   ]
  },
  {
   "cell_type": "code",
   "execution_count": 4,
   "id": "f8667d21",
   "metadata": {},
   "outputs": [
    {
     "name": "stdout",
     "output_type": "stream",
     "text": [
      "{\n",
      "  \"simulation\": {\n",
      "    \"calculations\": [\n",
      "      {\n",
      "        \"calculationType\": \"energyCalculation\",\n",
      "        \"calculationTime\": {\n",
      "          \"cpuTime\": 203.761,\n",
      "          \"wallTime\": 204.375,\n",
      "          \"units\": \"second\"\n",
      "        },\n",
      "        \"calculationResults\": {\n",
      "          \"totalEnergy\": {\n",
      "            \"value\": -95.26146532799,\n",
      "            \"units\": \"Hartree\"\n",
      "          },\n",
      "          \"nuclearRepulsionEnergy\": {\n",
      "            \"value\": 42.095892670917,\n",
      "            \"units\": \"Hartree\"\n",
      "          },\n",
      "          \"electronEnergy\": {\n",
      "            \"value\": -137.357357998906,\n",
      "            \"units\": \"Hartree\"\n",
      "          }\n",
      "        },\n",
      "        \"calculationSetup\": {\n",
      "          \"numberOfElectrons\": 18,\n",
      "          \"molecularSpinMultiplicity\": 1,\n",
      "          \"waveFunctionType\": \"HF\",\n",
      "          \"waveFunctionTheory\": \"Hartree-Fock\",\n",
      "          \"charge\": 0\n",
      "        }\n",
      "      },\n",
      "      {\n",
      "        \"calculationType\": \"LinearResponse\",\n",
      "        \"calculationTime\": {\n",
      "          \"cpuTime\": 12.0,\n",
      "          \"wallTime\": 12.0,\n",
      "          \"units\": \"second\"\n",
      "        },\n",
      "        \"calculationResults\": {\n",
      "          \"xx\": [\n",
      "            22.77366294503,\n",
      "            22.79479174662,\n",
      "            22.85860121989,\n",
      "            23.12044673959,\n",
      "            24.29414339453\n",
      "          ],\n",
      "          \"xy\": [\n",
      "            0,\n",
      "            0,\n",
      "            0,\n",
      "            0,\n",
      "            0\n",
      "          ],\n",
      "          \"xz\": [\n",
      "            -0.02700539277676,\n",
      "            -0.02514773755415,\n",
      "            -0.01948826200044,\n",
      "            0.004513281272345,\n",
      "            0.1274246213554\n",
      "          ],\n",
      "          \"yx\": [\n",
      "            0,\n",
      "            0,\n",
      "            0,\n",
      "            0,\n",
      "            0\n",
      "          ],\n",
      "          \"yy\": [\n",
      "            22.90317876879,\n",
      "            22.92009142682,\n",
      "            22.97103412391,\n",
      "            23.17793788562,\n",
      "            24.060006159\n",
      "          ],\n",
      "          \"yz\": [\n",
      "            0,\n",
      "            0,\n",
      "            0,\n",
      "            0,\n",
      "            0\n",
      "          ],\n",
      "          \"zx\": [\n",
      "            0,\n",
      "            0,\n",
      "            0,\n",
      "            0,\n",
      "            0\n",
      "          ],\n",
      "          \"zy\": [\n",
      "            0,\n",
      "            0,\n",
      "            0,\n",
      "            0,\n",
      "            0\n",
      "          ],\n",
      "          \"zz\": [\n",
      "            26.35803565929,\n",
      "            26.38036901781,\n",
      "            26.44769567682,\n",
      "            26.7220314874,\n",
      "            27.90928990368\n",
      "          ]\n",
      "        },\n",
      "        \"calculationSetup\": {\n",
      "          \"frequencies\": [\n",
      "            0.0,\n",
      "            0.0159075,\n",
      "            0.031815,\n",
      "            0.06363,\n",
      "            0.12726\n",
      "          ],\n",
      "          \"numFrequencies\": 5\n",
      "        }\n",
      "      }\n",
      "    ],\n",
      "    \"simulationTime\": {\n",
      "      \"cpuTime\": 16.0,\n",
      "      \"wallTime\": 16.0,\n",
      "      \"units\": \"second\"\n",
      "    }\n",
      "  }\n",
      "}\n",
      "{'ground': {'calculationType': 'energyCalculation', 'calculationTime': {'cpuTime': 203.761, 'wallTime': 204.375, 'units': 'second'}, 'calculationResults': {'totalEnergy': {'value': -95.26146532799, 'units': 'Hartree'}, 'nuclearRepulsionEnergy': {'value': 42.095892670917, 'units': 'Hartree'}, 'electronEnergy': {'value': -137.357357998906, 'units': 'Hartree'}}, 'calculationSetup': {'numberOfElectrons': 18, 'molecularSpinMultiplicity': 1, 'waveFunctionType': 'HF', 'waveFunctionTheory': 'Hartree-Fock', 'charge': 0}}, 'response': {'frequencies': [0.0, 0.0159075, 0.031815, 0.06363, 0.12726], 'values': {'xx': [22.77366294503, 22.79479174662, 22.85860121989, 23.12044673959, 24.29414339453], 'xy': [0, 0, 0, 0, 0], 'xz': [-0.02700539277676, -0.02514773755415, -0.01948826200044, 0.004513281272345, 0.1274246213554], 'yx': [0, 0, 0, 0, 0], 'yy': [22.90317876879, 22.92009142682, 22.97103412391, 23.17793788562, 24.060006159], 'yz': [0, 0, 0, 0, 0], 'zx': [0, 0, 0, 0, 0], 'zy': [0, 0, 0, 0, 0], 'zz': [26.35803565929, 26.38036901781, 26.44769567682, 26.7220314874, 27.90928990368]}, 'calculationTime': {'cpuTime': 12.0, 'wallTime': 12.0, 'units': 'second'}}}\n"
     ]
    },
    {
     "data": {
      "text/plain": [
       "(basis                     aug-cc-pVQZ\n",
       " totalEnergy                -95.261465\n",
       " nuclearRepulsionEnergy      42.095893\n",
       " electronEnergy            -137.357358\n",
       " gcpuTime                      203.761\n",
       " gwallTime                     204.375\n",
       " rcpuTime                         12.0\n",
       " rwallTime                        12.0\n",
       " numberOfElectrons                  18\n",
       " dtype: object,\n",
       "    frequencies         xx  xy        xz  yx         yy  yz  zx  zy         zz\n",
       " 0     0.000000  22.773663   0 -0.027005   0  22.903179   0   0   0  26.358036\n",
       " 1     0.015908  22.794792   0 -0.025148   0  22.920091   0   0   0  26.380369\n",
       " 2     0.031815  22.858601   0 -0.019488   0  22.971034   0   0   0  26.447696\n",
       " 3     0.063630  23.120447   0  0.004513   0  23.177938   0   0   0  26.722031\n",
       " 4     0.127260  24.294143   0  0.127425   0  24.060006   0   0   0  27.909290)"
      ]
     },
     "execution_count": 4,
     "metadata": {},
     "output_type": "execute_result"
    }
   ],
   "source": [
    "drunner.getDaltonFrequencyResults('CH3NH2','hf','dipole','aug-cc-pVQZ')"
   ]
  },
  {
   "cell_type": "code",
   "execution_count": null,
   "id": "09dba47d",
   "metadata": {},
   "outputs": [],
   "source": []
  },
  {
   "cell_type": "code",
   "execution_count": null,
   "id": "0c77809e",
   "metadata": {},
   "outputs": [],
   "source": []
  },
  {
   "cell_type": "code",
   "execution_count": null,
   "id": "0af5b049",
   "metadata": {},
   "outputs": [],
   "source": []
  },
  {
   "cell_type": "code",
   "execution_count": null,
   "id": "70421905",
   "metadata": {},
   "outputs": [],
   "source": []
  },
  {
   "cell_type": "code",
   "execution_count": null,
   "id": "9e80018f",
   "metadata": {},
   "outputs": [],
   "source": []
  },
  {
   "cell_type": "code",
   "execution_count": null,
   "id": "329c7f7c",
   "metadata": {},
   "outputs": [],
   "source": []
  }
 ],
 "metadata": {
  "kernelspec": {
   "display_name": "Python 3 (ipykernel)",
   "language": "python",
   "name": "python3"
  },
  "language_info": {
   "codemirror_mode": {
    "name": "ipython",
    "version": 3
   },
   "file_extension": ".py",
   "mimetype": "text/x-python",
   "name": "python",
   "nbconvert_exporter": "python",
   "pygments_lexer": "ipython3",
   "version": "3.9.12"
  }
 },
 "nbformat": 4,
 "nbformat_minor": 5
}
