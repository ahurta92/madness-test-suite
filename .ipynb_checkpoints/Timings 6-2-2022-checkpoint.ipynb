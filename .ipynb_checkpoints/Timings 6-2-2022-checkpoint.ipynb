{
 "cells": [
  {
   "cell_type": "code",
   "execution_count": 1,
   "id": "cb50bb56",
   "metadata": {
    "pycharm": {
     "name": "#%%\n"
    }
   },
   "outputs": [
    {
     "name": "stdout",
     "output_type": "stream",
     "text": [
      "/home/adrianhurtado/testing/madness-test-suite/timings-6-3-22\n",
      "/home/adrianhurtado/testing/madness-test-suite/timings-6-3-22/../dalton/\n",
      "/home/adrianhurtado/testing/madness-test-suite/timings-6-3-22\n"
     ]
    }
   ],
   "source": [
    "import os\n",
    "import pandas as pd\n",
    "os.chdir(\"/home/adrianhurtado/testing/madness-test-suite/timings-6-3-22\")\n",
    "from madnessReader import MadnessReader\n",
    "from madnessReader import ExcitedData\n",
    "from madnessReader import FrequencyData\n",
    "from daltonRunner import DaltonRunner\n",
    "dalton_reader = DaltonRunner()"
   ]
  },
  {
   "cell_type": "code",
   "execution_count": 2,
   "id": "8e72e8bd",
   "metadata": {
    "pycharm": {
     "name": "#%%\n"
    }
   },
   "outputs": [],
   "source": [
    "basis_list=['aug-cc-pVDZ','aug-cc-pVTZ','aug-cc-pVQZ','aug-cc-pV5Z','aug-cc-pV6Z']\n",
    "d_basis_list=['d-aug-cc-pVDZ','d-aug-cc-pVTZ','d-aug-cc-pVQZ','d-aug-cc-pV5Z','d-aug-cc-pV6Z']"
   ]
  },
  {
   "cell_type": "code",
   "execution_count": 3,
   "id": "f3363736",
   "metadata": {
    "pycharm": {
     "name": "#%%\n"
    }
   },
   "outputs": [],
   "source": [
    "def create_polar_table(mol,xc,basis_list,xx):\n",
    "    \n",
    "    ground_dalton, response_dalton = dalton_reader.get_frequency_result(mol, 'hf', 'dipole', basis_list[0])\n",
    "    freq=response_dalton['frequencies']\n",
    "    g_data={}\n",
    "    xx_data=[]\n",
    "    for i in range(len(freq)):\n",
    "        xx_data.append({})\n",
    "    for basis in basis_list:\n",
    "        ground_dalton, response_dalton = dalton_reader.get_frequency_result(mol, 'hf', 'dipole', basis)\n",
    "        for i in range(len(freq)):\n",
    "            xx_data[i][basis]=response_dalton[xx][i]\n",
    "        g_data[basis]=ground_dalton['totalEnergy']\n",
    "    g_df=pd.Series(g_data)\n",
    "    g_df.name='Total HF Energy'\n",
    "    names=[]\n",
    "    for f in freq:\n",
    "        raw_f = r'{}'.format(str(f)) \n",
    "        #names.append(r'$$\\alpha_{xx}('+raw_f+r')$$')\n",
    "        names.append('a('+'{:.3f}'.format(f)+')')\n",
    "    r_dfs=[]\n",
    "    for i in range(len(freq)):\n",
    "        r_dfs.append(pd.Series(xx_data[i]))\n",
    "        r_dfs[i].name=names[i]\n",
    "    dalton_df=pd.concat([g_df]+r_dfs,axis=1)\n",
    "\n",
    "    moldata=FrequencyData(mol,'hf','dipole')\n",
    "    moldata.polar_df[xx]\n",
    "    mad_data_e={}\n",
    "    mad_data_r={}\n",
    "    mad_data_e['Total HF Energy']=moldata.ground_e['e_tot']\n",
    "\n",
    "    for i in range(len(names)):\n",
    "        mad_data_r[names[i]]=moldata.polar_df[xx][i]\n",
    "    \n",
    "    mad_data_e=pd.Series(mad_data_e)\n",
    "    mad_data_r=pd.Series(mad_data_r)\n",
    "    \n",
    "    mad_data=pd.concat([mad_data_e,mad_data_r],axis=0)\n",
    "    mad_data.name='MRA'\n",
    "    return dalton_df.append(mad_data)\n",
    "    \n",
    "    return dalton_df"
   ]
  },
  {
   "cell_type": "code",
   "execution_count": 4,
   "id": "804e6079",
   "metadata": {
    "pycharm": {
     "name": "#%%\n"
    }
   },
   "outputs": [
    {
     "name": "stdout",
     "output_type": "stream",
     "text": [
      "/home/adrianhurtado/testing/madness-test-suite/timings-6-3-22/../dalton/hf/Ne/dipole/freq.dal\n",
      "/home/adrianhurtado/testing/madness-test-suite/timings-6-3-22/../dalton/hf/Ne/dipole/freq.dal\n",
      "/home/adrianhurtado/testing/madness-test-suite/timings-6-3-22/../dalton/hf/Ne/dipole/freq.dal\n",
      "/home/adrianhurtado/testing/madness-test-suite/timings-6-3-22/../dalton/hf/Ne/dipole/freq.dal\n",
      "/home/adrianhurtado/testing/madness-test-suite/timings-6-3-22/../dalton/hf/Ne/dipole/freq.dal\n",
      "/home/adrianhurtado/testing/madness-test-suite/timings-6-3-22/../dalton/hf/Ne/dipole/freq.dal\n",
      "mad_path /home/adrianhurtado/testing/madness-test-suite/timings-6-3-22/hf/Ne/calc_info.json\n"
     ]
    },
    {
     "data": {
      "text/html": [
       "<div>\n",
       "<style scoped>\n",
       "    .dataframe tbody tr th:only-of-type {\n",
       "        vertical-align: middle;\n",
       "    }\n",
       "\n",
       "    .dataframe tbody tr th {\n",
       "        vertical-align: top;\n",
       "    }\n",
       "\n",
       "    .dataframe thead th {\n",
       "        text-align: right;\n",
       "    }\n",
       "</style>\n",
       "<table border=\"1\" class=\"dataframe\">\n",
       "  <thead>\n",
       "    <tr style=\"text-align: right;\">\n",
       "      <th></th>\n",
       "      <th>Total HF Energy</th>\n",
       "      <th>a(0.000)</th>\n",
       "      <th>a(0.046)</th>\n",
       "      <th>a(0.092)</th>\n",
       "      <th>a(0.184)</th>\n",
       "      <th>a(0.369)</th>\n",
       "    </tr>\n",
       "  </thead>\n",
       "  <tbody>\n",
       "    <tr>\n",
       "      <th>aug-cc-pVDZ</th>\n",
       "      <td>-128.496350</td>\n",
       "      <td>1.831917</td>\n",
       "      <td>1.834578</td>\n",
       "      <td>1.842658</td>\n",
       "      <td>1.876532</td>\n",
       "      <td>2.044189</td>\n",
       "    </tr>\n",
       "    <tr>\n",
       "      <th>aug-cc-pVTZ</th>\n",
       "      <td>-128.533273</td>\n",
       "      <td>2.193942</td>\n",
       "      <td>2.197366</td>\n",
       "      <td>2.207755</td>\n",
       "      <td>2.251182</td>\n",
       "      <td>2.463809</td>\n",
       "    </tr>\n",
       "    <tr>\n",
       "      <th>aug-cc-pVQZ</th>\n",
       "      <td>-128.543756</td>\n",
       "      <td>2.328988</td>\n",
       "      <td>2.332972</td>\n",
       "      <td>2.345061</td>\n",
       "      <td>2.395566</td>\n",
       "      <td>2.642308</td>\n",
       "    </tr>\n",
       "    <tr>\n",
       "      <th>aug-cc-pV5Z</th>\n",
       "      <td>-128.546786</td>\n",
       "      <td>2.363141</td>\n",
       "      <td>2.367415</td>\n",
       "      <td>2.380388</td>\n",
       "      <td>2.434655</td>\n",
       "      <td>2.701346</td>\n",
       "    </tr>\n",
       "    <tr>\n",
       "      <th>aug-cc-pV6Z</th>\n",
       "      <td>-128.547062</td>\n",
       "      <td>2.369781</td>\n",
       "      <td>2.374146</td>\n",
       "      <td>2.387398</td>\n",
       "      <td>2.442887</td>\n",
       "      <td>2.716927</td>\n",
       "    </tr>\n",
       "    <tr>\n",
       "      <th>MRA</th>\n",
       "      <td>-128.546998</td>\n",
       "      <td>2.376718</td>\n",
       "      <td>2.381183</td>\n",
       "      <td>2.394755</td>\n",
       "      <td>2.451837</td>\n",
       "      <td>2.736193</td>\n",
       "    </tr>\n",
       "  </tbody>\n",
       "</table>\n",
       "</div>"
      ],
      "text/plain": [
       "             Total HF Energy  a(0.000)  a(0.046)  a(0.092)  a(0.184)  a(0.369)\n",
       "aug-cc-pVDZ      -128.496350  1.831917  1.834578  1.842658  1.876532  2.044189\n",
       "aug-cc-pVTZ      -128.533273  2.193942  2.197366  2.207755  2.251182  2.463809\n",
       "aug-cc-pVQZ      -128.543756  2.328988  2.332972  2.345061  2.395566  2.642308\n",
       "aug-cc-pV5Z      -128.546786  2.363141  2.367415  2.380388  2.434655  2.701346\n",
       "aug-cc-pV6Z      -128.547062  2.369781  2.374146  2.387398  2.442887  2.716927\n",
       "MRA              -128.546998  2.376718  2.381183  2.394755  2.451837  2.736193"
      ]
     },
     "execution_count": 4,
     "metadata": {},
     "output_type": "execute_result"
    }
   ],
   "source": [
    "create_polar_table('Ne','hf',basis_list,'xx')"
   ]
  },
  {
   "cell_type": "code",
   "execution_count": null,
   "id": "144cf671",
   "metadata": {
    "pycharm": {
     "name": "#%%\n"
    }
   },
   "outputs": [],
   "source": []
  },
  {
   "cell_type": "code",
   "execution_count": null,
   "id": "d87491db",
   "metadata": {},
   "outputs": [],
   "source": []
  },
  {
   "cell_type": "code",
   "execution_count": null,
   "id": "f6be8489",
   "metadata": {},
   "outputs": [],
   "source": []
  },
  {
   "cell_type": "code",
   "execution_count": 5,
   "id": "08b80fd3",
   "metadata": {},
   "outputs": [
    {
     "name": "stdout",
     "output_type": "stream",
     "text": [
      "/home/adrianhurtado/testing/madness-test-suite/timings-6-3-22/../dalton/hf/He/dipole/freq.dal\n",
      "/home/adrianhurtado/testing/madness-test-suite/timings-6-3-22/../dalton/hf/He/dipole/freq.dal\n",
      "/home/adrianhurtado/testing/madness-test-suite/timings-6-3-22/../dalton/hf/He/dipole/freq.dal\n",
      "/home/adrianhurtado/testing/madness-test-suite/timings-6-3-22/../dalton/hf/He/dipole/freq.dal\n",
      "/home/adrianhurtado/testing/madness-test-suite/timings-6-3-22/../dalton/hf/He/dipole/freq.dal\n",
      "/home/adrianhurtado/testing/madness-test-suite/timings-6-3-22/../dalton/hf/He/dipole/freq.dal\n",
      "mad_path /home/adrianhurtado/testing/madness-test-suite/timings-6-3-22/hf/He/calc_info.json\n"
     ]
    },
    {
     "data": {
      "text/html": [
       "<div>\n",
       "<style scoped>\n",
       "    .dataframe tbody tr th:only-of-type {\n",
       "        vertical-align: middle;\n",
       "    }\n",
       "\n",
       "    .dataframe tbody tr th {\n",
       "        vertical-align: top;\n",
       "    }\n",
       "\n",
       "    .dataframe thead th {\n",
       "        text-align: right;\n",
       "    }\n",
       "</style>\n",
       "<table border=\"1\" class=\"dataframe\">\n",
       "  <thead>\n",
       "    <tr style=\"text-align: right;\">\n",
       "      <th></th>\n",
       "      <th>a(0.000)</th>\n",
       "      <th>a(0.049)</th>\n",
       "      <th>a(0.099)</th>\n",
       "      <th>a(0.198)</th>\n",
       "      <th>a(0.395)</th>\n",
       "    </tr>\n",
       "  </thead>\n",
       "  <tbody>\n",
       "    <tr>\n",
       "      <th>aug-cc-pVDZ</th>\n",
       "      <td>1.303925</td>\n",
       "      <td>1.306791</td>\n",
       "      <td>1.315466</td>\n",
       "      <td>1.351399</td>\n",
       "      <td>1.518182</td>\n",
       "    </tr>\n",
       "    <tr>\n",
       "      <th>aug-cc-pVTZ</th>\n",
       "      <td>1.315968</td>\n",
       "      <td>1.319136</td>\n",
       "      <td>1.328739</td>\n",
       "      <td>1.368724</td>\n",
       "      <td>1.558825</td>\n",
       "    </tr>\n",
       "    <tr>\n",
       "      <th>aug-cc-pVQZ</th>\n",
       "      <td>1.321550</td>\n",
       "      <td>1.324887</td>\n",
       "      <td>1.335014</td>\n",
       "      <td>1.377334</td>\n",
       "      <td>1.582284</td>\n",
       "    </tr>\n",
       "    <tr>\n",
       "      <th>aug-cc-pV5Z</th>\n",
       "      <td>1.321232</td>\n",
       "      <td>1.324620</td>\n",
       "      <td>1.334904</td>\n",
       "      <td>1.377967</td>\n",
       "      <td>1.588567</td>\n",
       "    </tr>\n",
       "    <tr>\n",
       "      <th>aug-cc-pV6Z</th>\n",
       "      <td>1.321432</td>\n",
       "      <td>1.324824</td>\n",
       "      <td>1.335126</td>\n",
       "      <td>1.378290</td>\n",
       "      <td>1.590172</td>\n",
       "    </tr>\n",
       "    <tr>\n",
       "      <th>MRA</th>\n",
       "      <td>1.322443</td>\n",
       "      <td>1.325867</td>\n",
       "      <td>1.336182</td>\n",
       "      <td>1.379437</td>\n",
       "      <td>1.593004</td>\n",
       "    </tr>\n",
       "  </tbody>\n",
       "</table>\n",
       "</div>"
      ],
      "text/plain": [
       "             a(0.000)  a(0.049)  a(0.099)  a(0.198)  a(0.395)\n",
       "aug-cc-pVDZ  1.303925  1.306791  1.315466  1.351399  1.518182\n",
       "aug-cc-pVTZ  1.315968  1.319136  1.328739  1.368724  1.558825\n",
       "aug-cc-pVQZ  1.321550  1.324887  1.335014  1.377334  1.582284\n",
       "aug-cc-pV5Z  1.321232  1.324620  1.334904  1.377967  1.588567\n",
       "aug-cc-pV6Z  1.321432  1.324824  1.335126  1.378290  1.590172\n",
       "MRA          1.322443  1.325867  1.336182  1.379437  1.593004"
      ]
     },
     "execution_count": 5,
     "metadata": {},
     "output_type": "execute_result"
    }
   ],
   "source": [
    "create_polar_table('He','hf',basis_list,'xx').iloc[:,1:]\n"
   ]
  },
  {
   "cell_type": "code",
   "execution_count": 6,
   "id": "ceec2336",
   "metadata": {},
   "outputs": [
    {
     "name": "stdout",
     "output_type": "stream",
     "text": [
      "/home/adrianhurtado/testing/madness-test-suite/timings-6-3-22/../dalton/hf/H2O/dipole/freq.dal\n",
      "/home/adrianhurtado/testing/madness-test-suite/timings-6-3-22/../dalton/hf/H2O/dipole/freq.dal\n",
      "/home/adrianhurtado/testing/madness-test-suite/timings-6-3-22/../dalton/hf/H2O/dipole/freq.dal\n",
      "/home/adrianhurtado/testing/madness-test-suite/timings-6-3-22/../dalton/hf/H2O/dipole/freq.dal\n",
      "/home/adrianhurtado/testing/madness-test-suite/timings-6-3-22/../dalton/hf/H2O/dipole/freq.dal\n",
      "/home/adrianhurtado/testing/madness-test-suite/timings-6-3-22/../dalton/hf/H2O/dipole/freq.dal\n",
      "mad_path /home/adrianhurtado/testing/madness-test-suite/timings-6-3-22/hf/H2O/calc_info.json\n"
     ]
    },
    {
     "data": {
      "text/html": [
       "<div>\n",
       "<style scoped>\n",
       "    .dataframe tbody tr th:only-of-type {\n",
       "        vertical-align: middle;\n",
       "    }\n",
       "\n",
       "    .dataframe tbody tr th {\n",
       "        vertical-align: top;\n",
       "    }\n",
       "\n",
       "    .dataframe thead th {\n",
       "        text-align: right;\n",
       "    }\n",
       "</style>\n",
       "<table border=\"1\" class=\"dataframe\">\n",
       "  <thead>\n",
       "    <tr style=\"text-align: right;\">\n",
       "      <th></th>\n",
       "      <th>a(0.000)</th>\n",
       "      <th>a(0.020)</th>\n",
       "      <th>a(0.040)</th>\n",
       "      <th>a(0.079)</th>\n",
       "      <th>a(0.159)</th>\n",
       "    </tr>\n",
       "  </thead>\n",
       "  <tbody>\n",
       "    <tr>\n",
       "      <th>aug-cc-pVDZ</th>\n",
       "      <td>7.325093</td>\n",
       "      <td>7.334490</td>\n",
       "      <td>7.362996</td>\n",
       "      <td>7.482065</td>\n",
       "      <td>8.063255</td>\n",
       "    </tr>\n",
       "    <tr>\n",
       "      <th>aug-cc-pVTZ</th>\n",
       "      <td>7.723695</td>\n",
       "      <td>7.733549</td>\n",
       "      <td>7.763425</td>\n",
       "      <td>7.887907</td>\n",
       "      <td>8.488541</td>\n",
       "    </tr>\n",
       "    <tr>\n",
       "      <th>aug-cc-pVQZ</th>\n",
       "      <td>7.847663</td>\n",
       "      <td>7.857854</td>\n",
       "      <td>7.888747</td>\n",
       "      <td>8.017363</td>\n",
       "      <td>8.635463</td>\n",
       "    </tr>\n",
       "    <tr>\n",
       "      <th>aug-cc-pV5Z</th>\n",
       "      <td>7.881032</td>\n",
       "      <td>7.891395</td>\n",
       "      <td>7.922805</td>\n",
       "      <td>8.053553</td>\n",
       "      <td>8.681258</td>\n",
       "    </tr>\n",
       "    <tr>\n",
       "      <th>aug-cc-pV6Z</th>\n",
       "      <td>7.893305</td>\n",
       "      <td>7.903762</td>\n",
       "      <td>7.935458</td>\n",
       "      <td>8.067406</td>\n",
       "      <td>8.700929</td>\n",
       "    </tr>\n",
       "    <tr>\n",
       "      <th>MRA</th>\n",
       "      <td>7.546772</td>\n",
       "      <td>7.556932</td>\n",
       "      <td>7.587169</td>\n",
       "      <td>7.714033</td>\n",
       "      <td>8.294464</td>\n",
       "    </tr>\n",
       "  </tbody>\n",
       "</table>\n",
       "</div>"
      ],
      "text/plain": [
       "             a(0.000)  a(0.020)  a(0.040)  a(0.079)  a(0.159)\n",
       "aug-cc-pVDZ  7.325093  7.334490  7.362996  7.482065  8.063255\n",
       "aug-cc-pVTZ  7.723695  7.733549  7.763425  7.887907  8.488541\n",
       "aug-cc-pVQZ  7.847663  7.857854  7.888747  8.017363  8.635463\n",
       "aug-cc-pV5Z  7.881032  7.891395  7.922805  8.053553  8.681258\n",
       "aug-cc-pV6Z  7.893305  7.903762  7.935458  8.067406  8.700929\n",
       "MRA          7.546772  7.556932  7.587169  7.714033  8.294464"
      ]
     },
     "execution_count": 6,
     "metadata": {},
     "output_type": "execute_result"
    }
   ],
   "source": [
    "create_polar_table('H2O','hf',basis_list,'xx').iloc[:,1:]\n"
   ]
  },
  {
   "cell_type": "code",
   "execution_count": 7,
   "id": "b0a2c9d7",
   "metadata": {},
   "outputs": [
    {
     "name": "stdout",
     "output_type": "stream",
     "text": [
      "mad_path /home/adrianhurtado/testing/madness-test-suite/timings-6-3-22/hf/Be/calc_info.json\n",
      "/home/adrianhurtado/testing/madness-test-suite/timings-6-3-22/../dalton/hf/Be/dipole/freq.dal\n",
      "/home/adrianhurtado/testing/madness-test-suite/timings-6-3-22/../dalton/hf/Be/dipole/freq.dal\n",
      "/home/adrianhurtado/testing/madness-test-suite/timings-6-3-22/../dalton/hf/Be/dipole/freq.dal\n",
      "/home/adrianhurtado/testing/madness-test-suite/timings-6-3-22/../dalton/hf/Be/dipole/freq.dal\n",
      "mad_path /home/adrianhurtado/testing/madness-test-suite/timings-6-3-22/hf/Be/calc_info.json\n",
      "/home/adrianhurtado/testing/madness-test-suite/timings-6-3-22/../dalton/hf/Be/dipole/freq.dal\n",
      "/home/adrianhurtado/testing/madness-test-suite/timings-6-3-22/../dalton/hf/Be/dipole/freq.dal\n",
      "/home/adrianhurtado/testing/madness-test-suite/timings-6-3-22/../dalton/hf/Be/dipole/freq.dal\n",
      "/home/adrianhurtado/testing/madness-test-suite/timings-6-3-22/../dalton/hf/Be/dipole/freq.dal\n",
      "mad_path /home/adrianhurtado/testing/madness-test-suite/timings-6-3-22/hf/Be/calc_info.json\n",
      "/home/adrianhurtado/testing/madness-test-suite/timings-6-3-22/../dalton/hf/Be/dipole/freq.dal\n",
      "/home/adrianhurtado/testing/madness-test-suite/timings-6-3-22/../dalton/hf/Be/dipole/freq.dal\n",
      "/home/adrianhurtado/testing/madness-test-suite/timings-6-3-22/../dalton/hf/Be/dipole/freq.dal\n",
      "/home/adrianhurtado/testing/madness-test-suite/timings-6-3-22/../dalton/hf/Be/dipole/freq.dal\n",
      "mad_path /home/adrianhurtado/testing/madness-test-suite/timings-6-3-22/hf/Be/calc_info.json\n"
     ]
    },
    {
     "data": {
      "text/html": [
       "<div>\n",
       "<style scoped>\n",
       "    .dataframe tbody tr th:only-of-type {\n",
       "        vertical-align: middle;\n",
       "    }\n",
       "\n",
       "    .dataframe tbody tr th {\n",
       "        vertical-align: top;\n",
       "    }\n",
       "\n",
       "    .dataframe thead th {\n",
       "        text-align: right;\n",
       "    }\n",
       "</style>\n",
       "<table border=\"1\" class=\"dataframe\">\n",
       "  <thead>\n",
       "    <tr style=\"text-align: right;\">\n",
       "      <th></th>\n",
       "      <th>Total HF Energy</th>\n",
       "      <th>a(0.000)</th>\n",
       "      <th>a(0.011)</th>\n",
       "      <th>a(0.022)</th>\n",
       "      <th>a(0.044)</th>\n",
       "      <th>a(0.089)</th>\n",
       "    </tr>\n",
       "  </thead>\n",
       "  <tbody>\n",
       "    <tr>\n",
       "      <th>aug-cc-pVDZ</th>\n",
       "      <td>-14.572379</td>\n",
       "      <td>44.913706</td>\n",
       "      <td>45.080233</td>\n",
       "      <td>45.587441</td>\n",
       "      <td>47.738055</td>\n",
       "      <td>58.900395</td>\n",
       "    </tr>\n",
       "    <tr>\n",
       "      <th>aug-cc-pVTZ</th>\n",
       "      <td>-14.572875</td>\n",
       "      <td>45.440357</td>\n",
       "      <td>45.615188</td>\n",
       "      <td>46.147978</td>\n",
       "      <td>48.411880</td>\n",
       "      <td>60.287363</td>\n",
       "    </tr>\n",
       "    <tr>\n",
       "      <th>aug-cc-pVQZ</th>\n",
       "      <td>-14.572969</td>\n",
       "      <td>45.598622</td>\n",
       "      <td>45.775820</td>\n",
       "      <td>46.315917</td>\n",
       "      <td>48.612406</td>\n",
       "      <td>60.699528</td>\n",
       "    </tr>\n",
       "    <tr>\n",
       "      <th>MRA</th>\n",
       "      <td>-14.572937</td>\n",
       "      <td>45.015120</td>\n",
       "      <td>45.137262</td>\n",
       "      <td>45.483932</td>\n",
       "      <td>47.442520</td>\n",
       "      <td>57.500249</td>\n",
       "    </tr>\n",
       "    <tr>\n",
       "      <th>MRA density residual</th>\n",
       "      <td>NaN</td>\n",
       "      <td>0.000061</td>\n",
       "      <td>0.000701</td>\n",
       "      <td>0.002842</td>\n",
       "      <td>0.003604</td>\n",
       "      <td>0.006992</td>\n",
       "    </tr>\n",
       "  </tbody>\n",
       "</table>\n",
       "</div>"
      ],
      "text/plain": [
       "                      Total HF Energy   a(0.000)   a(0.011)   a(0.022)  \\\n",
       "aug-cc-pVDZ                -14.572379  44.913706  45.080233  45.587441   \n",
       "aug-cc-pVTZ                -14.572875  45.440357  45.615188  46.147978   \n",
       "aug-cc-pVQZ                -14.572969  45.598622  45.775820  46.315917   \n",
       "MRA                        -14.572937  45.015120  45.137262  45.483932   \n",
       "MRA density residual              NaN   0.000061   0.000701   0.002842   \n",
       "\n",
       "                       a(0.044)   a(0.089)  \n",
       "aug-cc-pVDZ           47.738055  58.900395  \n",
       "aug-cc-pVTZ           48.411880  60.287363  \n",
       "aug-cc-pVQZ           48.612406  60.699528  \n",
       "MRA                   47.442520  57.500249  \n",
       "MRA density residual   0.003604   0.006992  "
      ]
     },
     "metadata": {},
     "output_type": "display_data"
    },
    {
     "data": {
      "text/html": [
       "<div>\n",
       "<style scoped>\n",
       "    .dataframe tbody tr th:only-of-type {\n",
       "        vertical-align: middle;\n",
       "    }\n",
       "\n",
       "    .dataframe tbody tr th {\n",
       "        vertical-align: top;\n",
       "    }\n",
       "\n",
       "    .dataframe thead th {\n",
       "        text-align: right;\n",
       "    }\n",
       "</style>\n",
       "<table border=\"1\" class=\"dataframe\">\n",
       "  <thead>\n",
       "    <tr style=\"text-align: right;\">\n",
       "      <th></th>\n",
       "      <th>Total HF Energy</th>\n",
       "      <th>a(0.000)</th>\n",
       "      <th>a(0.011)</th>\n",
       "      <th>a(0.022)</th>\n",
       "      <th>a(0.044)</th>\n",
       "      <th>a(0.089)</th>\n",
       "    </tr>\n",
       "  </thead>\n",
       "  <tbody>\n",
       "    <tr>\n",
       "      <th>aug-cc-pVDZ</th>\n",
       "      <td>0.000558</td>\n",
       "      <td>-0.101413</td>\n",
       "      <td>-0.057029</td>\n",
       "      <td>0.103509</td>\n",
       "      <td>0.295535</td>\n",
       "      <td>1.400146</td>\n",
       "    </tr>\n",
       "    <tr>\n",
       "      <th>aug-cc-pVTZ</th>\n",
       "      <td>0.000062</td>\n",
       "      <td>0.425238</td>\n",
       "      <td>0.477927</td>\n",
       "      <td>0.664046</td>\n",
       "      <td>0.969360</td>\n",
       "      <td>2.787114</td>\n",
       "    </tr>\n",
       "    <tr>\n",
       "      <th>aug-cc-pVQZ</th>\n",
       "      <td>-0.000032</td>\n",
       "      <td>0.583502</td>\n",
       "      <td>0.638558</td>\n",
       "      <td>0.831985</td>\n",
       "      <td>1.169886</td>\n",
       "      <td>3.199280</td>\n",
       "    </tr>\n",
       "  </tbody>\n",
       "</table>\n",
       "</div>"
      ],
      "text/plain": [
       "             Total HF Energy  a(0.000)  a(0.011)  a(0.022)  a(0.044)  a(0.089)\n",
       "aug-cc-pVDZ         0.000558 -0.101413 -0.057029  0.103509  0.295535  1.400146\n",
       "aug-cc-pVTZ         0.000062  0.425238  0.477927  0.664046  0.969360  2.787114\n",
       "aug-cc-pVQZ        -0.000032  0.583502  0.638558  0.831985  1.169886  3.199280"
      ]
     },
     "metadata": {},
     "output_type": "display_data"
    },
    {
     "data": {
      "text/html": [
       "<div>\n",
       "<style scoped>\n",
       "    .dataframe tbody tr th:only-of-type {\n",
       "        vertical-align: middle;\n",
       "    }\n",
       "\n",
       "    .dataframe tbody tr th {\n",
       "        vertical-align: top;\n",
       "    }\n",
       "\n",
       "    .dataframe thead th {\n",
       "        text-align: right;\n",
       "    }\n",
       "</style>\n",
       "<table border=\"1\" class=\"dataframe\">\n",
       "  <thead>\n",
       "    <tr style=\"text-align: right;\">\n",
       "      <th></th>\n",
       "      <th>a(0.000)</th>\n",
       "      <th>a(0.011)</th>\n",
       "      <th>a(0.022)</th>\n",
       "      <th>a(0.044)</th>\n",
       "      <th>a(0.089)</th>\n",
       "    </tr>\n",
       "  </thead>\n",
       "  <tbody>\n",
       "    <tr>\n",
       "      <th>aug-cc-pVDZ</th>\n",
       "      <td>-0.101413</td>\n",
       "      <td>-0.057029</td>\n",
       "      <td>0.103509</td>\n",
       "      <td>0.295535</td>\n",
       "      <td>1.400146</td>\n",
       "    </tr>\n",
       "    <tr>\n",
       "      <th>aug-cc-pVTZ</th>\n",
       "      <td>0.425238</td>\n",
       "      <td>0.477927</td>\n",
       "      <td>0.664046</td>\n",
       "      <td>0.969360</td>\n",
       "      <td>2.787114</td>\n",
       "    </tr>\n",
       "    <tr>\n",
       "      <th>aug-cc-pVQZ</th>\n",
       "      <td>0.583502</td>\n",
       "      <td>0.638558</td>\n",
       "      <td>0.831985</td>\n",
       "      <td>1.169886</td>\n",
       "      <td>3.199280</td>\n",
       "    </tr>\n",
       "  </tbody>\n",
       "</table>\n",
       "</div>"
      ],
      "text/plain": [
       "             a(0.000)  a(0.011)  a(0.022)  a(0.044)  a(0.089)\n",
       "aug-cc-pVDZ -0.101413 -0.057029  0.103509  0.295535  1.400146\n",
       "aug-cc-pVTZ  0.425238  0.477927  0.664046  0.969360  2.787114\n",
       "aug-cc-pVQZ  0.583502  0.638558  0.831985  1.169886  3.199280"
      ]
     },
     "metadata": {},
     "output_type": "display_data"
    },
    {
     "data": {
      "text/plain": [
       "aug-cc-pVDZ    0.000558\n",
       "aug-cc-pVTZ    0.000062\n",
       "aug-cc-pVQZ   -0.000032\n",
       "Name: Total HF Energy, dtype: float64"
      ]
     },
     "metadata": {},
     "output_type": "display_data"
    }
   ],
   "source": [
    "def create_data(mol,basis_list):\n",
    "    \n",
    "    res_dict={'xx':'density_residualX','yy':'density_residualY','zz':'density_residualZ'}\n",
    "    \n",
    "    \n",
    "    moldata=FrequencyData(mol,'hf','dipole')\n",
    "    xx=['xx','yy','zz']\n",
    "    data=[]\n",
    "    for x in xx:\n",
    "        data.append(create_polar_table(mol,'hf',basis_list,x))\n",
    "    average=(data[0]+data[1]+data[2])/3\n",
    "    \n",
    "    diff_data=average-average.loc['MRA']\n",
    "    diff_data=diff_data.drop(index='MRA')\n",
    "    \n",
    "    polar_diff=diff_data.drop('Total HF Energy',axis=1)\n",
    "    \n",
    "    residuals=moldata.final_density_residuals()\n",
    "    \n",
    "    cleanX=residuals['density_residualX'].reset_index().drop('index',axis=1)\n",
    "    cleanY=residuals['density_residualY'].reset_index().drop('index',axis=1)\n",
    "    cleanZ=residuals['density_residualZ'].reset_index().drop('index',axis=1)\n",
    "    \n",
    "    cleanX.rename(columns={'density_residualX':'MRA density residual'},inplace=True)\n",
    "    cleanY.rename(columns={'density_residualY':'MRA density residual'},inplace=True)\n",
    "    cleanZ.rename(columns={'density_residualZ':'MRA density residual'},inplace=True)\n",
    "    clean=(cleanX+cleanY+cleanZ)/3\n",
    "    clean.index=polar_diff.T.index\n",
    "    \n",
    "    average=average.append(clean.T)\n",
    "    average.name='Average Polarizability'\n",
    "    \n",
    "    \n",
    "    energy_diff=diff_data['Total HF Energy']\n",
    "    return average,diff_data,energy_diff,polar_diff\n",
    "\n",
    "basis_list=['aug-cc-pVDZ','aug-cc-pVTZ','aug-cc-pVQZ']\n",
    "d_basis_list=['d-aug-cc-pVDZ','d-aug-cc-pVTZ','d-aug-cc-pVQZ']\n",
    "data,diff_data,energy_diff,polar_diff=create_data('Be',basis_list,)\n",
    "display(data)\n",
    "display(diff_data)\n",
    "display(polar_diff)\n",
    "display(energy_diff)\n"
   ]
  },
  {
   "cell_type": "code",
   "execution_count": null,
   "id": "cc2f7fa1",
   "metadata": {},
   "outputs": [],
   "source": []
  },
  {
   "cell_type": "code",
   "execution_count": 8,
   "id": "5e1c9d96",
   "metadata": {},
   "outputs": [],
   "source": [
    "\n",
    "import matplotlib.pyplot as plt\n",
    "\n",
    "\n",
    "def create_polar_diff_plot(mol,basis_list):\n",
    "    \n",
    "    \n",
    "    title=mol\n",
    "    yl=r' $\\Delta\\alpha_{avg}$'+r' (MRA - BASIS)'\n",
    "    \n",
    "    \n",
    "    data,diff_data,energy_diff,polar_diff=create_data(mol,basis_list)\n",
    "    polar_diff.iloc[:,:].plot(marker='o', linestyle='solid')\n",
    "    plt.axhline(linewidth=2,ls='--',color='k',label=\"MRA Reference\")\n",
    "    plt.xlabel\n",
    "    plt.legend(fontsize=12)\n",
    "    plt.xticks(fontsize=14,rotation = 20)\n",
    "    plt.title(title,fontsize=20)\n",
    "    plt.ylabel(yl, fontsize=14)\n",
    "    save=mol+'-'+basis_list[0]\n",
    "    if not os.path.exists(\"figures\"):\n",
    "        os.mkdir(\"figures\")\n",
    "    if not os.path.exists(\"tables\"):\n",
    "        os.mkdir(\"tables\")\n",
    "    save='figures/'+save+'.svg'\n",
    "    plt.savefig(save)\n",
    "    \n",
    "    latex_save=mol+'-'+basis_list[0]\n",
    "    latex_save='tables/'+latex_save+'.tex'\n",
    "    data=data.round(decimals=3)\n",
    "    data.to_latex(latex_save,na_rep=' ')\n",
    "    \n",
    "    \n",
    "    return data\n",
    "\n",
    "mol_list=['Ne','H2O','H2',]\n",
    "\n"
   ]
  },
  {
   "cell_type": "code",
   "execution_count": 9,
   "id": "d902a80c",
   "metadata": {},
   "outputs": [
    {
     "name": "stdout",
     "output_type": "stream",
     "text": [
      "Paper: Static Polar He:  1.3222\n",
      "mad_path /home/adrianhurtado/testing/madness-test-suite/timings-6-3-22/hf/He/calc_info.json\n",
      "/home/adrianhurtado/testing/madness-test-suite/timings-6-3-22/../dalton/hf/He/dipole/freq.dal\n",
      "/home/adrianhurtado/testing/madness-test-suite/timings-6-3-22/../dalton/hf/He/dipole/freq.dal\n",
      "/home/adrianhurtado/testing/madness-test-suite/timings-6-3-22/../dalton/hf/He/dipole/freq.dal\n",
      "/home/adrianhurtado/testing/madness-test-suite/timings-6-3-22/../dalton/hf/He/dipole/freq.dal\n",
      "mad_path /home/adrianhurtado/testing/madness-test-suite/timings-6-3-22/hf/He/calc_info.json\n",
      "/home/adrianhurtado/testing/madness-test-suite/timings-6-3-22/../dalton/hf/He/dipole/freq.dal\n",
      "/home/adrianhurtado/testing/madness-test-suite/timings-6-3-22/../dalton/hf/He/dipole/freq.dal\n",
      "/home/adrianhurtado/testing/madness-test-suite/timings-6-3-22/../dalton/hf/He/dipole/freq.dal\n",
      "/home/adrianhurtado/testing/madness-test-suite/timings-6-3-22/../dalton/hf/He/dipole/freq.dal\n",
      "mad_path /home/adrianhurtado/testing/madness-test-suite/timings-6-3-22/hf/He/calc_info.json\n",
      "/home/adrianhurtado/testing/madness-test-suite/timings-6-3-22/../dalton/hf/He/dipole/freq.dal\n",
      "/home/adrianhurtado/testing/madness-test-suite/timings-6-3-22/../dalton/hf/He/dipole/freq.dal\n",
      "/home/adrianhurtado/testing/madness-test-suite/timings-6-3-22/../dalton/hf/He/dipole/freq.dal\n",
      "/home/adrianhurtado/testing/madness-test-suite/timings-6-3-22/../dalton/hf/He/dipole/freq.dal\n",
      "mad_path /home/adrianhurtado/testing/madness-test-suite/timings-6-3-22/hf/He/calc_info.json\n"
     ]
    },
    {
     "ename": "FileNotFoundError",
     "evalue": "[Errno 2] No such file or directory: 'figures/He-aug-cc-pVDZ.svg'",
     "output_type": "error",
     "traceback": [
      "\u001b[0;31m---------------------------------------------------------------------------\u001b[0m",
      "\u001b[0;31mFileNotFoundError\u001b[0m                         Traceback (most recent call last)",
      "\u001b[0;32m/tmp/ipykernel_36365/428750983.py\u001b[0m in \u001b[0;36m<module>\u001b[0;34m\u001b[0m\n\u001b[1;32m      1\u001b[0m \u001b[0mprint\u001b[0m\u001b[0;34m(\u001b[0m\u001b[0;34m'Paper: Static Polar He: '\u001b[0m\u001b[0;34m,\u001b[0m\u001b[0;36m1.3222\u001b[0m\u001b[0;34m)\u001b[0m\u001b[0;34m\u001b[0m\u001b[0;34m\u001b[0m\u001b[0m\n\u001b[0;32m----> 2\u001b[0;31m \u001b[0md1\u001b[0m\u001b[0;34m=\u001b[0m\u001b[0mcreate_polar_diff_plot\u001b[0m\u001b[0;34m(\u001b[0m\u001b[0;34m'He'\u001b[0m\u001b[0;34m,\u001b[0m\u001b[0mbasis_list\u001b[0m\u001b[0;34m)\u001b[0m\u001b[0;34m\u001b[0m\u001b[0;34m\u001b[0m\u001b[0m\n\u001b[0m\u001b[1;32m      3\u001b[0m \u001b[0md2\u001b[0m\u001b[0;34m=\u001b[0m\u001b[0mcreate_polar_diff_plot\u001b[0m\u001b[0;34m(\u001b[0m\u001b[0;34m'He'\u001b[0m\u001b[0;34m,\u001b[0m\u001b[0md_basis_list\u001b[0m\u001b[0;34m)\u001b[0m\u001b[0;34m\u001b[0m\u001b[0;34m\u001b[0m\u001b[0m\n\u001b[1;32m      4\u001b[0m \u001b[0mdisplay\u001b[0m\u001b[0;34m(\u001b[0m\u001b[0md1\u001b[0m\u001b[0;34m)\u001b[0m\u001b[0;34m\u001b[0m\u001b[0;34m\u001b[0m\u001b[0m\n\u001b[1;32m      5\u001b[0m \u001b[0mdisplay\u001b[0m\u001b[0;34m(\u001b[0m\u001b[0md2\u001b[0m\u001b[0;34m)\u001b[0m\u001b[0;34m\u001b[0m\u001b[0;34m\u001b[0m\u001b[0m\n",
      "\u001b[0;32m/tmp/ipykernel_36365/2764014642.py\u001b[0m in \u001b[0;36mcreate_polar_diff_plot\u001b[0;34m(mol, basis_list)\u001b[0m\n\u001b[1;32m     19\u001b[0m     \u001b[0msave\u001b[0m\u001b[0;34m=\u001b[0m\u001b[0mmol\u001b[0m\u001b[0;34m+\u001b[0m\u001b[0;34m'-'\u001b[0m\u001b[0;34m+\u001b[0m\u001b[0mbasis_list\u001b[0m\u001b[0;34m[\u001b[0m\u001b[0;36m0\u001b[0m\u001b[0;34m]\u001b[0m\u001b[0;34m\u001b[0m\u001b[0;34m\u001b[0m\u001b[0m\n\u001b[1;32m     20\u001b[0m     \u001b[0msave\u001b[0m\u001b[0;34m=\u001b[0m\u001b[0;34m'figures/'\u001b[0m\u001b[0;34m+\u001b[0m\u001b[0msave\u001b[0m\u001b[0;34m+\u001b[0m\u001b[0;34m'.svg'\u001b[0m\u001b[0;34m\u001b[0m\u001b[0;34m\u001b[0m\u001b[0m\n\u001b[0;32m---> 21\u001b[0;31m     \u001b[0mplt\u001b[0m\u001b[0;34m.\u001b[0m\u001b[0msavefig\u001b[0m\u001b[0;34m(\u001b[0m\u001b[0msave\u001b[0m\u001b[0;34m)\u001b[0m\u001b[0;34m\u001b[0m\u001b[0;34m\u001b[0m\u001b[0m\n\u001b[0m\u001b[1;32m     22\u001b[0m \u001b[0;34m\u001b[0m\u001b[0m\n\u001b[1;32m     23\u001b[0m     \u001b[0mlatex_save\u001b[0m\u001b[0;34m=\u001b[0m\u001b[0mmol\u001b[0m\u001b[0;34m+\u001b[0m\u001b[0;34m'-'\u001b[0m\u001b[0;34m+\u001b[0m\u001b[0mbasis_list\u001b[0m\u001b[0;34m[\u001b[0m\u001b[0;36m0\u001b[0m\u001b[0;34m]\u001b[0m\u001b[0;34m\u001b[0m\u001b[0;34m\u001b[0m\u001b[0m\n",
      "\u001b[0;32m/usr/local/lib/python3.9/dist-packages/matplotlib/pyplot.py\u001b[0m in \u001b[0;36msavefig\u001b[0;34m(*args, **kwargs)\u001b[0m\n\u001b[1;32m    956\u001b[0m \u001b[0;32mdef\u001b[0m \u001b[0msavefig\u001b[0m\u001b[0;34m(\u001b[0m\u001b[0;34m*\u001b[0m\u001b[0margs\u001b[0m\u001b[0;34m,\u001b[0m \u001b[0;34m**\u001b[0m\u001b[0mkwargs\u001b[0m\u001b[0;34m)\u001b[0m\u001b[0;34m:\u001b[0m\u001b[0;34m\u001b[0m\u001b[0;34m\u001b[0m\u001b[0m\n\u001b[1;32m    957\u001b[0m     \u001b[0mfig\u001b[0m \u001b[0;34m=\u001b[0m \u001b[0mgcf\u001b[0m\u001b[0;34m(\u001b[0m\u001b[0;34m)\u001b[0m\u001b[0;34m\u001b[0m\u001b[0;34m\u001b[0m\u001b[0m\n\u001b[0;32m--> 958\u001b[0;31m     \u001b[0mres\u001b[0m \u001b[0;34m=\u001b[0m \u001b[0mfig\u001b[0m\u001b[0;34m.\u001b[0m\u001b[0msavefig\u001b[0m\u001b[0;34m(\u001b[0m\u001b[0;34m*\u001b[0m\u001b[0margs\u001b[0m\u001b[0;34m,\u001b[0m \u001b[0;34m**\u001b[0m\u001b[0mkwargs\u001b[0m\u001b[0;34m)\u001b[0m\u001b[0;34m\u001b[0m\u001b[0;34m\u001b[0m\u001b[0m\n\u001b[0m\u001b[1;32m    959\u001b[0m     \u001b[0mfig\u001b[0m\u001b[0;34m.\u001b[0m\u001b[0mcanvas\u001b[0m\u001b[0;34m.\u001b[0m\u001b[0mdraw_idle\u001b[0m\u001b[0;34m(\u001b[0m\u001b[0;34m)\u001b[0m   \u001b[0;31m# need this if 'transparent=True' to reset colors\u001b[0m\u001b[0;34m\u001b[0m\u001b[0;34m\u001b[0m\u001b[0m\n\u001b[1;32m    960\u001b[0m     \u001b[0;32mreturn\u001b[0m \u001b[0mres\u001b[0m\u001b[0;34m\u001b[0m\u001b[0;34m\u001b[0m\u001b[0m\n",
      "\u001b[0;32m/usr/local/lib/python3.9/dist-packages/matplotlib/figure.py\u001b[0m in \u001b[0;36msavefig\u001b[0;34m(self, fname, transparent, **kwargs)\u001b[0m\n\u001b[1;32m   3017\u001b[0m                         ax.patch._cm_set(facecolor='none', edgecolor='none'))\n\u001b[1;32m   3018\u001b[0m \u001b[0;34m\u001b[0m\u001b[0m\n\u001b[0;32m-> 3019\u001b[0;31m             \u001b[0mself\u001b[0m\u001b[0;34m.\u001b[0m\u001b[0mcanvas\u001b[0m\u001b[0;34m.\u001b[0m\u001b[0mprint_figure\u001b[0m\u001b[0;34m(\u001b[0m\u001b[0mfname\u001b[0m\u001b[0;34m,\u001b[0m \u001b[0;34m**\u001b[0m\u001b[0mkwargs\u001b[0m\u001b[0;34m)\u001b[0m\u001b[0;34m\u001b[0m\u001b[0;34m\u001b[0m\u001b[0m\n\u001b[0m\u001b[1;32m   3020\u001b[0m \u001b[0;34m\u001b[0m\u001b[0m\n\u001b[1;32m   3021\u001b[0m     def ginput(self, n=1, timeout=30, show_clicks=True,\n",
      "\u001b[0;32m/usr/local/lib/python3.9/dist-packages/matplotlib/backend_bases.py\u001b[0m in \u001b[0;36mprint_figure\u001b[0;34m(self, filename, dpi, facecolor, edgecolor, orientation, format, bbox_inches, pad_inches, bbox_extra_artists, backend, **kwargs)\u001b[0m\n\u001b[1;32m   2317\u001b[0m                 \u001b[0;31m# force the figure dpi to 72), so we need to set it again here.\u001b[0m\u001b[0;34m\u001b[0m\u001b[0;34m\u001b[0m\u001b[0m\n\u001b[1;32m   2318\u001b[0m                 \u001b[0;32mwith\u001b[0m \u001b[0mcbook\u001b[0m\u001b[0;34m.\u001b[0m\u001b[0m_setattr_cm\u001b[0m\u001b[0;34m(\u001b[0m\u001b[0mself\u001b[0m\u001b[0;34m.\u001b[0m\u001b[0mfigure\u001b[0m\u001b[0;34m,\u001b[0m \u001b[0mdpi\u001b[0m\u001b[0;34m=\u001b[0m\u001b[0mdpi\u001b[0m\u001b[0;34m)\u001b[0m\u001b[0;34m:\u001b[0m\u001b[0;34m\u001b[0m\u001b[0;34m\u001b[0m\u001b[0m\n\u001b[0;32m-> 2319\u001b[0;31m                     result = print_method(\n\u001b[0m\u001b[1;32m   2320\u001b[0m                         \u001b[0mfilename\u001b[0m\u001b[0;34m,\u001b[0m\u001b[0;34m\u001b[0m\u001b[0;34m\u001b[0m\u001b[0m\n\u001b[1;32m   2321\u001b[0m                         \u001b[0mfacecolor\u001b[0m\u001b[0;34m=\u001b[0m\u001b[0mfacecolor\u001b[0m\u001b[0;34m,\u001b[0m\u001b[0;34m\u001b[0m\u001b[0;34m\u001b[0m\u001b[0m\n",
      "\u001b[0;32m/usr/local/lib/python3.9/dist-packages/matplotlib/backend_bases.py\u001b[0m in \u001b[0;36mwrapper\u001b[0;34m(*args, **kwargs)\u001b[0m\n\u001b[1;32m   1646\u001b[0m             \u001b[0mkwargs\u001b[0m\u001b[0;34m.\u001b[0m\u001b[0mpop\u001b[0m\u001b[0;34m(\u001b[0m\u001b[0marg\u001b[0m\u001b[0;34m)\u001b[0m\u001b[0;34m\u001b[0m\u001b[0;34m\u001b[0m\u001b[0m\n\u001b[1;32m   1647\u001b[0m \u001b[0;34m\u001b[0m\u001b[0m\n\u001b[0;32m-> 1648\u001b[0;31m         \u001b[0;32mreturn\u001b[0m \u001b[0mfunc\u001b[0m\u001b[0;34m(\u001b[0m\u001b[0;34m*\u001b[0m\u001b[0margs\u001b[0m\u001b[0;34m,\u001b[0m \u001b[0;34m**\u001b[0m\u001b[0mkwargs\u001b[0m\u001b[0;34m)\u001b[0m\u001b[0;34m\u001b[0m\u001b[0;34m\u001b[0m\u001b[0m\n\u001b[0m\u001b[1;32m   1649\u001b[0m \u001b[0;34m\u001b[0m\u001b[0m\n\u001b[1;32m   1650\u001b[0m     \u001b[0;32mreturn\u001b[0m \u001b[0mwrapper\u001b[0m\u001b[0;34m\u001b[0m\u001b[0;34m\u001b[0m\u001b[0m\n",
      "\u001b[0;32m/usr/local/lib/python3.9/dist-packages/matplotlib/_api/deprecation.py\u001b[0m in \u001b[0;36mwrapper\u001b[0;34m(*inner_args, **inner_kwargs)\u001b[0m\n\u001b[1;32m    384\u001b[0m             \u001b[0;31m# Early return in the simple, non-deprecated case (much faster than\u001b[0m\u001b[0;34m\u001b[0m\u001b[0;34m\u001b[0m\u001b[0m\n\u001b[1;32m    385\u001b[0m             \u001b[0;31m# calling bind()).\u001b[0m\u001b[0;34m\u001b[0m\u001b[0;34m\u001b[0m\u001b[0m\n\u001b[0;32m--> 386\u001b[0;31m             \u001b[0;32mreturn\u001b[0m \u001b[0mfunc\u001b[0m\u001b[0;34m(\u001b[0m\u001b[0;34m*\u001b[0m\u001b[0minner_args\u001b[0m\u001b[0;34m,\u001b[0m \u001b[0;34m**\u001b[0m\u001b[0minner_kwargs\u001b[0m\u001b[0;34m)\u001b[0m\u001b[0;34m\u001b[0m\u001b[0;34m\u001b[0m\u001b[0m\n\u001b[0m\u001b[1;32m    387\u001b[0m         \u001b[0marguments\u001b[0m \u001b[0;34m=\u001b[0m \u001b[0msignature\u001b[0m\u001b[0;34m.\u001b[0m\u001b[0mbind\u001b[0m\u001b[0;34m(\u001b[0m\u001b[0;34m*\u001b[0m\u001b[0minner_args\u001b[0m\u001b[0;34m,\u001b[0m \u001b[0;34m**\u001b[0m\u001b[0minner_kwargs\u001b[0m\u001b[0;34m)\u001b[0m\u001b[0;34m.\u001b[0m\u001b[0marguments\u001b[0m\u001b[0;34m\u001b[0m\u001b[0;34m\u001b[0m\u001b[0m\n\u001b[1;32m    388\u001b[0m         \u001b[0;32mif\u001b[0m \u001b[0mis_varargs\u001b[0m \u001b[0;32mand\u001b[0m \u001b[0marguments\u001b[0m\u001b[0;34m.\u001b[0m\u001b[0mget\u001b[0m\u001b[0;34m(\u001b[0m\u001b[0mname\u001b[0m\u001b[0;34m)\u001b[0m\u001b[0;34m:\u001b[0m\u001b[0;34m\u001b[0m\u001b[0;34m\u001b[0m\u001b[0m\n",
      "\u001b[0;32m/usr/local/lib/python3.9/dist-packages/matplotlib/_api/deprecation.py\u001b[0m in \u001b[0;36mwrapper\u001b[0;34m(*inner_args, **inner_kwargs)\u001b[0m\n\u001b[1;32m    410\u001b[0m                          \u001b[0;32melse\u001b[0m \u001b[0mdeprecation_addendum\u001b[0m\u001b[0;34m,\u001b[0m\u001b[0;34m\u001b[0m\u001b[0;34m\u001b[0m\u001b[0m\n\u001b[1;32m    411\u001b[0m                 **kwargs)\n\u001b[0;32m--> 412\u001b[0;31m         \u001b[0;32mreturn\u001b[0m \u001b[0mfunc\u001b[0m\u001b[0;34m(\u001b[0m\u001b[0;34m*\u001b[0m\u001b[0minner_args\u001b[0m\u001b[0;34m,\u001b[0m \u001b[0;34m**\u001b[0m\u001b[0minner_kwargs\u001b[0m\u001b[0;34m)\u001b[0m\u001b[0;34m\u001b[0m\u001b[0;34m\u001b[0m\u001b[0m\n\u001b[0m\u001b[1;32m    413\u001b[0m \u001b[0;34m\u001b[0m\u001b[0m\n\u001b[1;32m    414\u001b[0m     \u001b[0mDECORATORS\u001b[0m\u001b[0;34m[\u001b[0m\u001b[0mwrapper\u001b[0m\u001b[0;34m]\u001b[0m \u001b[0;34m=\u001b[0m \u001b[0mdecorator\u001b[0m\u001b[0;34m\u001b[0m\u001b[0;34m\u001b[0m\u001b[0m\n",
      "\u001b[0;32m/usr/local/lib/python3.9/dist-packages/matplotlib/backends/backend_svg.py\u001b[0m in \u001b[0;36mprint_svg\u001b[0;34m(self, filename, dpi, bbox_inches_restore, metadata, *args)\u001b[0m\n\u001b[1;32m   1319\u001b[0m             \u001b[0m__\u001b[0m \u001b[0mDC_\u001b[0m\u001b[0;34m\u001b[0m\u001b[0;34m\u001b[0m\u001b[0m\n\u001b[1;32m   1320\u001b[0m         \"\"\"\n\u001b[0;32m-> 1321\u001b[0;31m         \u001b[0;32mwith\u001b[0m \u001b[0mcbook\u001b[0m\u001b[0;34m.\u001b[0m\u001b[0mopen_file_cm\u001b[0m\u001b[0;34m(\u001b[0m\u001b[0mfilename\u001b[0m\u001b[0;34m,\u001b[0m \u001b[0;34m\"w\"\u001b[0m\u001b[0;34m,\u001b[0m \u001b[0mencoding\u001b[0m\u001b[0;34m=\u001b[0m\u001b[0;34m\"utf-8\"\u001b[0m\u001b[0;34m)\u001b[0m \u001b[0;32mas\u001b[0m \u001b[0mfh\u001b[0m\u001b[0;34m:\u001b[0m\u001b[0;34m\u001b[0m\u001b[0;34m\u001b[0m\u001b[0m\n\u001b[0m\u001b[1;32m   1322\u001b[0m             \u001b[0;32mif\u001b[0m \u001b[0;32mnot\u001b[0m \u001b[0mcbook\u001b[0m\u001b[0;34m.\u001b[0m\u001b[0mfile_requires_unicode\u001b[0m\u001b[0;34m(\u001b[0m\u001b[0mfh\u001b[0m\u001b[0;34m)\u001b[0m\u001b[0;34m:\u001b[0m\u001b[0;34m\u001b[0m\u001b[0;34m\u001b[0m\u001b[0m\n\u001b[1;32m   1323\u001b[0m                 \u001b[0mfh\u001b[0m \u001b[0;34m=\u001b[0m \u001b[0mcodecs\u001b[0m\u001b[0;34m.\u001b[0m\u001b[0mgetwriter\u001b[0m\u001b[0;34m(\u001b[0m\u001b[0;34m'utf-8'\u001b[0m\u001b[0;34m)\u001b[0m\u001b[0;34m(\u001b[0m\u001b[0mfh\u001b[0m\u001b[0;34m)\u001b[0m\u001b[0;34m\u001b[0m\u001b[0;34m\u001b[0m\u001b[0m\n",
      "\u001b[0;32m/usr/local/lib/python3.9/dist-packages/matplotlib/cbook/__init__.py\u001b[0m in \u001b[0;36mopen_file_cm\u001b[0;34m(path_or_file, mode, encoding)\u001b[0m\n\u001b[1;32m    463\u001b[0m \u001b[0;32mdef\u001b[0m \u001b[0mopen_file_cm\u001b[0m\u001b[0;34m(\u001b[0m\u001b[0mpath_or_file\u001b[0m\u001b[0;34m,\u001b[0m \u001b[0mmode\u001b[0m\u001b[0;34m=\u001b[0m\u001b[0;34m\"r\"\u001b[0m\u001b[0;34m,\u001b[0m \u001b[0mencoding\u001b[0m\u001b[0;34m=\u001b[0m\u001b[0;32mNone\u001b[0m\u001b[0;34m)\u001b[0m\u001b[0;34m:\u001b[0m\u001b[0;34m\u001b[0m\u001b[0;34m\u001b[0m\u001b[0m\n\u001b[1;32m    464\u001b[0m     \u001b[0;34mr\"\"\"Pass through file objects and context-manage path-likes.\"\"\"\u001b[0m\u001b[0;34m\u001b[0m\u001b[0;34m\u001b[0m\u001b[0m\n\u001b[0;32m--> 465\u001b[0;31m     \u001b[0mfh\u001b[0m\u001b[0;34m,\u001b[0m \u001b[0mopened\u001b[0m \u001b[0;34m=\u001b[0m \u001b[0mto_filehandle\u001b[0m\u001b[0;34m(\u001b[0m\u001b[0mpath_or_file\u001b[0m\u001b[0;34m,\u001b[0m \u001b[0mmode\u001b[0m\u001b[0;34m,\u001b[0m \u001b[0;32mTrue\u001b[0m\u001b[0;34m,\u001b[0m \u001b[0mencoding\u001b[0m\u001b[0;34m)\u001b[0m\u001b[0;34m\u001b[0m\u001b[0;34m\u001b[0m\u001b[0m\n\u001b[0m\u001b[1;32m    466\u001b[0m     \u001b[0;32mreturn\u001b[0m \u001b[0mfh\u001b[0m \u001b[0;32mif\u001b[0m \u001b[0mopened\u001b[0m \u001b[0;32melse\u001b[0m \u001b[0mcontextlib\u001b[0m\u001b[0;34m.\u001b[0m\u001b[0mnullcontext\u001b[0m\u001b[0;34m(\u001b[0m\u001b[0mfh\u001b[0m\u001b[0;34m)\u001b[0m\u001b[0;34m\u001b[0m\u001b[0;34m\u001b[0m\u001b[0m\n\u001b[1;32m    467\u001b[0m \u001b[0;34m\u001b[0m\u001b[0m\n",
      "\u001b[0;32m/usr/local/lib/python3.9/dist-packages/matplotlib/cbook/__init__.py\u001b[0m in \u001b[0;36mto_filehandle\u001b[0;34m(fname, flag, return_opened, encoding)\u001b[0m\n\u001b[1;32m    449\u001b[0m             \u001b[0mfh\u001b[0m \u001b[0;34m=\u001b[0m \u001b[0mbz2\u001b[0m\u001b[0;34m.\u001b[0m\u001b[0mBZ2File\u001b[0m\u001b[0;34m(\u001b[0m\u001b[0mfname\u001b[0m\u001b[0;34m,\u001b[0m \u001b[0mflag\u001b[0m\u001b[0;34m)\u001b[0m\u001b[0;34m\u001b[0m\u001b[0;34m\u001b[0m\u001b[0m\n\u001b[1;32m    450\u001b[0m         \u001b[0;32melse\u001b[0m\u001b[0;34m:\u001b[0m\u001b[0;34m\u001b[0m\u001b[0;34m\u001b[0m\u001b[0m\n\u001b[0;32m--> 451\u001b[0;31m             \u001b[0mfh\u001b[0m \u001b[0;34m=\u001b[0m \u001b[0mopen\u001b[0m\u001b[0;34m(\u001b[0m\u001b[0mfname\u001b[0m\u001b[0;34m,\u001b[0m \u001b[0mflag\u001b[0m\u001b[0;34m,\u001b[0m \u001b[0mencoding\u001b[0m\u001b[0;34m=\u001b[0m\u001b[0mencoding\u001b[0m\u001b[0;34m)\u001b[0m\u001b[0;34m\u001b[0m\u001b[0;34m\u001b[0m\u001b[0m\n\u001b[0m\u001b[1;32m    452\u001b[0m         \u001b[0mopened\u001b[0m \u001b[0;34m=\u001b[0m \u001b[0;32mTrue\u001b[0m\u001b[0;34m\u001b[0m\u001b[0;34m\u001b[0m\u001b[0m\n\u001b[1;32m    453\u001b[0m     \u001b[0;32melif\u001b[0m \u001b[0mhasattr\u001b[0m\u001b[0;34m(\u001b[0m\u001b[0mfname\u001b[0m\u001b[0;34m,\u001b[0m \u001b[0;34m'seek'\u001b[0m\u001b[0;34m)\u001b[0m\u001b[0;34m:\u001b[0m\u001b[0;34m\u001b[0m\u001b[0;34m\u001b[0m\u001b[0m\n",
      "\u001b[0;31mFileNotFoundError\u001b[0m: [Errno 2] No such file or directory: 'figures/He-aug-cc-pVDZ.svg'"
     ]
    },
    {
     "data": {
      "image/png": "[encoded data removed]",
      "text/plain": [
       "<Figure size 432x288 with 1 Axes>"
      ]
     },
     "metadata": {
      "needs_background": "light"
     },
     "output_type": "display_data"
    }
   ],
   "source": [
    "print('Paper: Static Polar He: ',1.3222)\n",
    "d1=create_polar_diff_plot('He',basis_list)\n",
    "d2=create_polar_diff_plot('He',d_basis_list)\n",
    "display(d1)\n",
    "display(d2)"
   ]
  },
  {
   "cell_type": "code",
   "execution_count": null,
   "id": "b48f6a29",
   "metadata": {},
   "outputs": [],
   "source": [
    "print('Paper: Static Polar H2: ','not given')\n",
    "d1=create_polar_diff_plot('H2',basis_list)\n",
    "d2=create_polar_diff_plot('H2',d_basis_list)\n",
    "display(d1)\n",
    "display(d2)\n"
   ]
  },
  {
   "cell_type": "code",
   "execution_count": null,
   "id": "4a6dbdd6",
   "metadata": {},
   "outputs": [],
   "source": [
    "print('Paper: Static Polar Be: ',45.6199)\n",
    "d1=create_polar_diff_plot('Be',basis_list[0:-2])\n",
    "d2=create_polar_diff_plot('Be',d_basis_list[0:-2])\n",
    "display(d1)\n",
    "display(d2)\n",
    "\n"
   ]
  },
  {
   "cell_type": "code",
   "execution_count": null,
   "id": "7993b002",
   "metadata": {},
   "outputs": [],
   "source": [
    "\n",
    "print('Paper: Static Polar Ne: ',2.3770)\n",
    "d1=create_polar_diff_plot('Ne',basis_list)\n",
    "d2=create_polar_diff_plot('Ne',d_basis_list)\n",
    "display(d1)\n",
    "display(d2)\n",
    "\n",
    "\n"
   ]
  },
  {
   "cell_type": "code",
   "execution_count": null,
   "id": "168dc3d2",
   "metadata": {},
   "outputs": [],
   "source": [
    "d1=create_polar_diff_plot('H2O',basis_list)\n",
    "d2=create_polar_diff_plot('H2O',d_basis_list)\n",
    "display(d1)\n",
    "display(d2)\n"
   ]
  },
  {
   "cell_type": "code",
   "execution_count": null,
   "id": "133b60b5",
   "metadata": {},
   "outputs": [],
   "source": [
    "d1=create_polar_diff_plot('BeH2',basis_list[0:-2])\n",
    "d2=create_polar_diff_plot('BeH2',d_basis_list[0:-2])\n",
    "display(d1)\n",
    "display(d2)"
   ]
  },
  {
   "cell_type": "code",
   "execution_count": null,
   "id": "11043309",
   "metadata": {},
   "outputs": [],
   "source": [
    "d1=create_polar_diff_plot('C2H2',basis_list)\n",
    "d2=create_polar_diff_plot('C2H2',d_basis_list)\n",
    "display(d1)\n",
    "display(d2)\n",
    "\n"
   ]
  },
  {
   "cell_type": "code",
   "execution_count": null,
   "id": "5fd4db69",
   "metadata": {},
   "outputs": [],
   "source": [
    "\n",
    "d1=create_polar_diff_plot('CH4',basis_list)\n",
    "d2=create_polar_diff_plot('CH4',d_basis_list)\n",
    "display(d1)\n",
    "display(d2)"
   ]
  },
  {
   "cell_type": "code",
   "execution_count": null,
   "id": "2c95fa9b",
   "metadata": {},
   "outputs": [],
   "source": [
    "\n",
    "d1=create_polar_diff_plot('HCl',basis_list)\n",
    "d2=create_polar_diff_plot('HCl',d_basis_list)\n",
    "display(d1)\n",
    "display(d2)"
   ]
  },
  {
   "cell_type": "code",
   "execution_count": null,
   "id": "e84a76d8",
   "metadata": {},
   "outputs": [],
   "source": [
    "\n",
    "d1=create_polar_diff_plot('HF',basis_list)\n",
    "d2=create_polar_diff_plot('HF',d_basis_list)\n",
    "display(d1)\n",
    "display(d2)"
   ]
  },
  {
   "cell_type": "code",
   "execution_count": null,
   "id": "c576a31b",
   "metadata": {},
   "outputs": [],
   "source": [
    "\n",
    "d1=create_polar_diff_plot('NH3',basis_list)\n",
    "d2=create_polar_diff_plot('NH3',d_basis_list)\n",
    "display(d1)\n",
    "display(d2)"
   ]
  },
  {
   "cell_type": "code",
   "execution_count": null,
   "id": "7d8107e0",
   "metadata": {},
   "outputs": [],
   "source": []
  },
  {
   "cell_type": "code",
   "execution_count": null,
   "id": "e500e551",
   "metadata": {},
   "outputs": [],
   "source": []
  },
  {
   "cell_type": "code",
   "execution_count": null,
   "id": "8930f94c",
   "metadata": {},
   "outputs": [],
   "source": [
    "\n"
   ]
  },
  {
   "cell_type": "code",
   "execution_count": null,
   "id": "b4ffd1ca",
   "metadata": {},
   "outputs": [],
   "source": []
  }
 ],
 "metadata": {
  "kernelspec": {
   "display_name": "Python 3 (ipykernel)",
   "language": "python",
   "name": "python3"
  },
  "language_info": {
   "codemirror_mode": {
    "name": "ipython",
    "version": 3
   },
   "file_extension": ".py",
   "mimetype": "text/x-python",
   "name": "python",
   "nbconvert_exporter": "python",
   "pygments_lexer": "ipython3",
   "version": "3.9.7"
  }
 },
 "nbformat": 4,
 "nbformat_minor": 5
}
