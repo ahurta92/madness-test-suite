{
 "cells": [
  {
   "cell_type": "code",
   "execution_count": 1,
   "id": "64d6e169",
   "metadata": {},
   "outputs": [
    {
     "name": "stdout",
     "output_type": "stream",
     "text": [
      "/home/adrianhurtado/testing/madness-test-suite/madness-test-suite\n"
     ]
    }
   ],
   "source": [
    "from daltonRunner import *\n",
    "PROOT=os.getcwd()\n",
    "\n",
    "if not os.path.exists(\"dalton\"):\n",
    "    os.mkdir(\"dalton\")\n",
    "from madnessToDaltony import *\n",
    "madmols=glob.glob(\"*.mol\")\n",
    "with open(PROOT+'/molecules/frequency.json') as json_file:\n",
    "        freq_json = json.loads(json_file.read())"
   ]
  },
  {
   "cell_type": "code",
   "execution_count": 2,
   "id": "d985b5ad",
   "metadata": {},
   "outputs": [],
   "source": [
    "\n",
    "basis_list=['aug-cc-pVDZ','aug-cc-pVTZ','aug-cc-pVQZ']\n",
    "        \n",
    "for madmol in madmols:\n",
    "    madmol=madmol.split('/')[1].split('.')[0]\n",
    "    try:\n",
    "        DaltonOutputToTableExcited(madmol,xc,operator,basis_list)\n",
    "    except: FileNotFoundError"
   ]
  },
  {
   "cell_type": "code",
   "execution_count": 3,
   "id": "e3369227",
   "metadata": {},
   "outputs": [
    {
     "name": "stdout",
     "output_type": "stream",
     "text": [
      "/home/adrianhurtado/testing/madness-test-suite/madness-test-suite\n",
      "data_tables/r_dalton_Be_hf_excited-state_aug-cc-pVQZ.csv\n"
     ]
    }
   ],
   "source": [
    "print(os.getcwd())\n",
    "df=getDaltonExcitedData('Be','hf',basis_list[2])"
   ]
  },
  {
   "cell_type": "code",
   "execution_count": 7,
   "id": "3c50f434",
   "metadata": {},
   "outputs": [],
   "source": [
    "basis_list=['aug-cc-pVDZ','aug-cc-pVTZ','aug-cc-pVQZ']\n",
    "e,f=generateDaltonExcitedDataTable('Be','hf',4,basis_list)\n"
   ]
  },
  {
   "cell_type": "code",
   "execution_count": 6,
   "id": "59ac762d",
   "metadata": {},
   "outputs": [
    {
     "data": {
      "text/plain": [
       "[    Sym  Mode      freq\n",
       " 0     3     1  0.180735\n",
       " 1     5     1  0.180735\n",
       " 2     2     1  0.180735\n",
       " 3     1     1  0.230195\n",
       " 4     2     2  0.247728\n",
       " 5     3     2  0.247728\n",
       " 6     5     2  0.247728\n",
       " 7     1     3  0.339862\n",
       " 8     1     2  0.339862\n",
       " 9     7     1  0.339862\n",
       " 10    4     1  0.339862\n",
       " 11    6     1  0.339862\n",
       " 12    2     3  0.418553\n",
       " 13    3     3  0.418553\n",
       " 14    5     3  0.418553\n",
       " 15    1     4  0.517208\n",
       " 16    7     2  0.832303\n",
       " 17    6     2  0.832303\n",
       " 18    4     2  0.832303\n",
       " 19    5     4  4.358014\n",
       " 20    3     4  4.358014\n",
       " 21    2     4  4.358014\n",
       " 22    4     3  4.728793\n",
       " 23    7     3  4.728793\n",
       " 24    6     3  4.728793\n",
       " 25    6     4  5.126771\n",
       " 26    4     4  5.126771\n",
       " 27    7     4  5.126771,\n",
       "     Sym  Mode      freq\n",
       " 0     5     1  0.177861\n",
       " 1     2     1  0.177861\n",
       " 2     3     1  0.177861\n",
       " 3     1     1  0.226218\n",
       " 4     5     2  0.248467\n",
       " 5     2     2  0.248467\n",
       " 6     3     2  0.248467\n",
       " 7     7     1  0.319706\n",
       " 8     4     1  0.319706\n",
       " 9     6     1  0.319706\n",
       " 10    1     3  0.319706\n",
       " 11    1     2  0.319706\n",
       " 12    2     3  0.360008\n",
       " 13    5     3  0.360008\n",
       " 14    3     3  0.360008\n",
       " 15    1     4  0.402830\n",
       " 16    5     4  0.676525\n",
       " 17    3     4  0.676525\n",
       " 18    8     1  0.676525\n",
       " 19    2     4  0.676525\n",
       " 20    6     2  0.685070\n",
       " 21    4     2  0.685070\n",
       " 22    7     2  0.685070\n",
       " 23    6     3  1.513117\n",
       " 24    4     3  1.513117\n",
       " 25    7     3  1.513117\n",
       " 26    8     2  1.662140\n",
       " 27    4     4  4.714907\n",
       " 28    6     4  4.714907\n",
       " 29    7     4  4.714907\n",
       " 30    8     3  5.070038\n",
       " 31    8     4  5.970929,\n",
       "     Sym  Mode      freq\n",
       " 0     5     1  0.176963\n",
       " 1     2     1  0.176963\n",
       " 2     3     1  0.176963\n",
       " 3     1     1  0.225875\n",
       " 4     5     2  0.248871\n",
       " 5     2     2  0.248871\n",
       " 6     3     2  0.248871\n",
       " 7     6     1  0.304779\n",
       " 8     4     1  0.304779\n",
       " 9     1     3  0.304779\n",
       " 10    1     2  0.304779\n",
       " 11    7     1  0.304779\n",
       " 12    2     3  0.329946\n",
       " 13    3     3  0.329946\n",
       " 14    5     3  0.329946\n",
       " 15    1     4  0.350071\n",
       " 16    3     4  0.492909\n",
       " 17    8     1  0.492909\n",
       " 18    5     4  0.492909\n",
       " 19    2     4  0.492909\n",
       " 20    7     2  0.656420\n",
       " 21    4     2  0.656420\n",
       " 22    6     2  0.656420\n",
       " 23    7     4  0.992142\n",
       " 24    7     3  0.992142\n",
       " 25    4     4  0.992142\n",
       " 26    6     3  0.992142\n",
       " 27    4     3  0.992142\n",
       " 28    6     4  0.992142\n",
       " 29    8     2  1.176838\n",
       " 30    8     3  2.660495\n",
       " 31    8     4  4.902859]"
      ]
     },
     "execution_count": 6,
     "metadata": {},
     "output_type": "execute_result"
    }
   ],
   "source": [
    "f"
   ]
  },
  {
   "cell_type": "code",
   "execution_count": null,
   "id": "726ad894",
   "metadata": {},
   "outputs": [],
   "source": []
  }
 ],
 "metadata": {
  "kernelspec": {
   "display_name": "Python 3 (ipykernel)",
   "language": "python",
   "name": "python3"
  },
  "language_info": {
   "codemirror_mode": {
    "name": "ipython",
    "version": 3
   },
   "file_extension": ".py",
   "mimetype": "text/x-python",
   "name": "python",
   "nbconvert_exporter": "python",
   "pygments_lexer": "ipython3",
   "version": "3.9.7"
  }
 },
 "nbformat": 4,
 "nbformat_minor": 5
}
