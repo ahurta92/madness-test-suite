{
 "cells": [
  {
   "cell_type": "code",
   "execution_count": 6,
   "id": "64d6e169",
   "metadata": {},
   "outputs": [],
   "source": [
    "from daltonRunner import *\n",
    "PROOT=os.getcwd()\n",
    "\n",
    "if not os.path.exists(\"dalton\"):\n",
    "    os.mkdir(\"dalton\")\n",
    "from madnessToDaltony import *\n",
    "madmols=glob.glob(\"*.mol\")\n",
    "with open(PROOT+'/molecules/frequency.json') as json_file:\n",
    "        freq_json = json.loads(json_file.read())"
   ]
  },
  {
   "cell_type": "code",
   "execution_count": 7,
   "id": "d985b5ad",
   "metadata": {},
   "outputs": [
    {
     "name": "stdout",
     "output_type": "stream",
     "text": [
      "['0.000000D+00', '4.000000D-02', '8.000000D-02']\n",
      "[[14.71195366119, 14.78704648209, 15.02027121344], [14.71195366119, 14.78704648209, 15.02027121344], [17.05669026974, 17.13437241122, 17.37241855209]]\n",
      "[14.71195366119, 14.78704648209, 15.02027121344] xx\n",
      "[14.71195366119, 14.78704648209, 15.02027121344] yy\n",
      "[17.05669026974, 17.13437241122, 17.37241855209] zz\n"
     ]
    }
   ],
   "source": [
    "data=createFrequencyDaltonJSON('HCl','hf','dipole','aug-cc-pVDZ')\n",
    "freq_json = json.dumps(data, indent=4)"
   ]
  },
  {
   "cell_type": "code",
   "execution_count": 8,
   "id": "e3369227",
   "metadata": {},
   "outputs": [
    {
     "name": "stdout",
     "output_type": "stream",
     "text": [
      "{\n",
      "    \"aug-cc-pVDZ\": {\n",
      "        \"ground\": {\n",
      "            \"calculationType\": \"energyCalculation\",\n",
      "            \"calculationTime\": {\n",
      "                \"cpuTime\": 0.015,\n",
      "                \"wallTime\": 0.015,\n",
      "                \"units\": \"second\"\n",
      "            },\n",
      "            \"calculationResults\": {\n",
      "                \"totalEnergy\": {\n",
      "                    \"value\": -460.092615494889,\n",
      "                    \"units\": \"Hartree\"\n",
      "                },\n",
      "                \"nuclearRepulsionEnergy\": {\n",
      "                    \"value\": 7.057910388957,\n",
      "                    \"units\": \"Hartree\"\n",
      "                },\n",
      "                \"electronEnergy\": {\n",
      "                    \"value\": -467.150525883846,\n",
      "                    \"units\": \"Hartree\"\n",
      "                }\n",
      "            },\n",
      "            \"calculationSetup\": {\n",
      "                \"numberOfElectrons\": 18,\n",
      "                \"molecularSpinMultiplicity\": 1,\n",
      "                \"waveFunctionType\": \"HF\",\n",
      "                \"waveFunctionTheory\": \"Hartree-Fock\",\n",
      "                \"charge\": 0\n",
      "            }\n",
      "        },\n",
      "        \"response\": {\n",
      "            \"frequencies\": [\n",
      "                0.0,\n",
      "                0.04,\n",
      "                0.08\n",
      "            ],\n",
      "            \"xx\": [\n",
      "                14.71195366119,\n",
      "                14.78704648209,\n",
      "                15.02027121344\n",
      "            ],\n",
      "            \"yy\": [\n",
      "                14.71195366119,\n",
      "                14.78704648209,\n",
      "                15.02027121344\n",
      "            ],\n",
      "            \"zz\": [\n",
      "                17.05669026974,\n",
      "                17.13437241122,\n",
      "                17.37241855209\n",
      "            ],\n",
      "            \"calculationTime\": {\n",
      "                \"cpuTime\": 0.02,\n",
      "                \"wallTime\": 0.02,\n",
      "                \"units\": \"second\"\n",
      "            }\n",
      "        }\n",
      "    }\n",
      "}\n"
     ]
    }
   ],
   "source": [
    "\n",
    "\n",
    "print(freq_json)"
   ]
  },
  {
   "cell_type": "code",
   "execution_count": null,
   "id": "3c50f434",
   "metadata": {},
   "outputs": [],
   "source": []
  },
  {
   "cell_type": "code",
   "execution_count": null,
   "id": "59ac762d",
   "metadata": {},
   "outputs": [],
   "source": []
  },
  {
   "cell_type": "code",
   "execution_count": null,
   "id": "726ad894",
   "metadata": {},
   "outputs": [],
   "source": [
    "        \n",
    "\n",
    "        \n",
    "    "
   ]
  },
  {
   "cell_type": "code",
   "execution_count": null,
   "id": "5524c8a1",
   "metadata": {},
   "outputs": [],
   "source": []
  },
  {
   "cell_type": "code",
   "execution_count": null,
   "id": "e0159d84",
   "metadata": {},
   "outputs": [],
   "source": []
  },
  {
   "cell_type": "code",
   "execution_count": null,
   "id": "0d3841ee",
   "metadata": {},
   "outputs": [],
   "source": []
  },
  {
   "cell_type": "code",
   "execution_count": null,
   "id": "da9396f3",
   "metadata": {},
   "outputs": [],
   "source": []
  },
  {
   "cell_type": "code",
   "execution_count": null,
   "id": "d181561e",
   "metadata": {},
   "outputs": [],
   "source": []
  }
 ],
 "metadata": {
  "kernelspec": {
   "display_name": "Python 3 (ipykernel)",
   "language": "python",
   "name": "python3"
  },
  "language_info": {
   "codemirror_mode": {
    "name": "ipython",
    "version": 3
   },
   "file_extension": ".py",
   "mimetype": "text/x-python",
   "name": "python",
   "nbconvert_exporter": "python",
   "pygments_lexer": "ipython3",
   "version": "3.9.7"
  }
 },
 "nbformat": 4,
 "nbformat_minor": 5
}
