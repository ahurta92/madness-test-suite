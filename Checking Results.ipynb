{
 "cells": [
  {
   "cell_type": "code",
   "execution_count": 1,
   "id": "cb50bb56",
   "metadata": {},
   "outputs": [
    {
     "name": "stdout",
     "output_type": "stream",
     "text": [
      "/home/adrianhurtado/testing/madness-test-suite/madness-test-suite\n"
     ]
    }
   ],
   "source": [
    "from daltonRunner import DaltonRunner\n",
    "from madnessReader import MadnessReader"
   ]
  },
  {
   "cell_type": "code",
   "execution_count": 2,
   "id": "8e72e8bd",
   "metadata": {},
   "outputs": [],
   "source": [
    "drunner=DaltonRunner()\n",
    "mreader=MadnessReader()"
   ]
  },
  {
   "cell_type": "code",
   "execution_count": null,
   "id": "f3363736",
   "metadata": {},
   "outputs": [],
   "source": []
  },
  {
   "cell_type": "code",
   "execution_count": 3,
   "id": "f8667d21",
   "metadata": {},
   "outputs": [
    {
     "ename": "AttributeError",
     "evalue": "'DaltonRunner' object has no attribute 'getDaltonFrequencyResults'",
     "output_type": "error",
     "traceback": [
      "\u001b[0;31m---------------------------------------------------------------------------\u001b[0m",
      "\u001b[0;31mAttributeError\u001b[0m                            Traceback (most recent call last)",
      "\u001b[0;32m/tmp/ipykernel_217015/1886712829.py\u001b[0m in \u001b[0;36m<module>\u001b[0;34m\u001b[0m\n\u001b[0;32m----> 1\u001b[0;31m \u001b[0mg\u001b[0m\u001b[0;34m,\u001b[0m\u001b[0mr\u001b[0m\u001b[0;34m=\u001b[0m\u001b[0mdrunner\u001b[0m\u001b[0;34m.\u001b[0m\u001b[0mgetDaltonFrequencyResults\u001b[0m\u001b[0;34m(\u001b[0m\u001b[0;34m'CH3NH2'\u001b[0m\u001b[0;34m,\u001b[0m\u001b[0;34m'hf'\u001b[0m\u001b[0;34m,\u001b[0m\u001b[0;34m'dipole'\u001b[0m\u001b[0;34m,\u001b[0m\u001b[0;34m'aug-cc-pVQZ'\u001b[0m\u001b[0;34m)\u001b[0m\u001b[0;34m\u001b[0m\u001b[0;34m\u001b[0m\u001b[0m\n\u001b[0m",
      "\u001b[0;31mAttributeError\u001b[0m: 'DaltonRunner' object has no attribute 'getDaltonFrequencyResults'"
     ]
    }
   ],
   "source": [
    "g,r=drunner.getDaltonFrequencyResults('CH3NH2','hf','dipole','aug-cc-pVQZ')"
   ]
  },
  {
   "cell_type": "code",
   "execution_count": null,
   "id": "09dba47d",
   "metadata": {},
   "outputs": [],
   "source": [
    "r"
   ]
  },
  {
   "cell_type": "code",
   "execution_count": null,
   "id": "0c77809e",
   "metadata": {},
   "outputs": [],
   "source": [
    "p_mad=mreader.get_polar_result('Ne','hf','dipole')"
   ]
  },
  {
   "cell_type": "code",
   "execution_count": null,
   "id": "0af5b049",
   "metadata": {},
   "outputs": [],
   "source": [
    "p_mad"
   ]
  },
  {
   "cell_type": "code",
   "execution_count": null,
   "id": "70421905",
   "metadata": {},
   "outputs": [],
   "source": []
  },
  {
   "cell_type": "code",
   "execution_count": null,
   "id": "9e80018f",
   "metadata": {},
   "outputs": [],
   "source": [
    "def comparePolar(mol,xc,operator,basis):\n",
    "    p_mad=mreader.get_polar_result(mol,xc,operator)\n",
    "    scf_calc=mreader.get_ground_scf_data(mol,xc)\n",
    "    p_mad=p_mad.iloc[:,0:11]\n",
    "    g,r=drunner.getDaltonFrequencyResults(mol,xc,operator,basis)\n",
    "    \n",
    "    print(p_mad)\n",
    "    print(r)\n",
    "    \n",
    "    return g,r, scf_calc,p_mad\n",
    "    \n",
    "comparePolar('Ne','hf','dipole','d-aug-cc-pVQZ') "
   ]
  },
  {
   "cell_type": "code",
   "execution_count": null,
   "id": "329c7f7c",
   "metadata": {},
   "outputs": [],
   "source": [
    "drunner.get_excited_result('Ne','hf','d-aug-cc-pVQZ')"
   ]
  },
  {
   "cell_type": "code",
   "execution_count": null,
   "id": "4513bf06",
   "metadata": {},
   "outputs": [],
   "source": [
    "g,r,p=comparePolar('Ne','hf','dipole','d-aug-cc-pV6Z') "
   ]
  },
  {
   "cell_type": "code",
   "execution_count": null,
   "id": "43e9d3f1",
   "metadata": {},
   "outputs": [],
   "source": [
    "print(g)\n",
    "print(r)"
   ]
  },
  {
   "cell_type": "code",
   "execution_count": null,
   "id": "a88d1139",
   "metadata": {},
   "outputs": [],
   "source": [
    "g,r=drunner.getDaltonFrequencyResults('Ne','hf','dipole','d-aug-cc-pV6Z')"
   ]
  },
  {
   "cell_type": "code",
   "execution_count": null,
   "id": "40591d75",
   "metadata": {},
   "outputs": [],
   "source": [
    "\n",
    "g,r=drunner.getDaltonFrequencyResults('Ne','hf','dipole','d-aug-cc-pCVQZ')"
   ]
  },
  {
   "cell_type": "code",
   "execution_count": null,
   "id": "0e123fe3",
   "metadata": {},
   "outputs": [],
   "source": [
    "\n",
    "g,r=drunner.getDaltonFrequencyResults('Ne','hf','dipole','d-aug-cc-pV5Z')"
   ]
  },
  {
   "cell_type": "code",
   "execution_count": null,
   "id": "9a96802f",
   "metadata": {},
   "outputs": [],
   "source": [
    "\n",
    "g,r=drunner.getDaltonFrequencyResults('Ne','hf','dipole','d-aug-cc-pV5Z')"
   ]
  },
  {
   "cell_type": "code",
   "execution_count": null,
   "id": "b4bb369c",
   "metadata": {},
   "outputs": [],
   "source": [
    "\n",
    "basis=['d-aug-cc-pVDZ']\n",
    "basis.append('d-aug-cc-pVTZ')\n",
    "basis.append('d-aug-cc-pVQZ')\n",
    "basis.append('d-aug-cc-pV5Z')\n",
    "basis.append('d-aug-cc-pV6Z')\n",
    "\n",
    "gE=[]\n",
    "alpha=[]\n",
    "for b in basis:\n",
    "    g,r=drunner.getDaltonFrequencyResults('Ne','hf','dipole',b)\n",
    "    gE.append(g['totalEnergy'])\n",
    "    alpha.append(r.iloc[0,1])"
   ]
  },
  {
   "cell_type": "code",
   "execution_count": null,
   "id": "40133f6f",
   "metadata": {},
   "outputs": [],
   "source": [
    "import pandas as pd\n",
    "\n",
    "gE=pd.Series(gE).iloc[:]"
   ]
  },
  {
   "cell_type": "code",
   "execution_count": null,
   "id": "037b941f",
   "metadata": {},
   "outputs": [],
   "source": [
    "alpha=pd.Series(alpha)"
   ]
  },
  {
   "cell_type": "code",
   "execution_count": null,
   "id": "9090e1a4",
   "metadata": {},
   "outputs": [],
   "source": [
    "alpha\n"
   ]
  },
  {
   "cell_type": "code",
   "execution_count": null,
   "id": "d56ce514",
   "metadata": {},
   "outputs": [],
   "source": [
    "gE"
   ]
  },
  {
   "cell_type": "code",
   "execution_count": null,
   "id": "2d4d23f6",
   "metadata": {},
   "outputs": [],
   "source": []
  }
 ],
 "metadata": {
  "kernelspec": {
   "display_name": "Python 3 (ipykernel)",
   "language": "python",
   "name": "python3"
  },
  "language_info": {
   "codemirror_mode": {
    "name": "ipython",
    "version": 3
   },
   "file_extension": ".py",
   "mimetype": "text/x-python",
   "name": "python",
   "nbconvert_exporter": "python",
   "pygments_lexer": "ipython3",
   "version": "3.9.7"
  }
 },
 "nbformat": 4,
 "nbformat_minor": 5
}
