{
 "cells": [
  {
   "cell_type": "code",
   "execution_count": 6,
   "id": "1459b4a7",
   "metadata": {},
   "outputs": [],
   "source": [
    "from madnessReader import MadRunner"
   ]
  },
  {
   "cell_type": "code",
   "execution_count": 7,
   "id": "676e1662",
   "metadata": {},
   "outputs": [],
   "source": [
    "mrunner=MadRunner()"
   ]
  },
  {
   "cell_type": "code",
   "execution_count": 8,
   "id": "a105ee66",
   "metadata": {},
   "outputs": [
    {
     "data": {
      "text/plain": [
       "(b'MADNESS runtime initialized with 15 threads in the pool and affinity -1 -1 -1\\nTrying to read frequency.json\\nREAD IT\\ndid not find the frequency data for [Be][hf][]\\n We do not have moldft answers so please run and save the results in the molecule directory\\ntime: \"2022-04-15 14:38:17\"\\nMOLDFT return energy: -14.572937500077627\\nMOLDFT return energy answer: null\\nmoldft path : \"/home/adrianhurtado/testing/madness-test-suite/madness-test-suite/hf/Be\"\\nmoldft json path : \"/home/adrianhurtado/testing/madness-test-suite/madness-test-suite/molecules/moldft.json\"\\nmoldft restart path : \"/home/adrianhurtado/testing/madness-test-suite/madness-test-suite/hf/Be/restartdata.00000\"\\nmolecule path  path : \"/home/adrianhurtado/testing/madness-test-suite/madness-test-suite/molecules/Be.mol\"\\ncalc_info json path : \"/home/adrianhurtado/testing/madness-test-suite/madness-test-suite/hf/Be/calc_info.json\"\\nmoldft json path : \"/home/adrianhurtado/testing/madness-test-suite/madness-test-suite/molecules/moldft.json\"\\nCreating MOLDFT directory for Be:/\"/home/adrianhurtado/testing/madness-test-suite/madness-test-suite/hf/Be\":\\nEntering : \"/home/adrianhurtado/testing/madness-test-suite/madness-test-suite/hf/Be\" to run MOLDFT \\n\\n',\n",
       " None)"
      ]
     },
     "execution_count": 8,
     "metadata": {},
     "output_type": "execute_result"
    }
   ],
   "source": [
    "mrunner.run_madness_ground('Be','hf')"
   ]
  },
  {
   "cell_type": "code",
   "execution_count": 9,
   "id": "e6fc3573",
   "metadata": {},
   "outputs": [
    {
     "name": "stdout",
     "output_type": "stream",
     "text": [
      "mad-excited Be hf\n"
     ]
    },
    {
     "data": {
      "text/plain": [
       "(b'MADNESS runtime initialized with 15 threads in the pool and affinity -1 -1 -1\\nXC Directory Exists\\nTrying to read frequency.json\\nREAD IT\\ndid not find the frequency data for [Be][hf][]\\n We do not have moldft answers so please run and save the results in the molecule directory\\ntime: \"2022-04-15 14:38:17\"\\nMOLDFT return energy: -14.572937500077627\\nMOLDFT return energy answer: null\\nmoldft path : \"/home/adrianhurtado/testing/madness-test-suite/madness-test-suite/hf/Be\"\\nmoldft json path : \"/home/adrianhurtado/testing/madness-test-suite/madness-test-suite/molecules/moldft.json\"\\nmoldft restart path : \"/home/adrianhurtado/testing/madness-test-suite/madness-test-suite/hf/Be/restartdata.00000\"\\nmolecule path  path : \"/home/adrianhurtado/testing/madness-test-suite/madness-test-suite/molecules/Be.mol\"\\ncalc_info json path : \"/home/adrianhurtado/testing/madness-test-suite/madness-test-suite/hf/Be/calc_info.json\"\\nmoldft json path : \"/home/adrianhurtado/testing/madness-test-suite/madness-test-suite/molecules/moldft.json\"\\nMOLDFT directory found \"/home/adrianhurtado/testing/madness-test-suite/madness-test-suite/molecules/Be.mol\"\\nEntering : \"/home/adrianhurtado/testing/madness-test-suite/madness-test-suite/hf/Be\" to run MOLDFT \\n\\n\"/home/adrianhurtado/testing/madness-test-suite/madness-test-suite/hf/Be/excited-4\"\\nxc:  hf\\nnum states:  4\\nexcited_state run_path:  \"/home/adrianhurtado/testing/madness-test-suite/madness-test-suite/hf/Be/excited-4\"\\nsave_path:  \"/home/adrianhurtado/testing/madness-test-suite/madness-test-suite/hf/Be/excited-4/restart_excited.00000\"\\nsave_string:  restart_excited\\nResponse directory found \\nsetting restart\\n\\n     Ground State Parameters\\n     -----------------------\\n    Ground State Archive: ../restartdata\\n Ground State Functional: hf\\n         Spin Restricted: true\\n      Number of orbitals: 2\\n                       L: 2.000000e+02\\n           Wavelet Order: 8\\n        Orbital Energies: [*]  -4.73270262  -0.30928023\\n\\n             archive  ../restartdata # defined   file to read ground parameters from\\n              nwchem  false      # default   Using nwchem files for intelligent starting guess\\n          nwchem_dir  none       # default   Root name of nwchem files for intelligent starting guess\\n              states  4          # defined   Number of excited states requested\\n         print_level  15         # defined   0: no output; 1: final energy; 2: iterations; 3: timings; 10: debug\\n                 tda  false      # default   turn on Tam-Danchof approximation (excitations energy\\n           first_run  true       # default   Are we on the default guess\\n                plot  false      # default   turn on plotting of final orbitals. Output format is .vts\\n          plot_range  false      # default   controls which orbitals will be plotted\\n           plot_data  [0]        # default   Orbitals to plot\\n           plot_cell  []         # default   lo-hi plot cell (default is all space)\\n           core_type  none       # default   core potential type                          [none, mpc]\\n              plot_l  -1.0000e+00 # default   Controls the plotting box size\\n            plot_pts  201        # default   Controls number of points in plots\\n   plot_all_orbitals  true       # defined   Turn on 2D plotting of response orbitals\\n             maxiter  10         # defined   maximum number of iterations\\n               dconv  1.0000e-04 # default   recommended values: 1.e-4 < dconv < 1.e-8\\n      conv_only_dens  false      # default   if true remove bsh_residual from convergence criteria (deprecated)\\n           dconv_set  false      # default   Convergence flage for the orbtial density\\n           guess_xyz  false      # defined   TODO : check what this is for\\n                  lo  4.2194e-03 # derived   smallest length scale we need to resolve\\n            protocol  [1.0000e-04, 1.0000e-06] # defined   calculation protocol\\n     larger_subspace  0          # default   Number of iterations to diagonalize in a subspace consisting of old and new vectors\\n                   k  -1         # default   polynomial order\\n              random  false      # default   Use random guess for initial response functions\\n     store_potential  false      # default   Store the potential instead of computing each iteration\\n             e_range  false      # default   Use an energy range to excite from\\n          e_range_lo  0.0000e+00 # default   Energy range (lower end) for orbitals to excite from\\n          e_range_hi  1.0000e+00 # default   Energy range (upper end) for orbitals to excite from\\n        plot_initial  false      # default   Flag to plot the ground state orbitals read in from archivie\\n             restart  true       # defined   Flag to restart scf loop from file\\n        restart_file  restart_excited # defined   file to read ground parameters from\\n                kain  false      # defined   Turn on Krylov Accelarated Inexact Newton Solver\\n             maxrotn  1.0000e+00 # default   Max orbital rotation per iteration\\n              maxbsh  1.0000e+01 # default   Max bsh residual\\n              maxsub  10         # defined   size of iterative subspace ... set to 0 or 1 to disable\\n                  xc  hf         # defined   XC input line\\n                save  true       # defined   if true save orbitals to disk\\n           save_file  restart_excited # defined   File name to save orbitals for restart\\n        save_density  false      # default   Flag to save density at each iteration\\n           vnucextra  2          # default   load balance parameter for nuclear pot\\n        loadbalparts  2          # default   ??\\n   save_density_file  none       # default   File name to save density for restart\\n        load_density  false      # default   Flag to load density for restart\\n   load_density_file  none       # default   File name to load density for restart\\n      guess_max_iter  5          # default   maximum number of guess iterations\\n           calc_type  full       # derived   full,static,tda\\n       excited_state  true       # defined   Flag to turn on excited state calc\\n         first_order  false      # default   Flag to turn on first order response calc\\n        second_order  false      # default   Flag to turn on second order response calc\\n         third_order  false      # default   Flag to turn on second order response calc\\n              dipole  false      # default   Flag to turn on frequency dependent property calc\\n             nuclear  false      # default   Flag to turn on frequency dependent property calc\\n              order2  false      # default   Flag to turn on frequency dependent property calc\\n              order3  false      # default   Flag to turn on frequency dependent property calc\\n            d2_types  none       # default   possible values are: dd nd dn nn\\n               omega  0.0000e+00 # default   Incident energy for dynamic response\\n                   l  2.0000e+02 # derived   user coordinates box size\\n        num_orbitals  2          # derived   number of ground state orbtials\\n      spinrestricted  true       # derived   is spinrestricted calculation\\n            localize  canon      # default   localization method                          [pm, boys, new, canon]\\n\\n\\nConstruct XC Functional from LIBXC Library\\n\\ninput line was: hf\\n 1.000 HF exchange \\n\\nscreening parameters\\n rhotol, rhomin 1.000000e-07 0.000000e+00\\n         ggatol 1.000000e-04\\npolarized  false \\n\\n\\n\\n\\n MADNESS Time-Dependent Density Functional Theory Response Program\\n ----------------------------------------------------------\\n\\n\\n\\n geometry\\n   eprec  1.000000e-04\\n   units atomic\\n   Be            0.00000000          0.00000000          0.00000000\\n end\\n\\n\\nresponse\\n             archive  ../restartdata # defined   file to read ground parameters from\\n              nwchem  false      # default   Using nwchem files for intelligent starting guess\\n          nwchem_dir  none       # default   Root name of nwchem files for intelligent starting guess\\n              states  4          # defined   Number of excited states requested\\n         print_level  15         # defined   0: no output; 1: final energy; 2: iterations; 3: timings; 10: debug\\n                 tda  false      # default   turn on Tam-Danchof approximation (excitations energy\\n           first_run  true       # default   Are we on the default guess\\n                plot  false      # default   turn on plotting of final orbitals. Output format is .vts\\n          plot_range  false      # default   controls which orbitals will be plotted\\n           plot_data  [0]        # default   Orbitals to plot\\n           plot_cell  []         # default   lo-hi plot cell (default is all space)\\n           core_type  none       # default   core potential type                          [none, mpc]\\n              plot_l  -1.0000e+00 # default   Controls the plotting box size\\n            plot_pts  201        # default   Controls number of points in plots\\n   plot_all_orbitals  true       # defined   Turn on 2D plotting of response orbitals\\n             maxiter  10         # defined   maximum number of iterations\\n               dconv  1.0000e-04 # default   recommended values: 1.e-4 < dconv < 1.e-8\\n      conv_only_dens  false      # default   if true remove bsh_residual from convergence criteria (deprecated)\\n           dconv_set  false      # default   Convergence flage for the orbtial density\\n           guess_xyz  false      # defined   TODO : check what this is for\\n                  lo  4.2194e-03 # derived   smallest length scale we need to resolve\\n            protocol  [1.0000e-04, 1.0000e-06] # defined   calculation protocol\\n     larger_subspace  0          # default   Number of iterations to diagonalize in a subspace consisting of old and new vectors\\n                   k  -1         # default   polynomial order\\n              random  false      # default   Use random guess for initial response functions\\n     store_potential  false      # default   Store the potential instead of computing each iteration\\n             e_range  false      # default   Use an energy range to excite from\\n          e_range_lo  0.0000e+00 # default   Energy range (lower end) for orbitals to excite from\\n          e_range_hi  1.0000e+00 # default   Energy range (upper end) for orbitals to excite from\\n        plot_initial  false      # default   Flag to plot the ground state orbitals read in from archivie\\n             restart  true       # defined   Flag to restart scf loop from file\\n        restart_file  restart_excited # defined   file to read ground parameters from\\n                kain  false      # defined   Turn on Krylov Accelarated Inexact Newton Solver\\n             maxrotn  1.0000e+00 # default   Max orbital rotation per iteration\\n              maxbsh  1.0000e+01 # default   Max bsh residual\\n              maxsub  10         # defined   size of iterative subspace ... set to 0 or 1 to disable\\n                  xc  hf         # defined   XC input line\\n                save  true       # defined   if true save orbitals to disk\\n           save_file  restart_excited # defined   File name to save orbitals for restart\\n        save_density  false      # default   Flag to save density at each iteration\\n           vnucextra  2          # default   load balance parameter for nuclear pot\\n        loadbalparts  2          # default   ??\\n   save_density_file  none       # default   File name to save density for restart\\n        load_density  false      # default   Flag to load density for restart\\n   load_density_file  none       # default   File name to load density for restart\\n      guess_max_iter  5          # default   maximum number of guess iterations\\n           calc_type  full       # derived   full,static,tda\\n       excited_state  true       # defined   Flag to turn on excited state calc\\n         first_order  false      # default   Flag to turn on first order response calc\\n        second_order  false      # default   Flag to turn on second order response calc\\n         third_order  false      # default   Flag to turn on second order response calc\\n              dipole  false      # default   Flag to turn on frequency dependent property calc\\n             nuclear  false      # default   Flag to turn on frequency dependent property calc\\n              order2  false      # default   Flag to turn on frequency dependent property calc\\n              order3  false      # default   Flag to turn on frequency dependent property calc\\n            d2_types  none       # default   possible values are: dd nd dn nn\\n               omega  0.0000e+00 # default   Incident energy for dynamic response\\n                   l  2.0000e+02 # derived   user coordinates box size\\n        num_orbitals  2          # derived   number of ground state orbtials\\n      spinrestricted  true       # derived   is spinrestricted calculation\\n            localize  canon      # default   localization method                          [pm, boys, new, canon]\\n\\nResponse State Calculation for the following protocols\\nProtocol:  [1.000000e-04, 1.000000e-06]\\n\\nSolving NDIM= 3  with thresh 1.000000e-04     k 6   dconv 1.000000e-04 \\n\\n   Ground state overlap:\\n[0,*]   1.00000000   0.00000001\\n[1,*]   0.00000001   0.99999999\\n\\nTrace of Hamiltonian\\n-5.041923e+00\\n   Ground state new_hamiltonian:\\n[0,*]  -4.73268023  -0.00000761\\n[1,*]  -0.00000761  -0.30924288\\n\\n   timer:     Create grnd ham:     0.65s     0.65s\\n   Restarting from file: restart_excited\\n   timer:   Make density omega     0.16s     0.16s\\n\\n   Iteration 0 at time 1.9s\\n -------------------------------\\nChi.x norms at start of iteration:  0\\n[*]   0.55742117   1.33678747   0.83432304   1.00028162\\n\\nChi.y norms at start of iteration  0\\n[*]   0.08605365   0.25258905   0.15392486   0.02819192\\n\\nExcited State Frequencies \\n[*]   0.17630655   0.17645620   0.19250282   0.22487930\\n\\n   timer:   Make density omega     0.14s     0.14s\\nEntering Compute Lambda\\n   timer:       Nuclear energy     0.00s     0.00s\\n   timer: Coulomb Potential J[     0.11s     0.11s\\ninner <X|K0|X>\\n[0,*]   0.06003995   0.00095235   0.00000000   0.00000000\\n[1,*]   0.00095237   0.06136024   0.00000000   0.00000000\\n[2,*]         -nan         -nan         -nan         -nan\\n[3,*]         -nan         -nan         -nan         -nan\\n\\n   timer:    K[ground_density]     1.05s     1.05s\\ninner <X|V0|X>\\n[0,*]  -0.21656462  -0.00382158         -nan         -nan\\n[1,*]  -0.00382159  -0.22187560         -nan         -nan\\n[2,*]         -nan         -nan         -nan         -nan\\n[3,*]         -nan         -nan         -nan         -nan\\n\\n   timer:                  V0X     1.59s     1.59s\\n   timer:                 F0X:     6.07s     6.07s\\n   timer: Create Zero function     0.01s     0.01s\\n   timer:        J[omega] phi:     0.62s     0.62s\\n   timer:        K[omega] phi:     4.25s     4.25s\\n   timer: Add Gamma parts J-K+     0.40s     0.40s\\n   timer:       Project Gamma:     0.15s     0.15s\\ninner <X|J|X>\\n[0,*]   0.03448485  -0.00196021   0.00000000   0.00000000\\n[1,*]  -0.00196021   0.03320537   0.00000000   0.00000000\\n[2,*]         -nan         -nan         -nan         -nan\\n[3,*]         -nan         -nan         -nan         -nan\\n\\ninner <X|KX|X>\\n[0,*]   0.26997584   0.00183509         -nan         -nan\\n[1,*]  -0.00079116   0.27137555         -nan         -nan\\n[2,*]         -nan         -nan         -nan         -nan\\n[3,*]         -nan         -nan         -nan         -nan\\n\\ninner <X|KY|X>\\n[0,*]  -0.00129666  -0.00035730         -nan         -nan\\n[1,*]   0.00226918   0.00072633         -nan         -nan\\n[2,*]         -nan         -nan         -nan         -nan\\n[3,*]         -nan         -nan         -nan         -nan\\n\\ninner <X|K|X>\\n[0,*]   0.26867918   0.00147780         -nan         -nan\\n[1,*]   0.00147801   0.27210188         -nan         -nan\\n[2,*]         -nan         -nan         -nan         -nan\\n[3,*]         -nan         -nan         -nan         -nan\\n\\ninner <X|W|X>\\n[0,*]   0.00000000   0.00000000   0.00000000   0.00000000\\n[1,*]   0.00000000   0.00000000   0.00000000   0.00000000\\n[2,*]         -nan         -nan         -nan         -nan\\n[3,*]         -nan         -nan         -nan         -nan\\n\\ninner <X|Gamma|X>\\n[0,*]  -0.19970947  -0.00539823         -nan         -nan\\n[1,*]  -0.00539844  -0.20569113         -nan         -nan\\n[2,*]         -nan         -nan         -nan         -nan\\n[3,*]         -nan         -nan         -nan         -nan\\n\\n   timer: Print Expectation Cr     0.34s     0.34s\\n   timer: Clear functions and      0.01s     0.01s\\nomega_n before transform\\n[*]   0.17630655   0.17645620   0.19250282   0.22487930\\n\\nBefore Deflate\\n\\n   Excitation Energies:\\ni= 0  roots:  0 [*]   0.17630655   0.17645620   0.19250282   0.22487930\\n\\n\\n   Overlap Matrix:\\n[0,*]   1.00000000  -0.00000000         -nan         -nan\\n[1,*]  -0.00000000   1.00000000         -nan         -nan\\n[2,*]         -nan         -nan         -nan         -nan\\n[3,*]         -nan         -nan         -nan         -nan\\n\\n\\n   Lambda Matrix:\\n[0,*]   0.17633763  -0.00001963         -nan         -nan\\n[1,*]  -0.00001963   0.17784622         -nan         -nan\\n[2,*]         -nan         -nan         -nan         -nan\\n[3,*]         -nan         -nan         -nan         -nan\\n\\n\\n   Singular values of overlap matrix:\\n[*]   1.00000000   1.00000000         -nan         -nan\\n\\n   Left singular vectors of overlap matrix:\\n[0,*]   0.00000000   1.00000000   0.00000000   0.00000000\\n[1,*]   1.00000000   0.00000000   0.00000000   0.00000000\\n[2,*]   0.00000000   0.00000000   1.00000000   0.00000000\\n[3,*]   0.00000000   0.00000000   0.00000000   1.00000000\\n\\nTensorException: msg=\\'TENSOR ASSERTION FAILED: \"/home/adrianhurtado/projects/madness/src/madness/tensor/lapack.cc\"(1025): (s/d)ggev/(c/z)ggev failed\\'\\n                 failed assertion=\\'info == 0\\'\\n                 value=4\\n                 line=1025\\n                 function=\\'ggev\\'\\n                 filename=\\'/home/adrianhurtado/projects/madness/src/madness/tensor/lapack.cc\\'\\n                 tensor=Tensor<double>(4,4) at 0x0x7ffcdbf9b3d0\\n\\n',\n",
       " None)"
      ]
     },
     "execution_count": 9,
     "metadata": {},
     "output_type": "execute_result"
    }
   ],
   "source": [
    "\n",
    "mrunner.run_response('Be','hf','excited-state')"
   ]
  },
  {
   "cell_type": "code",
   "execution_count": 10,
   "id": "13a15f41",
   "metadata": {},
   "outputs": [
    {
     "name": "stdout",
     "output_type": "stream",
     "text": [
      "mad-excited N2 hf\n"
     ]
    },
    {
     "ename": "KeyboardInterrupt",
     "evalue": "",
     "output_type": "error",
     "traceback": [
      "\u001b[0;31m---------------------------------------------------------------------------\u001b[0m",
      "\u001b[0;31mKeyboardInterrupt\u001b[0m                         Traceback (most recent call last)",
      "\u001b[0;32m/tmp/ipykernel_28997/2501852282.py\u001b[0m in \u001b[0;36m<module>\u001b[0;34m\u001b[0m\n\u001b[0;32m----> 1\u001b[0;31m \u001b[0mmrunner\u001b[0m\u001b[0;34m.\u001b[0m\u001b[0mrun_response\u001b[0m\u001b[0;34m(\u001b[0m\u001b[0;34m'N2'\u001b[0m\u001b[0;34m,\u001b[0m\u001b[0;34m'hf'\u001b[0m\u001b[0;34m,\u001b[0m\u001b[0;34m'excited-state'\u001b[0m\u001b[0;34m)\u001b[0m\u001b[0;34m\u001b[0m\u001b[0;34m\u001b[0m\u001b[0m\n\u001b[0m",
      "\u001b[0;32m~/testing/madness-test-suite/madness-test-suite/madnessReader.py\u001b[0m in \u001b[0;36mrun_response\u001b[0;34m(self, mol, xc, operator)\u001b[0m\n\u001b[1;32m    222\u001b[0m         \u001b[0;32melif\u001b[0m \u001b[0moperator\u001b[0m\u001b[0;34m==\u001b[0m\u001b[0;34m'excited-state'\u001b[0m\u001b[0;34m:\u001b[0m\u001b[0;34m\u001b[0m\u001b[0;34m\u001b[0m\u001b[0m\n\u001b[1;32m    223\u001b[0m             \u001b[0mmad_command\u001b[0m\u001b[0;34m=\u001b[0m\u001b[0;34m'mad-excited'\u001b[0m\u001b[0;34m\u001b[0m\u001b[0;34m\u001b[0m\u001b[0m\n\u001b[0;32m--> 224\u001b[0;31m             \u001b[0mmadnessCommand\u001b[0m\u001b[0;34m=\u001b[0m\u001b[0;34m' '\u001b[0m\u001b[0;34m.\u001b[0m\u001b[0mjoin\u001b[0m\u001b[0;34m(\u001b[0m\u001b[0;34m[\u001b[0m\u001b[0mmad_command\u001b[0m\u001b[0;34m,\u001b[0m\u001b[0mmol\u001b[0m\u001b[0;34m,\u001b[0m\u001b[0mxc\u001b[0m\u001b[0;34m]\u001b[0m\u001b[0;34m)\u001b[0m\u001b[0;34m\u001b[0m\u001b[0;34m\u001b[0m\u001b[0m\n\u001b[0m\u001b[1;32m    225\u001b[0m         \u001b[0;32melse\u001b[0m\u001b[0;34m:\u001b[0m\u001b[0;34m\u001b[0m\u001b[0;34m\u001b[0m\u001b[0m\n\u001b[1;32m    226\u001b[0m             \u001b[0mprint\u001b[0m\u001b[0;34m(\u001b[0m\u001b[0;34m'not implemented yet'\u001b[0m\u001b[0;34m)\u001b[0m\u001b[0;34m\u001b[0m\u001b[0;34m\u001b[0m\u001b[0m\n",
      "\u001b[0;32m/usr/lib/python3.9/subprocess.py\u001b[0m in \u001b[0;36mcommunicate\u001b[0;34m(self, input, timeout)\u001b[0m\n\u001b[1;32m   1119\u001b[0m                 \u001b[0mself\u001b[0m\u001b[0;34m.\u001b[0m\u001b[0m_stdin_write\u001b[0m\u001b[0;34m(\u001b[0m\u001b[0minput\u001b[0m\u001b[0;34m)\u001b[0m\u001b[0;34m\u001b[0m\u001b[0;34m\u001b[0m\u001b[0m\n\u001b[1;32m   1120\u001b[0m             \u001b[0;32melif\u001b[0m \u001b[0mself\u001b[0m\u001b[0;34m.\u001b[0m\u001b[0mstdout\u001b[0m\u001b[0;34m:\u001b[0m\u001b[0;34m\u001b[0m\u001b[0;34m\u001b[0m\u001b[0m\n\u001b[0;32m-> 1121\u001b[0;31m                 \u001b[0mstdout\u001b[0m \u001b[0;34m=\u001b[0m \u001b[0mself\u001b[0m\u001b[0;34m.\u001b[0m\u001b[0mstdout\u001b[0m\u001b[0;34m.\u001b[0m\u001b[0mread\u001b[0m\u001b[0;34m(\u001b[0m\u001b[0;34m)\u001b[0m\u001b[0;34m\u001b[0m\u001b[0;34m\u001b[0m\u001b[0m\n\u001b[0m\u001b[1;32m   1122\u001b[0m                 \u001b[0mself\u001b[0m\u001b[0;34m.\u001b[0m\u001b[0mstdout\u001b[0m\u001b[0;34m.\u001b[0m\u001b[0mclose\u001b[0m\u001b[0;34m(\u001b[0m\u001b[0;34m)\u001b[0m\u001b[0;34m\u001b[0m\u001b[0;34m\u001b[0m\u001b[0m\n\u001b[1;32m   1123\u001b[0m             \u001b[0;32melif\u001b[0m \u001b[0mself\u001b[0m\u001b[0;34m.\u001b[0m\u001b[0mstderr\u001b[0m\u001b[0;34m:\u001b[0m\u001b[0;34m\u001b[0m\u001b[0;34m\u001b[0m\u001b[0m\n",
      "\u001b[0;31mKeyboardInterrupt\u001b[0m: "
     ]
    }
   ],
   "source": [
    "\n",
    "mrunner.run_response('N2','hf','excited-state')"
   ]
  },
  {
   "cell_type": "code",
   "execution_count": null,
   "id": "283d99ba",
   "metadata": {},
   "outputs": [],
   "source": []
  }
 ],
 "metadata": {
  "kernelspec": {
   "display_name": "Python 3 (ipykernel)",
   "language": "python",
   "name": "python3"
  },
  "language_info": {
   "codemirror_mode": {
    "name": "ipython",
    "version": 3
   },
   "file_extension": ".py",
   "mimetype": "text/x-python",
   "name": "python",
   "nbconvert_exporter": "python",
   "pygments_lexer": "ipython3",
   "version": "3.9.7"
  }
 },
 "nbformat": 4,
 "nbformat_minor": 5
}
