{
 "cells": [
  {
   "cell_type": "code",
   "execution_count": 1,
   "id": "9e973a36",
   "metadata": {},
   "outputs": [],
   "source": [
    "# NWCHEM Results\n",
    "\n",
    "import qcengine as qcng\n",
    "import qcelemental as qcel\n",
    "import os\n",
    "os.chdir(\"/home/adrianhurtado/testing/madness-test-suite/development\")\n",
    "\n",
    "\n",
    "\n"
   ]
  },
  {
   "cell_type": "code",
   "execution_count": 2,
   "id": "657440f1",
   "metadata": {},
   "outputs": [],
   "source": [
    "import glob\n",
    "molecules={}\n",
    "for mol in glob.glob('molecules/*.mol'):\n",
    "    name=mol.split('/')[1].split('.')[0]\n",
    "    with open(mol) as f:\n",
    "        lines = f.readlines()\n",
    "        symbols=[]    \n",
    "        geometry=[]\n",
    "        for line in lines[3:-1]:\n",
    "            ls=line.split()\n",
    "            symbols.append(ls[0])\n",
    "            geometry=geometry+ls[1:]\n",
    "        molecules[name]=qcel.models.Molecule(geometry=geometry,symbols=symbols)\n",
    "\n"
   ]
  },
  {
   "cell_type": "code",
   "execution_count": null,
   "id": "60fb0760",
   "metadata": {},
   "outputs": [],
   "source": []
  },
  {
   "cell_type": "code",
   "execution_count": 3,
   "id": "b935340f",
   "metadata": {},
   "outputs": [],
   "source": [
    "inp = qcel.models.AtomicInput(\n",
    "     molecule=molecules['Ne'],\n",
    "     driver=\"energy\",\n",
    "     model={\"method\": \"SCF\", \"basis\": \"d-aug-cc-pVQZ\"},\n",
    "     keywords={\"scf_type\": \"hf\"}\n",
    " )"
   ]
  },
  {
   "cell_type": "code",
   "execution_count": null,
   "id": "471d3f63",
   "metadata": {},
   "outputs": [],
   "source": []
  },
  {
   "cell_type": "code",
   "execution_count": 4,
   "id": "9cc033bd",
   "metadata": {},
   "outputs": [
    {
     "data": {
      "text/plain": [
       "AtomicInput(driver='energy', model={'method': 'SCF', 'basis': 'd-aug-cc-pVQZ'}, molecule_hash='d078cfc')"
      ]
     },
     "execution_count": 4,
     "metadata": {},
     "output_type": "execute_result"
    }
   ],
   "source": [
    "inp"
   ]
  },
  {
   "cell_type": "code",
   "execution_count": 8,
   "id": "de2e3c75",
   "metadata": {},
   "outputs": [
    {
     "ename": "AttributeError",
     "evalue": "module 'qcengine' has no attribute 'compute'",
     "output_type": "error",
     "traceback": [
      "\u001b[0;31m---------------------------------------------------------------------------\u001b[0m",
      "\u001b[0;31mAttributeError\u001b[0m                            Traceback (most recent call last)",
      "\u001b[0;32m/tmp/ipykernel_173119/2475809308.py\u001b[0m in \u001b[0;36m<module>\u001b[0;34m\u001b[0m\n\u001b[0;32m----> 1\u001b[0;31m \u001b[0mqcng\u001b[0m\u001b[0;34m.\u001b[0m\u001b[0mcompute\u001b[0m\u001b[0;34m(\u001b[0m\u001b[0;34m)\u001b[0m\u001b[0;34m\u001b[0m\u001b[0;34m\u001b[0m\u001b[0m\n\u001b[0m",
      "\u001b[0;31mAttributeError\u001b[0m: module 'qcengine' has no attribute 'compute'"
     ]
    }
   ],
   "source": [
    "qcng.compute()"
   ]
  },
  {
   "cell_type": "code",
   "execution_count": null,
   "id": "4b559804",
   "metadata": {},
   "outputs": [],
   "source": []
  }
 ],
 "metadata": {
  "kernelspec": {
   "display_name": "Python 3 (ipykernel)",
   "language": "python",
   "name": "python3"
  },
  "language_info": {
   "codemirror_mode": {
    "name": "ipython",
    "version": 3
   },
   "file_extension": ".py",
   "mimetype": "text/x-python",
   "name": "python",
   "nbconvert_exporter": "python",
   "pygments_lexer": "ipython3",
   "version": "3.9.7"
  }
 },
 "nbformat": 4,
 "nbformat_minor": 5
}
