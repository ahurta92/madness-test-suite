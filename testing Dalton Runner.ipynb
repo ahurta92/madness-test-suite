{
 "cells": [
  {
   "cell_type": "code",
   "execution_count": 1,
   "id": "cb50bb56",
   "metadata": {},
   "outputs": [],
   "source": [
    "from daltonRunner import DaltonRunner"
   ]
  },
  {
   "cell_type": "code",
   "execution_count": 2,
   "id": "8e72e8bd",
   "metadata": {},
   "outputs": [
    {
     "name": "stdout",
     "output_type": "stream",
     "text": [
      "8\n"
     ]
    }
   ],
   "source": [
    "\n",
    "drunner=DaltonRunner()"
   ]
  },
  {
   "cell_type": "code",
   "execution_count": 3,
   "id": "ce328499",
   "metadata": {},
   "outputs": [
    {
     "name": "stdout",
     "output_type": "stream",
     "text": [
      "/home/adrianhurtado/anaconda3/bin/mpirun\n",
      "16\n"
     ]
    }
   ],
   "source": [
    "import os\n",
    "import shutil\n",
    "os.path.exists(\"mpirun\")\n",
    "N=shutil.which(\"mpirun\")\n",
    "print(N) \n",
    "print(os.cpu_count()) "
   ]
  },
  {
   "cell_type": "code",
   "execution_count": null,
   "id": "f3363736",
   "metadata": {},
   "outputs": [
    {
     "name": "stderr",
     "output_type": "stream",
     "text": [
      "Did not finish  /home/adrianhurtado/testing/madness-test-suite/madness-test-suite/../dalton/hf/CH3NH2/dipole/freq_CH3NH2-aug-cc-pVQZ.out not found!\n"
     ]
    }
   ],
   "source": [
    "drunner.get_polar_json('CH3NH2','hf','dipole','aug-cc-pVQZ')"
   ]
  },
  {
   "cell_type": "code",
   "execution_count": 4,
   "id": "f8667d21",
   "metadata": {},
   "outputs": [
    {
     "name": "stdout",
     "output_type": "stream",
     "text": [
      "{\n",
      "  \"simulation\": {\n",
      "    \"calculations\": [\n",
      "      {\n",
      "        \"calculationType\": \"energyCalculation\",\n",
      "        \"calculationTime\": {\n",
      "          \"cpuTime\": 203.761,\n",
      "          \"wallTime\": 204.375,\n",
      "          \"units\": \"second\"\n",
      "        },\n",
      "        \"calculationResults\": {\n",
      "          \"totalEnergy\": {\n",
      "            \"value\": -95.26146532799,\n",
      "            \"units\": \"Hartree\"\n",
      "          },\n",
      "          \"nuclearRepulsionEnergy\": {\n",
      "            \"value\": 42.095892670917,\n",
      "            \"units\": \"Hartree\"\n",
      "          },\n",
      "          \"electronEnergy\": {\n",
      "            \"value\": -137.357357998906,\n",
      "            \"units\": \"Hartree\"\n",
      "          }\n",
      "        },\n",
      "        \"calculationSetup\": {\n",
      "          \"numberOfElectrons\": 18,\n",
      "          \"molecularSpinMultiplicity\": 1,\n",
      "          \"waveFunctionType\": \"HF\",\n",
      "          \"waveFunctionTheory\": \"Hartree-Fock\",\n",
      "          \"charge\": 0\n",
      "        }\n",
      "      },\n",
      "      {\n",
      "        \"calculationType\": \"LinearResponse\",\n",
      "        \"calculationTime\": {\n",
      "          \"cpuTime\": 12.0,\n",
      "          \"wallTime\": 12.0,\n",
      "          \"units\": \"second\"\n",
      "        },\n",
      "        \"calculationResults\": {\n",
      "          \"xx\": [\n",
      "            22.77366294503,\n",
      "            22.79479174662,\n",
      "            22.85860121989,\n",
      "            23.12044673959,\n",
      "            24.29414339453\n",
      "          ],\n",
      "          \"xy\": [\n",
      "            0,\n",
      "            0,\n",
      "            0,\n",
      "            0,\n",
      "            0\n",
      "          ],\n",
      "          \"xz\": [\n",
      "            -0.02700539277676,\n",
      "            -0.02514773755415,\n",
      "            -0.01948826200044,\n",
      "            0.004513281272345,\n",
      "            0.1274246213554\n",
      "          ],\n",
      "          \"yx\": [\n",
      "            0,\n",
      "            0,\n",
      "            0,\n",
      "            0,\n",
      "            0\n",
      "          ],\n",
      "          \"yy\": [\n",
      "            22.90317876879,\n",
      "            22.92009142682,\n",
      "            22.97103412391,\n",
      "            23.17793788562,\n",
      "            24.060006159\n",
      "          ],\n",
      "          \"yz\": [\n",
      "            0,\n",
      "            0,\n",
      "            0,\n",
      "            0,\n",
      "            0\n",
      "          ],\n",
      "          \"zx\": [\n",
      "            0,\n",
      "            0,\n",
      "            0,\n",
      "            0,\n",
      "            0\n",
      "          ],\n",
      "          \"zy\": [\n",
      "            0,\n",
      "            0,\n",
      "            0,\n",
      "            0,\n",
      "            0\n",
      "          ],\n",
      "          \"zz\": [\n",
      "            26.35803565929,\n",
      "            26.38036901781,\n",
      "            26.44769567682,\n",
      "            26.7220314874,\n",
      "            27.90928990368\n",
      "          ]\n",
      "        },\n",
      "        \"calculationSetup\": {\n",
      "          \"frequencies\": [\n",
      "            0.0,\n",
      "            0.0159075,\n",
      "            0.031815,\n",
      "            0.06363,\n",
      "            0.12726\n",
      "          ],\n",
      "          \"numFrequencies\": 5\n",
      "        }\n",
      "      }\n",
      "    ],\n",
      "    \"simulationTime\": {\n",
      "      \"cpuTime\": 16.0,\n",
      "      \"wallTime\": 16.0,\n",
      "      \"units\": \"second\"\n",
      "    }\n",
      "  }\n",
      "}\n",
      "{'ground': {'calculationType': 'energyCalculation', 'calculationTime': {'cpuTime': 203.761, 'wallTime': 204.375, 'units': 'second'}, 'calculationResults': {'totalEnergy': {'value': -95.26146532799, 'units': 'Hartree'}, 'nuclearRepulsionEnergy': {'value': 42.095892670917, 'units': 'Hartree'}, 'electronEnergy': {'value': -137.357357998906, 'units': 'Hartree'}}, 'calculationSetup': {'numberOfElectrons': 18, 'molecularSpinMultiplicity': 1, 'waveFunctionType': 'HF', 'waveFunctionTheory': 'Hartree-Fock', 'charge': 0}}, 'response': {'frequencies': [0.0, 0.0159075, 0.031815, 0.06363, 0.12726], 'values': {'xx': [22.77366294503, 22.79479174662, 22.85860121989, 23.12044673959, 24.29414339453], 'xy': [0, 0, 0, 0, 0], 'xz': [-0.02700539277676, -0.02514773755415, -0.01948826200044, 0.004513281272345, 0.1274246213554], 'yx': [0, 0, 0, 0, 0], 'yy': [22.90317876879, 22.92009142682, 22.97103412391, 23.17793788562, 24.060006159], 'yz': [0, 0, 0, 0, 0], 'zx': [0, 0, 0, 0, 0], 'zy': [0, 0, 0, 0, 0], 'zz': [26.35803565929, 26.38036901781, 26.44769567682, 26.7220314874, 27.90928990368]}, 'calculationTime': {'cpuTime': 12.0, 'wallTime': 12.0, 'units': 'second'}}}\n"
     ]
    },
    {
     "data": {
      "text/plain": [
       "(basis                     aug-cc-pVQZ\n",
       " totalEnergy                -95.261465\n",
       " nuclearRepulsionEnergy      42.095893\n",
       " electronEnergy            -137.357358\n",
       " gcpuTime                      203.761\n",
       " gwallTime                     204.375\n",
       " rcpuTime                         12.0\n",
       " rwallTime                        12.0\n",
       " numberOfElectrons                  18\n",
       " dtype: object,\n",
       "    frequencies         xx  xy        xz  yx         yy  yz  zx  zy         zz\n",
       " 0     0.000000  22.773663   0 -0.027005   0  22.903179   0   0   0  26.358036\n",
       " 1     0.015908  22.794792   0 -0.025148   0  22.920091   0   0   0  26.380369\n",
       " 2     0.031815  22.858601   0 -0.019488   0  22.971034   0   0   0  26.447696\n",
       " 3     0.063630  23.120447   0  0.004513   0  23.177938   0   0   0  26.722031\n",
       " 4     0.127260  24.294143   0  0.127425   0  24.060006   0   0   0  27.909290)"
      ]
     },
     "execution_count": 4,
     "metadata": {},
     "output_type": "execute_result"
    }
   ],
   "source": [
    "drunner.getDaltonFrequencyResults('CH3NH2','hf','dipole','aug-cc-pVQZ')"
   ]
  },
  {
   "cell_type": "code",
   "execution_count": null,
   "id": "09dba47d",
   "metadata": {},
   "outputs": [],
   "source": []
  },
  {
   "cell_type": "code",
   "execution_count": null,
   "id": "0c77809e",
   "metadata": {},
   "outputs": [],
   "source": []
  },
  {
   "cell_type": "code",
   "execution_count": null,
   "id": "0af5b049",
   "metadata": {},
   "outputs": [],
   "source": []
  },
  {
   "cell_type": "code",
   "execution_count": null,
   "id": "70421905",
   "metadata": {},
   "outputs": [],
   "source": []
  },
  {
   "cell_type": "code",
   "execution_count": null,
   "id": "9e80018f",
   "metadata": {},
   "outputs": [],
   "source": []
  },
  {
   "cell_type": "code",
   "execution_count": null,
   "id": "329c7f7c",
   "metadata": {},
   "outputs": [],
   "source": []
  }
 ],
 "metadata": {
  "kernelspec": {
   "display_name": "Python 3 (ipykernel)",
   "language": "python",
   "name": "python3"
  },
  "language_info": {
   "codemirror_mode": {
    "name": "ipython",
    "version": 3
   },
   "file_extension": ".py",
   "mimetype": "text/x-python",
   "name": "python",
   "nbconvert_exporter": "python",
   "pygments_lexer": "ipython3",
   "version": "3.9.12"
  }
 },
 "nbformat": 4,
 "nbformat_minor": 5
}
