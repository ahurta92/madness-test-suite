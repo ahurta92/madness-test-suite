{
 "cells": [
  {
   "cell_type": "code",
   "execution_count": 1,
   "id": "cb50bb56",
   "metadata": {
    "pycharm": {
     "name": "#%%\n"
    }
   },
   "outputs": [],
   "source": [
    "import os\n",
    "import pandas as pd\n",
    "os.chdir(\"/home/adrianhurtado/testing/madness-test-suite/timings-6-3-22\")\n",
    "from madnessReader import MadnessReader\n",
    "from madnessReader import ExcitedData\n",
    "from madnessReader import FrequencyData\n",
    "from daltonRunner import DaltonRunner\n",
    "import matplotlib.pyplot as plt\n",
    "dalton_reader = DaltonRunner()"
   ]
  },
  {
   "cell_type": "code",
   "execution_count": 2,
   "id": "8e72e8bd",
   "metadata": {
    "pycharm": {
     "name": "#%%\n"
    }
   },
   "outputs": [],
   "source": [
    "basis_list=['aug-cc-pVDZ','aug-cc-pVTZ','aug-cc-pVQZ','aug-cc-pV5Z','aug-cc-pV6Z']\n",
    "d_basis_list=['d-aug-cc-pVDZ','d-aug-cc-pVTZ','d-aug-cc-pVQZ','d-aug-cc-pV5Z','d-aug-cc-pV6Z']"
   ]
  },
  {
   "cell_type": "code",
   "execution_count": 3,
   "id": "f3363736",
   "metadata": {
    "pycharm": {
     "name": "#%%\n"
    }
   },
   "outputs": [],
   "source": [
    "def create_polar_table(mol,xc,basis_list,xx):\n",
    "    \n",
    "    ground_dalton, response_dalton = dalton_reader.get_frequency_result(mol, 'hf', 'dipole', basis_list[0])\n",
    "    freq=response_dalton['frequencies']\n",
    "    g_data={}\n",
    "    xx_data=[]\n",
    "    for i in range(len(freq)):\n",
    "        xx_data.append({})\n",
    "    for basis in basis_list:\n",
    "        ground_dalton, response_dalton = dalton_reader.get_frequency_result(mol, 'hf', 'dipole', basis)\n",
    "        for i in range(len(freq)):\n",
    "            xx_data[i][basis]=response_dalton[xx][i]\n",
    "        g_data[basis]=ground_dalton['totalEnergy']\n",
    "    g_df=pd.Series(g_data)\n",
    "    g_df.name='Total HF Energy'\n",
    "    names=[]\n",
    "    for f in freq:\n",
    "        raw_f = r'{}'.format(str(f)) \n",
    "        #names.append(r'$$\\alpha_{xx}('+raw_f+r')$$')\n",
    "        names.append('a('+'{:.3f}'.format(f)+')')\n",
    "    r_dfs=[]\n",
    "    for i in range(len(freq)):\n",
    "        r_dfs.append(pd.Series(xx_data[i]))\n",
    "        r_dfs[i].name=names[i]\n",
    "    dalton_df=pd.concat([g_df]+r_dfs,axis=1)\n",
    "\n",
    "    moldata=FrequencyData(mol,'hf','dipole')\n",
    "    moldata.polar_df[xx]\n",
    "    mad_data_e={}\n",
    "    mad_data_r={}\n",
    "    mad_data_e['Total HF Energy']=moldata.ground_e['e_tot']\n",
    "\n",
    "    for i in range(len(names)):\n",
    "        mad_data_r[names[i]]=moldata.polar_df[xx][i]\n",
    "    \n",
    "    mad_data_e=pd.Series(mad_data_e)\n",
    "    mad_data_r=pd.Series(mad_data_r)\n",
    "    \n",
    "    mad_data=pd.concat([mad_data_e,mad_data_r],axis=0)\n",
    "    mad_data.name='MRA'\n",
    "    return dalton_df.append(mad_data)\n",
    "    \n",
    "    return dalton_df\n",
    "\n",
    "def create_data(mol,basis_list):\n",
    "    \n",
    "    res_dict={'xx':'density_residualX','yy':'density_residualY','zz':'density_residualZ'}\n",
    "    \n",
    "    \n",
    "    moldata=FrequencyData(mol,'hf','dipole')\n",
    "    xx=['xx','yy','zz']\n",
    "    data=[]\n",
    "    for x in xx:\n",
    "        data.append(create_polar_table(mol,'hf',basis_list,x))\n",
    "    average=(data[0]+data[1]+data[2])/3\n",
    "    \n",
    "    diff_data=average-average.loc['MRA']\n",
    "    diff_data=diff_data.drop(index='MRA')\n",
    "    \n",
    "    polar_diff=diff_data.drop('Total HF Energy',axis=1)\n",
    "    \n",
    "    residuals=moldata.final_density_residuals()\n",
    "    \n",
    "    cleanX=residuals['density_residualX'].reset_index().drop('index',axis=1)\n",
    "    cleanY=residuals['density_residualY'].reset_index().drop('index',axis=1)\n",
    "    cleanZ=residuals['density_residualZ'].reset_index().drop('index',axis=1)\n",
    "    \n",
    "    cleanX.rename(columns={'density_residualX':'MRA density residual'},inplace=True)\n",
    "    cleanY.rename(columns={'density_residualY':'MRA density residual'},inplace=True)\n",
    "    cleanZ.rename(columns={'density_residualZ':'MRA density residual'},inplace=True)\n",
    "    clean=(cleanX+cleanY+cleanZ)/3\n",
    "    clean.index=polar_diff.T.index\n",
    "    \n",
    "    average=average.append(clean.T)\n",
    "    average.name='Average Polarizability'\n",
    "    \n",
    "    \n",
    "    energy_diff=diff_data['Total HF Energy']\n",
    "    return average,diff_data,energy_diff,polar_diff\n",
    "\n",
    "\n",
    "\n",
    "def create_polar_diff_plot(mol,basis_list):\n",
    "    \n",
    "    \n",
    "    title=mol\n",
    "    yl=r' $\\Delta\\alpha_{avg}$'+r' (MRA - BASIS)'\n",
    "    \n",
    "    \n",
    "    data,diff_data,energy_diff,polar_diff=create_data(mol,basis_list)\n",
    "    polar_diff.iloc[:,:].plot(marker='o', linestyle='solid')\n",
    "    plt.axhline(linewidth=2,ls='--',color='k',label=\"MRA Reference\")\n",
    "    plt.xlabel\n",
    "    plt.legend(fontsize=12)\n",
    "    plt.xticks(fontsize=14,rotation = 20)\n",
    "    plt.title(title,fontsize=20)\n",
    "    plt.ylabel(yl, fontsize=14)\n",
    "    save=mol+'-'+basis_list[0]\n",
    "    if not os.path.exists(\"figures\"):\n",
    "        os.mkdir(\"figures\")\n",
    "    if not os.path.exists(\"tables\"):\n",
    "        os.mkdir(\"tables\")\n",
    "    save='figures/'+save+'.svg'\n",
    "    plt.savefig(save)\n",
    "    \n",
    "    latex_save=mol+'-'+basis_list[0]\n",
    "    latex_save='tables/'+latex_save+'.tex'\n",
    "    data=data.round(decimals=3)\n",
    "    data.to_latex(latex_save,na_rep=' ')\n",
    "    \n",
    "    \n",
    "    return data\n"
   ]
  },
  {
   "cell_type": "code",
   "execution_count": 4,
   "id": "71f4a093",
   "metadata": {},
   "outputs": [
    {
     "name": "stdout",
     "output_type": "stream",
     "text": [
      "C2H2\n",
      "He\n",
      "HF\n",
      "NH3\n",
      "Ne\n",
      "H2\n",
      "HCl\n",
      "H2O\n",
      "C6H6\n",
      "CH4\n",
      "BeH2\n",
      "Be\n"
     ]
    }
   ],
   "source": [
    "import glob\n",
    "for g in glob.glob('molecules/*.mol'):\n",
    "    m=g.split('/')\n",
    "    mol=m[1].split('.')[0]\n",
    "    print(mol)\n"
   ]
  },
  {
   "cell_type": "code",
   "execution_count": 11,
   "id": "804e6079",
   "metadata": {
    "pycharm": {
     "name": "#%%\n"
    }
   },
   "outputs": [],
   "source": [
    "\n",
    "def get_excited_mol_series(mol,basis):\n",
    "    d=ExcitedData(mol,'hf')\n",
    "    g,e=d.compare_dalton(basis)\n",
    "    molseries=pd.concat([pd.Series(d.converged),e['freq'],e['mad-omega'],e['freq']-e['mad-omega']])\n",
    "    display(molseries)\n",
    "    return molseries"
   ]
  },
  {
   "cell_type": "code",
   "execution_count": 12,
   "id": "144cf671",
   "metadata": {
    "pycharm": {
     "name": "#%%\n"
    }
   },
   "outputs": [],
   "source": [
    "def create_excited_comparison_data(basis):\n",
    "    \n",
    "    data={}\n",
    "    for g in glob.glob('molecules/*.mol'):\n",
    "        m=g.split('/')\n",
    "        mol=m[1].split('.')[0]\n",
    "        print(mol)\n",
    "        if mol!='C6H6':\n",
    "            data[mol]=get_excited_mol_series(mol,basis)\n",
    "    excited_data=pd.DataFrame(data).round(3)\n",
    "    return excited_data"
   ]
  },
  {
   "cell_type": "code",
   "execution_count": 18,
   "id": "d87491db",
   "metadata": {},
   "outputs": [
    {
     "name": "stdout",
     "output_type": "stream",
     "text": [
      "C2H2\n",
      "/home/adrianhurtado/testing/madness-test-suite/timings-6-3-22\n"
     ]
    },
    {
     "data": {
      "text/plain": [
       "0    0.000000\n",
       "0    0.219364\n",
       "1    0.237923\n",
       "2    0.237923\n",
       "3    0.296750\n",
       "0    0.224847\n",
       "1    0.237858\n",
       "2    0.296740\n",
       "3    0.298625\n",
       "0   -0.005483\n",
       "1    0.000065\n",
       "2   -0.058817\n",
       "3   -0.001875\n",
       "dtype: float64"
      ]
     },
     "metadata": {},
     "output_type": "display_data"
    },
    {
     "name": "stdout",
     "output_type": "stream",
     "text": [
      "He\n",
      "/home/adrianhurtado/testing/madness-test-suite/timings-6-3-22\n"
     ]
    },
    {
     "data": {
      "text/plain": [
       "0    1.000000\n",
       "0    0.776265\n",
       "1    0.801345\n",
       "2    0.801345\n",
       "3    0.801345\n",
       "0    0.775552\n",
       "1    0.796940\n",
       "2    0.796940\n",
       "3    0.797019\n",
       "0    0.000713\n",
       "1    0.004405\n",
       "2    0.004405\n",
       "3    0.004326\n",
       "dtype: float64"
      ]
     },
     "metadata": {},
     "output_type": "display_data"
    },
    {
     "name": "stdout",
     "output_type": "stream",
     "text": [
      "HF\n",
      "/home/adrianhurtado/testing/madness-test-suite/timings-6-3-22\n"
     ]
    },
    {
     "data": {
      "text/plain": [
       "0    1.000000\n",
       "0    0.429448\n",
       "1    0.429448\n",
       "2    0.534899\n",
       "3    0.534899\n",
       "0    0.429395\n",
       "1    0.429414\n",
       "2    0.534771\n",
       "3    0.534796\n",
       "0    0.000053\n",
       "1    0.000034\n",
       "2    0.000128\n",
       "3    0.000103\n",
       "dtype: float64"
      ]
     },
     "metadata": {},
     "output_type": "display_data"
    },
    {
     "name": "stdout",
     "output_type": "stream",
     "text": [
      "NH3\n",
      "/home/adrianhurtado/testing/madness-test-suite/timings-6-3-22\n"
     ]
    },
    {
     "data": {
      "text/plain": [
       "0    0.000000\n",
       "0    0.272872\n",
       "1    0.325656\n",
       "2    0.325657\n",
       "3    0.343225\n",
       "0    0.325617\n",
       "1    0.334681\n",
       "2    0.341245\n",
       "3    0.366803\n",
       "0   -0.052745\n",
       "1   -0.009025\n",
       "2   -0.015588\n",
       "3   -0.023578\n",
       "dtype: float64"
      ]
     },
     "metadata": {},
     "output_type": "display_data"
    },
    {
     "name": "stdout",
     "output_type": "stream",
     "text": [
      "Ne\n",
      "/home/adrianhurtado/testing/madness-test-suite/timings-6-3-22\n"
     ]
    },
    {
     "data": {
      "text/plain": [
       "0    0.000000\n",
       "0    0.674466\n",
       "1    0.674466\n",
       "2    0.674466\n",
       "3    0.739256\n",
       "0    0.674093\n",
       "1    0.674095\n",
       "2    0.674099\n",
       "3    0.792131\n",
       "0    0.000373\n",
       "1    0.000371\n",
       "2    0.000367\n",
       "3   -0.052875\n",
       "dtype: float64"
      ]
     },
     "metadata": {},
     "output_type": "display_data"
    },
    {
     "name": "stdout",
     "output_type": "stream",
     "text": [
      "H2\n",
      "/home/adrianhurtado/testing/madness-test-suite/timings-6-3-22\n"
     ]
    },
    {
     "data": {
      "text/plain": [
       "0    1.000000\n",
       "0    0.465376\n",
       "1    0.477069\n",
       "2    0.480889\n",
       "3    0.480889\n",
       "0    0.465316\n",
       "1    0.476952\n",
       "2    0.480607\n",
       "3    0.480607\n",
       "0    0.000060\n",
       "1    0.000117\n",
       "2    0.000282\n",
       "3    0.000282\n",
       "dtype: float64"
      ]
     },
     "metadata": {},
     "output_type": "display_data"
    },
    {
     "name": "stdout",
     "output_type": "stream",
     "text": [
      "HCl\n",
      "/home/adrianhurtado/testing/madness-test-suite/timings-6-3-22\n"
     ]
    },
    {
     "data": {
      "text/plain": [
       "0    0.000000\n",
       "0    0.303049\n",
       "1    0.303049\n",
       "2    0.364735\n",
       "3    0.364735\n",
       "0    0.301935\n",
       "1    0.301936\n",
       "2    0.363239\n",
       "3    0.374791\n",
       "0    0.001114\n",
       "1    0.001113\n",
       "2    0.001496\n",
       "3   -0.010056\n",
       "dtype: float64"
      ]
     },
     "metadata": {},
     "output_type": "display_data"
    },
    {
     "name": "stdout",
     "output_type": "stream",
     "text": [
      "H2O\n",
      "/home/adrianhurtado/testing/madness-test-suite/timings-6-3-22\n"
     ]
    },
    {
     "data": {
      "text/plain": [
       "0    0.000000\n",
       "0    0.317785\n",
       "1    0.378974\n",
       "2    0.399653\n",
       "3    0.409732\n",
       "0    0.378971\n",
       "1    0.396480\n",
       "2    0.400772\n",
       "3    0.459615\n",
       "0   -0.061186\n",
       "1   -0.017506\n",
       "2   -0.001119\n",
       "3   -0.049883\n",
       "dtype: float64"
      ]
     },
     "metadata": {},
     "output_type": "display_data"
    },
    {
     "name": "stdout",
     "output_type": "stream",
     "text": [
      "C6H6\n",
      "CH4\n",
      "/home/adrianhurtado/testing/madness-test-suite/timings-6-3-22\n"
     ]
    },
    {
     "data": {
      "text/plain": [
       "0    0.000000\n",
       "0    0.406295\n",
       "1    0.406295\n",
       "2    0.406295\n",
       "3    0.452574\n",
       "0    0.406301\n",
       "1    0.406302\n",
       "2    0.419700\n",
       "3    0.452968\n",
       "0   -0.000006\n",
       "1   -0.000007\n",
       "2   -0.013405\n",
       "3   -0.000394\n",
       "dtype: float64"
      ]
     },
     "metadata": {},
     "output_type": "display_data"
    },
    {
     "name": "stdout",
     "output_type": "stream",
     "text": [
      "BeH2\n",
      "/home/adrianhurtado/testing/madness-test-suite/timings-6-3-22\n"
     ]
    },
    {
     "data": {
      "text/plain": [
       "0    1.000000\n",
       "0    0.259482\n",
       "1    0.259482\n",
       "2    0.333921\n",
       "3    0.333921\n",
       "0    0.259453\n",
       "1    0.259455\n",
       "2    0.333737\n",
       "3    0.333740\n",
       "0    0.000029\n",
       "1    0.000027\n",
       "2    0.000184\n",
       "3    0.000181\n",
       "dtype: float64"
      ]
     },
     "metadata": {},
     "output_type": "display_data"
    },
    {
     "name": "stdout",
     "output_type": "stream",
     "text": [
      "Be\n",
      "/home/adrianhurtado/testing/madness-test-suite/timings-6-3-22\n"
     ]
    },
    {
     "data": {
      "text/plain": [
       "0    1.000000\n",
       "0    0.176939\n",
       "1    0.176939\n",
       "2    0.176939\n",
       "3    0.224906\n",
       "0    0.176307\n",
       "1    0.176366\n",
       "2    0.176392\n",
       "3    0.247054\n",
       "0    0.000632\n",
       "1    0.000573\n",
       "2    0.000547\n",
       "3   -0.022148\n",
       "dtype: float64"
      ]
     },
     "metadata": {},
     "output_type": "display_data"
    }
   ],
   "source": [
    "d=create_excited_comparison_data('d-aug-cc-pVQZ')"
   ]
  },
  {
   "cell_type": "code",
   "execution_count": 19,
   "id": "f6be8489",
   "metadata": {},
   "outputs": [
    {
     "data": {
      "text/html": [
       "<div>\n",
       "<style scoped>\n",
       "    .dataframe tbody tr th:only-of-type {\n",
       "        vertical-align: middle;\n",
       "    }\n",
       "\n",
       "    .dataframe tbody tr th {\n",
       "        vertical-align: top;\n",
       "    }\n",
       "\n",
       "    .dataframe thead th {\n",
       "        text-align: right;\n",
       "    }\n",
       "</style>\n",
       "<table border=\"1\" class=\"dataframe\">\n",
       "  <thead>\n",
       "    <tr style=\"text-align: right;\">\n",
       "      <th></th>\n",
       "      <th>C2H2</th>\n",
       "      <th>He</th>\n",
       "      <th>HF</th>\n",
       "      <th>NH3</th>\n",
       "      <th>Ne</th>\n",
       "      <th>H2</th>\n",
       "      <th>HCl</th>\n",
       "      <th>H2O</th>\n",
       "      <th>CH4</th>\n",
       "      <th>BeH2</th>\n",
       "      <th>Be</th>\n",
       "    </tr>\n",
       "  </thead>\n",
       "  <tbody>\n",
       "    <tr>\n",
       "      <th>0</th>\n",
       "      <td>0.000</td>\n",
       "      <td>1.000</td>\n",
       "      <td>1.000</td>\n",
       "      <td>0.000</td>\n",
       "      <td>0.000</td>\n",
       "      <td>1.000</td>\n",
       "      <td>0.000</td>\n",
       "      <td>0.000</td>\n",
       "      <td>0.000</td>\n",
       "      <td>1.000</td>\n",
       "      <td>1.000</td>\n",
       "    </tr>\n",
       "    <tr>\n",
       "      <th>0</th>\n",
       "      <td>0.219</td>\n",
       "      <td>0.776</td>\n",
       "      <td>0.429</td>\n",
       "      <td>0.273</td>\n",
       "      <td>0.674</td>\n",
       "      <td>0.465</td>\n",
       "      <td>0.303</td>\n",
       "      <td>0.318</td>\n",
       "      <td>0.406</td>\n",
       "      <td>0.259</td>\n",
       "      <td>0.177</td>\n",
       "    </tr>\n",
       "    <tr>\n",
       "      <th>1</th>\n",
       "      <td>0.238</td>\n",
       "      <td>0.801</td>\n",
       "      <td>0.429</td>\n",
       "      <td>0.326</td>\n",
       "      <td>0.674</td>\n",
       "      <td>0.477</td>\n",
       "      <td>0.303</td>\n",
       "      <td>0.379</td>\n",
       "      <td>0.406</td>\n",
       "      <td>0.259</td>\n",
       "      <td>0.177</td>\n",
       "    </tr>\n",
       "    <tr>\n",
       "      <th>2</th>\n",
       "      <td>0.238</td>\n",
       "      <td>0.801</td>\n",
       "      <td>0.535</td>\n",
       "      <td>0.326</td>\n",
       "      <td>0.674</td>\n",
       "      <td>0.481</td>\n",
       "      <td>0.365</td>\n",
       "      <td>0.400</td>\n",
       "      <td>0.406</td>\n",
       "      <td>0.334</td>\n",
       "      <td>0.177</td>\n",
       "    </tr>\n",
       "    <tr>\n",
       "      <th>3</th>\n",
       "      <td>0.297</td>\n",
       "      <td>0.801</td>\n",
       "      <td>0.535</td>\n",
       "      <td>0.343</td>\n",
       "      <td>0.739</td>\n",
       "      <td>0.481</td>\n",
       "      <td>0.365</td>\n",
       "      <td>0.410</td>\n",
       "      <td>0.453</td>\n",
       "      <td>0.334</td>\n",
       "      <td>0.225</td>\n",
       "    </tr>\n",
       "    <tr>\n",
       "      <th>0</th>\n",
       "      <td>0.225</td>\n",
       "      <td>0.776</td>\n",
       "      <td>0.429</td>\n",
       "      <td>0.326</td>\n",
       "      <td>0.674</td>\n",
       "      <td>0.465</td>\n",
       "      <td>0.302</td>\n",
       "      <td>0.379</td>\n",
       "      <td>0.406</td>\n",
       "      <td>0.259</td>\n",
       "      <td>0.176</td>\n",
       "    </tr>\n",
       "    <tr>\n",
       "      <th>1</th>\n",
       "      <td>0.238</td>\n",
       "      <td>0.797</td>\n",
       "      <td>0.429</td>\n",
       "      <td>0.335</td>\n",
       "      <td>0.674</td>\n",
       "      <td>0.477</td>\n",
       "      <td>0.302</td>\n",
       "      <td>0.396</td>\n",
       "      <td>0.406</td>\n",
       "      <td>0.259</td>\n",
       "      <td>0.176</td>\n",
       "    </tr>\n",
       "    <tr>\n",
       "      <th>2</th>\n",
       "      <td>0.297</td>\n",
       "      <td>0.797</td>\n",
       "      <td>0.535</td>\n",
       "      <td>0.341</td>\n",
       "      <td>0.674</td>\n",
       "      <td>0.481</td>\n",
       "      <td>0.363</td>\n",
       "      <td>0.401</td>\n",
       "      <td>0.420</td>\n",
       "      <td>0.334</td>\n",
       "      <td>0.176</td>\n",
       "    </tr>\n",
       "    <tr>\n",
       "      <th>3</th>\n",
       "      <td>0.299</td>\n",
       "      <td>0.797</td>\n",
       "      <td>0.535</td>\n",
       "      <td>0.367</td>\n",
       "      <td>0.792</td>\n",
       "      <td>0.481</td>\n",
       "      <td>0.375</td>\n",
       "      <td>0.460</td>\n",
       "      <td>0.453</td>\n",
       "      <td>0.334</td>\n",
       "      <td>0.247</td>\n",
       "    </tr>\n",
       "    <tr>\n",
       "      <th>0</th>\n",
       "      <td>-0.005</td>\n",
       "      <td>0.001</td>\n",
       "      <td>0.000</td>\n",
       "      <td>-0.053</td>\n",
       "      <td>0.000</td>\n",
       "      <td>0.000</td>\n",
       "      <td>0.001</td>\n",
       "      <td>-0.061</td>\n",
       "      <td>-0.000</td>\n",
       "      <td>0.000</td>\n",
       "      <td>0.001</td>\n",
       "    </tr>\n",
       "    <tr>\n",
       "      <th>1</th>\n",
       "      <td>0.000</td>\n",
       "      <td>0.004</td>\n",
       "      <td>0.000</td>\n",
       "      <td>-0.009</td>\n",
       "      <td>0.000</td>\n",
       "      <td>0.000</td>\n",
       "      <td>0.001</td>\n",
       "      <td>-0.018</td>\n",
       "      <td>-0.000</td>\n",
       "      <td>0.000</td>\n",
       "      <td>0.001</td>\n",
       "    </tr>\n",
       "    <tr>\n",
       "      <th>2</th>\n",
       "      <td>-0.059</td>\n",
       "      <td>0.004</td>\n",
       "      <td>0.000</td>\n",
       "      <td>-0.016</td>\n",
       "      <td>0.000</td>\n",
       "      <td>0.000</td>\n",
       "      <td>0.001</td>\n",
       "      <td>-0.001</td>\n",
       "      <td>-0.013</td>\n",
       "      <td>0.000</td>\n",
       "      <td>0.001</td>\n",
       "    </tr>\n",
       "    <tr>\n",
       "      <th>3</th>\n",
       "      <td>-0.002</td>\n",
       "      <td>0.004</td>\n",
       "      <td>0.000</td>\n",
       "      <td>-0.024</td>\n",
       "      <td>-0.053</td>\n",
       "      <td>0.000</td>\n",
       "      <td>-0.010</td>\n",
       "      <td>-0.050</td>\n",
       "      <td>-0.000</td>\n",
       "      <td>0.000</td>\n",
       "      <td>-0.022</td>\n",
       "    </tr>\n",
       "  </tbody>\n",
       "</table>\n",
       "</div>"
      ],
      "text/plain": [
       "    C2H2     He     HF    NH3     Ne     H2    HCl    H2O    CH4   BeH2     Be\n",
       "0  0.000  1.000  1.000  0.000  0.000  1.000  0.000  0.000  0.000  1.000  1.000\n",
       "0  0.219  0.776  0.429  0.273  0.674  0.465  0.303  0.318  0.406  0.259  0.177\n",
       "1  0.238  0.801  0.429  0.326  0.674  0.477  0.303  0.379  0.406  0.259  0.177\n",
       "2  0.238  0.801  0.535  0.326  0.674  0.481  0.365  0.400  0.406  0.334  0.177\n",
       "3  0.297  0.801  0.535  0.343  0.739  0.481  0.365  0.410  0.453  0.334  0.225\n",
       "0  0.225  0.776  0.429  0.326  0.674  0.465  0.302  0.379  0.406  0.259  0.176\n",
       "1  0.238  0.797  0.429  0.335  0.674  0.477  0.302  0.396  0.406  0.259  0.176\n",
       "2  0.297  0.797  0.535  0.341  0.674  0.481  0.363  0.401  0.420  0.334  0.176\n",
       "3  0.299  0.797  0.535  0.367  0.792  0.481  0.375  0.460  0.453  0.334  0.247\n",
       "0 -0.005  0.001  0.000 -0.053  0.000  0.000  0.001 -0.061 -0.000  0.000  0.001\n",
       "1  0.000  0.004  0.000 -0.009  0.000  0.000  0.001 -0.018 -0.000  0.000  0.001\n",
       "2 -0.059  0.004  0.000 -0.016  0.000  0.000  0.001 -0.001 -0.013  0.000  0.001\n",
       "3 -0.002  0.004  0.000 -0.024 -0.053  0.000 -0.010 -0.050 -0.000  0.000 -0.022"
      ]
     },
     "execution_count": 19,
     "metadata": {},
     "output_type": "execute_result"
    }
   ],
   "source": [
    "d"
   ]
  },
  {
   "cell_type": "code",
   "execution_count": 15,
   "id": "08b80fd3",
   "metadata": {},
   "outputs": [
    {
     "data": {
      "text/plain": [
       "True"
      ]
     },
     "execution_count": 15,
     "metadata": {},
     "output_type": "execute_result"
    }
   ],
   "source": [
    "d=ExcitedData('Be','hf')\n",
    "d.converged\n"
   ]
  },
  {
   "cell_type": "code",
   "execution_count": 16,
   "id": "ceec2336",
   "metadata": {},
   "outputs": [
    {
     "ename": "NameError",
     "evalue": "name 'e' is not defined",
     "output_type": "error",
     "traceback": [
      "\u001b[0;31m---------------------------------------------------------------------------\u001b[0m",
      "\u001b[0;31mNameError\u001b[0m                                 Traceback (most recent call last)",
      "\u001b[0;32m/tmp/ipykernel_57555/2184231399.py\u001b[0m in \u001b[0;36m<module>\u001b[0;34m\u001b[0m\n\u001b[0;32m----> 1\u001b[0;31m \u001b[0mpd\u001b[0m\u001b[0;34m.\u001b[0m\u001b[0mconcat\u001b[0m\u001b[0;34m(\u001b[0m\u001b[0;34m[\u001b[0m\u001b[0me\u001b[0m\u001b[0;34m[\u001b[0m\u001b[0;34m'freq'\u001b[0m\u001b[0;34m]\u001b[0m\u001b[0;34m,\u001b[0m\u001b[0me\u001b[0m\u001b[0;34m[\u001b[0m\u001b[0;34m'mad-omega'\u001b[0m\u001b[0;34m]\u001b[0m\u001b[0;34m]\u001b[0m\u001b[0;34m)\u001b[0m\u001b[0;34m\u001b[0m\u001b[0;34m\u001b[0m\u001b[0m\n\u001b[0m",
      "\u001b[0;31mNameError\u001b[0m: name 'e' is not defined"
     ]
    }
   ],
   "source": [
    "pd.concat([e['freq'],e['mad-omega']])"
   ]
  },
  {
   "cell_type": "code",
   "execution_count": null,
   "id": "b0a2c9d7",
   "metadata": {},
   "outputs": [],
   "source": [
    "e"
   ]
  },
  {
   "cell_type": "code",
   "execution_count": null,
   "id": "cc2f7fa1",
   "metadata": {},
   "outputs": [],
   "source": []
  },
  {
   "cell_type": "code",
   "execution_count": null,
   "id": "5e1c9d96",
   "metadata": {},
   "outputs": [],
   "source": []
  },
  {
   "cell_type": "code",
   "execution_count": null,
   "id": "d902a80c",
   "metadata": {},
   "outputs": [],
   "source": []
  },
  {
   "cell_type": "code",
   "execution_count": null,
   "id": "b48f6a29",
   "metadata": {},
   "outputs": [],
   "source": []
  },
  {
   "cell_type": "code",
   "execution_count": null,
   "id": "4a6dbdd6",
   "metadata": {},
   "outputs": [],
   "source": [
    "\n"
   ]
  },
  {
   "cell_type": "code",
   "execution_count": null,
   "id": "7993b002",
   "metadata": {},
   "outputs": [],
   "source": [
    "\n",
    "\n"
   ]
  },
  {
   "cell_type": "code",
   "execution_count": null,
   "id": "168dc3d2",
   "metadata": {},
   "outputs": [],
   "source": []
  },
  {
   "cell_type": "code",
   "execution_count": null,
   "id": "133b60b5",
   "metadata": {},
   "outputs": [],
   "source": []
  },
  {
   "cell_type": "code",
   "execution_count": null,
   "id": "11043309",
   "metadata": {},
   "outputs": [],
   "source": [
    "\n"
   ]
  },
  {
   "cell_type": "code",
   "execution_count": null,
   "id": "2c95fa9b",
   "metadata": {},
   "outputs": [],
   "source": []
  },
  {
   "cell_type": "code",
   "execution_count": null,
   "id": "e84a76d8",
   "metadata": {},
   "outputs": [],
   "source": []
  },
  {
   "cell_type": "code",
   "execution_count": null,
   "id": "c576a31b",
   "metadata": {},
   "outputs": [],
   "source": []
  },
  {
   "cell_type": "code",
   "execution_count": null,
   "id": "7d8107e0",
   "metadata": {},
   "outputs": [],
   "source": []
  },
  {
   "cell_type": "code",
   "execution_count": null,
   "id": "e500e551",
   "metadata": {},
   "outputs": [],
   "source": []
  },
  {
   "cell_type": "code",
   "execution_count": null,
   "id": "8930f94c",
   "metadata": {},
   "outputs": [],
   "source": [
    "\n"
   ]
  },
  {
   "cell_type": "code",
   "execution_count": null,
   "id": "b4ffd1ca",
   "metadata": {},
   "outputs": [],
   "source": []
  }
 ],
 "metadata": {
  "kernelspec": {
   "display_name": "Python 3 (ipykernel)",
   "language": "python",
   "name": "python3"
  },
  "language_info": {
   "codemirror_mode": {
    "name": "ipython",
    "version": 3
   },
   "file_extension": ".py",
   "mimetype": "text/x-python",
   "name": "python",
   "nbconvert_exporter": "python",
   "pygments_lexer": "ipython3",
   "version": "3.9.7"
  }
 },
 "nbformat": 4,
 "nbformat_minor": 5
}
