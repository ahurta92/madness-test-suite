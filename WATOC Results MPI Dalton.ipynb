{
 "cells": [
  {
   "cell_type": "code",
   "execution_count": 33,
   "id": "cb50bb56",
   "metadata": {
    "pycharm": {
     "name": "#%%\n"
    }
   },
   "outputs": [
    {
     "name": "stdout",
     "output_type": "stream",
     "text": [
      "4\n"
     ]
    }
   ],
   "source": [
    "import os\n",
    "import pandas as pd\n",
    "snmem=\"/gpfs/projects/rjh/adrian/test-suite-new/large_polar_low\"\n",
    "ahurt=\"/home/adrianhurtado/testing/madness-test-suite/large_polar_low/\"\n",
    "os.chdir(snmem)\n",
    "from madnessReader import MadnessReader\n",
    "from madnessReader import ExcitedData\n",
    "from madnessReader import FrequencyData\n",
    "from madnessReader import *\n",
    "from daltonRunner import DaltonRunner\n",
    "import matplotlib.pyplot as plt\n",
    "dalton_reader = DaltonRunner()\n",
    "dalton_reader.Np=4\n",
    "dalton_reader.use_mpi=False"
   ]
  },
  {
   "cell_type": "code",
   "execution_count": 34,
   "id": "8e72e8bd",
   "metadata": {
    "pycharm": {
     "name": "#%%\n"
    }
   },
   "outputs": [],
   "source": [
    "basis_list=['aug-cc-pVDZ','aug-cc-pVTZ','aug-cc-pVQZ','aug-cc-pV5Z','aug-cc-pV6Z']\n",
    "d_basis_list=['d-aug-cc-pVDZ','d-aug-cc-pVTZ','d-aug-cc-pVQZ','d-aug-cc-pV5Z','d-aug-cc-pV6Z']"
   ]
  },
  {
   "cell_type": "code",
   "execution_count": null,
   "id": "f3363736",
   "metadata": {
    "pycharm": {
     "name": "#%%\n"
    }
   },
   "outputs": [],
   "source": []
  },
  {
   "cell_type": "code",
   "execution_count": 35,
   "id": "71f4a093",
   "metadata": {},
   "outputs": [
    {
     "name": "stdout",
     "output_type": "stream",
     "text": [
      "N2\n",
      "ClF\n",
      "0.0  not found: [Errno 2] No such file or directory: '/gpfs/projects/rjh/adrian/test-suite-new/large_polar_low/hf/ClF/dipole_hf_0-000000/response_base.json'\n",
      "ClF 'NoneType' object is not subscriptable\n",
      "CH4\n",
      "CS\n",
      "0.0111899375  not found: [Errno 2] No such file or directory: '/gpfs/projects/rjh/adrian/test-suite-new/large_polar_low/hf/CS/dipole_hf_0-011190/response_base.json'\n",
      "LiH_s\n",
      "S2H2\n",
      "NOCl\n",
      "0.0063445625  not found: [Errno 2] No such file or directory: '/gpfs/projects/rjh/adrian/test-suite-new/large_polar_low/hf/NOCl/dipole_hf_0-006345/response_base.json'\n",
      "CH3BH2\n",
      "CH3OH\n"
     ]
    },
    {
     "name": "stderr",
     "output_type": "stream",
     "text": [
      "/gpfs/projects/rjh/adrian/test-suite-new/madness-test-suite/madnessReader.py:304: FutureWarning: The default dtype for empty Series will be 'object' instead of 'float64' in a future version. Specify a dtype explicitly to silence this warning.\n",
      "  return params, iter_data, k_data, thresh_data, d_res_data, bsh_res_data, full_freq_data, rdf, wall_time, cpu_time, pd.Series(\n"
     ]
    },
    {
     "name": "stdout",
     "output_type": "stream",
     "text": [
      "N2H2\n",
      "0.0673115  not found: [Errno 2] No such file or directory: '/gpfs/projects/rjh/adrian/test-suite-new/large_polar_low/hf/N2H2/dipole_hf_0-067311/response_base.json'\n",
      "SiH3Cl\n",
      "P2\n",
      "0.02629525  not found: [Errno 2] No such file or directory: '/gpfs/projects/rjh/adrian/test-suite-new/large_polar_low/hf/P2/dipole_hf_0-026295/response_base.json'\n",
      "HOOH\n",
      "0.02810425  not found: [Errno 2] No such file or directory: '/gpfs/projects/rjh/adrian/test-suite-new/large_polar_low/hf/HOOH/dipole_hf_0-028104/response_base.json'\n",
      "Ne\n",
      "C2H4\n",
      "CO2\n",
      "0.0  not found: [Errno 2] No such file or directory: '/gpfs/projects/rjh/adrian/test-suite-new/large_polar_low/hf/CO2/dipole_hf_0-000000/response_base.json'\n",
      "CO2 'NoneType' object is not subscriptable\n",
      "LiCN\n",
      "0.02924925  not found: [Errno 2] No such file or directory: '/gpfs/projects/rjh/adrian/test-suite-new/large_polar_low/hf/LiCN/dipole_hf_0-029249/response_base.json'\n",
      "O3\n",
      "0.0076265  not found: [Errno 2] No such file or directory: '/gpfs/projects/rjh/adrian/test-suite-new/large_polar_low/hf/O3/dipole_hf_0-007626/response_base.json'\n",
      "PH3\n"
     ]
    },
    {
     "name": "stderr",
     "output_type": "stream",
     "text": [
      "/gpfs/projects/rjh/adrian/test-suite-new/madness-test-suite/madnessReader.py:304: FutureWarning: The default dtype for empty Series will be 'object' instead of 'float64' in a future version. Specify a dtype explicitly to silence this warning.\n",
      "  return params, iter_data, k_data, thresh_data, d_res_data, bsh_res_data, full_freq_data, rdf, wall_time, cpu_time, pd.Series(\n"
     ]
    },
    {
     "name": "stdout",
     "output_type": "stream",
     "text": [
      "PH3O\n",
      "0.03521  not found: [Errno 2] No such file or directory: '/gpfs/projects/rjh/adrian/test-suite-new/large_polar_low/hf/PH3O/dipole_hf_0-035210/response_base.json'\n",
      "N2H4\n",
      "0.122237  not found: [Errno 2] No such file or directory: '/gpfs/projects/rjh/adrian/test-suite-new/large_polar_low/hf/N2H4/dipole_hf_0-122237/response_base.json'\n",
      "C6H6\n",
      "BeH2\n",
      "LiH\n",
      "Li2\n",
      "SiH4\n",
      "OF2\n",
      "0.0  not found: [Errno 2] No such file or directory: '/gpfs/projects/rjh/adrian/test-suite-new/large_polar_low/hf/OF2/dipole_hf_0-000000/response_base.json'\n",
      "OF2 'NoneType' object is not subscriptable\n",
      "HOCl\n"
     ]
    },
    {
     "name": "stderr",
     "output_type": "stream",
     "text": [
      "/gpfs/projects/rjh/adrian/test-suite-new/madness-test-suite/madnessReader.py:304: FutureWarning: The default dtype for empty Series will be 'object' instead of 'float64' in a future version. Specify a dtype explicitly to silence this warning.\n",
      "  return params, iter_data, k_data, thresh_data, d_res_data, bsh_res_data, full_freq_data, rdf, wall_time, cpu_time, pd.Series(\n",
      "/gpfs/projects/rjh/adrian/test-suite-new/madness-test-suite/madnessReader.py:304: FutureWarning: The default dtype for empty Series will be 'object' instead of 'float64' in a future version. Specify a dtype explicitly to silence this warning.\n",
      "  return params, iter_data, k_data, thresh_data, d_res_data, bsh_res_data, full_freq_data, rdf, wall_time, cpu_time, pd.Series(\n"
     ]
    },
    {
     "name": "stdout",
     "output_type": "stream",
     "text": [
      "CH3Cl\n",
      "HCHO\n",
      "Mg\n",
      "HCl\n",
      "HCl [Errno 2] No such file or directory: '/gpfs/projects/rjh/adrian/test-suite-new/large_polar_low/hf/HCl/calc_info.json'\n",
      "HNC\n",
      "0.0  not found: [Errno 2] No such file or directory: '/gpfs/projects/rjh/adrian/test-suite-new/large_polar_low/hf/HNC/dipole_hf_0-000000/response_base.json'\n",
      "HNC 'NoneType' object is not subscriptable\n",
      "HNS\n",
      "HNS [Errno 2] No such file or directory: '/gpfs/projects/rjh/adrian/test-suite-new/large_polar_low/hf/HNS/calc_info.json'\n",
      "CH2BH\n",
      "Na2\n",
      "0.00910725  not found: [Errno 2] No such file or directory: '/gpfs/projects/rjh/adrian/test-suite-new/large_polar_low/hf/Na2/dipole_hf_0-009107/response_base.json'\n",
      "SiH3F\n",
      "0.1676695  not found: [Errno 2] No such file or directory: '/gpfs/projects/rjh/adrian/test-suite-new/large_polar_low/hf/SiH3F/dipole_hf_0-167669/response_base.json'\n",
      "SiO\n",
      "0.053001  not found: [Errno 2] No such file or directory: '/gpfs/projects/rjh/adrian/test-suite-new/large_polar_low/hf/SiO/dipole_hf_0-053001/response_base.json'\n",
      "NH2Cl\n",
      "0.025683625  not found: [Errno 2] No such file or directory: '/gpfs/projects/rjh/adrian/test-suite-new/large_polar_low/hf/NH2Cl/dipole_hf_0-025684/response_base.json'\n",
      "CH2NH\n",
      "0.0  not found: [Errno 2] No such file or directory: '/gpfs/projects/rjh/adrian/test-suite-new/large_polar_low/hf/CH2NH/dipole_hf_0-000000/response_base.json'\n",
      "CH2NH 'NoneType' object is not subscriptable\n",
      "SCl2\n",
      "0.0  not found: [Errno 2] No such file or directory: '/gpfs/projects/rjh/adrian/test-suite-new/large_polar_low/hf/SCl2/dipole_hf_0-000000/response_base.json'\n",
      "SCl2 'NoneType' object is not subscriptable\n",
      "HBS\n",
      "HCOOH\n",
      "0.0  not found: [Errno 2] No such file or directory: '/gpfs/projects/rjh/adrian/test-suite-new/large_polar_low/hf/HCOOH/dipole_hf_0-000000/response_base.json'\n",
      "HCOOH 'NoneType' object is not subscriptable\n",
      "HCONH2\n",
      "HCONH2 [Errno 2] No such file or directory: '/gpfs/projects/rjh/adrian/test-suite-new/large_polar_low/hf/HCONH2/calc_info.json'\n",
      "HBO\n",
      "CH3NH2\n",
      "F2\n",
      "HCHS\n",
      "HCHS [Errno 2] No such file or directory: '/gpfs/projects/rjh/adrian/test-suite-new/large_polar_low/hf/HCHS/calc_info.json'\n",
      "NH3\n",
      "NaCl\n",
      "HCN\n",
      "0.0  not found: [Errno 2] No such file or directory: '/gpfs/projects/rjh/adrian/test-suite-new/large_polar_low/hf/HCN/dipole_hf_0-000000/response_base.json'\n",
      "HCN 'NoneType' object is not subscriptable\n",
      "FCN\n"
     ]
    },
    {
     "name": "stderr",
     "output_type": "stream",
     "text": [
      "/gpfs/projects/rjh/adrian/test-suite-new/madness-test-suite/madnessReader.py:304: FutureWarning: The default dtype for empty Series will be 'object' instead of 'float64' in a future version. Specify a dtype explicitly to silence this warning.\n",
      "  return params, iter_data, k_data, thresh_data, d_res_data, bsh_res_data, full_freq_data, rdf, wall_time, cpu_time, pd.Series(\n",
      "/gpfs/projects/rjh/adrian/test-suite-new/madness-test-suite/madnessReader.py:304: FutureWarning: The default dtype for empty Series will be 'object' instead of 'float64' in a future version. Specify a dtype explicitly to silence this warning.\n",
      "  return params, iter_data, k_data, thresh_data, d_res_data, bsh_res_data, full_freq_data, rdf, wall_time, cpu_time, pd.Series(\n",
      "/gpfs/projects/rjh/adrian/test-suite-new/madness-test-suite/madnessReader.py:304: FutureWarning: The default dtype for empty Series will be 'object' instead of 'float64' in a future version. Specify a dtype explicitly to silence this warning.\n",
      "  return params, iter_data, k_data, thresh_data, d_res_data, bsh_res_data, full_freq_data, rdf, wall_time, cpu_time, pd.Series(\n",
      "/gpfs/projects/rjh/adrian/test-suite-new/madness-test-suite/madnessReader.py:304: FutureWarning: The default dtype for empty Series will be 'object' instead of 'float64' in a future version. Specify a dtype explicitly to silence this warning.\n",
      "  return params, iter_data, k_data, thresh_data, d_res_data, bsh_res_data, full_freq_data, rdf, wall_time, cpu_time, pd.Series(\n"
     ]
    },
    {
     "name": "stdout",
     "output_type": "stream",
     "text": [
      "SO2\n",
      "NH3O\n",
      "Cl2\n",
      "NH2OH\n",
      "0.0  not found: [Errno 2] No such file or directory: '/gpfs/projects/rjh/adrian/test-suite-new/large_polar_low/hf/NH2OH/dipole_hf_0-000000/response_base.json'\n",
      "NH2OH 'NoneType' object is not subscriptable\n",
      "NH2F\n",
      "NH2F [Errno 2] No such file or directory: '/gpfs/projects/rjh/adrian/test-suite-new/large_polar_low/hf/NH2F/calc_info.json'\n",
      "BH3\n",
      "H2\n",
      "CSO\n",
      "NaCN\n"
     ]
    },
    {
     "name": "stderr",
     "output_type": "stream",
     "text": [
      "/gpfs/projects/rjh/adrian/test-suite-new/madness-test-suite/madnessReader.py:304: FutureWarning: The default dtype for empty Series will be 'object' instead of 'float64' in a future version. Specify a dtype explicitly to silence this warning.\n",
      "  return params, iter_data, k_data, thresh_data, d_res_data, bsh_res_data, full_freq_data, rdf, wall_time, cpu_time, pd.Series(\n"
     ]
    },
    {
     "name": "stdout",
     "output_type": "stream",
     "text": [
      "0.05791475  not found: [Errno 2] No such file or directory: '/gpfs/projects/rjh/adrian/test-suite-new/large_polar_low/hf/NaCN/dipole_hf_0-057915/response_base.json'\n",
      "HCCCl\n",
      "HCCCl [Errno 2] No such file or directory: '/gpfs/projects/rjh/adrian/test-suite-new/large_polar_low/hf/HCCCl/calc_info.json'\n",
      "HNO\n",
      "HNO [Errno 2] No such file or directory: '/gpfs/projects/rjh/adrian/test-suite-new/large_polar_low/hf/HNO/calc_info.json'\n",
      "Ar\n",
      "BH2F\n",
      "FNO\n",
      "0.03707075  not found: [Errno 2] No such file or directory: '/gpfs/projects/rjh/adrian/test-suite-new/large_polar_low/hf/FNO/dipole_hf_0-037071/response_base.json'\n",
      "Mg2\n",
      "He\n",
      "P2H4\n",
      "0.0  not found: [Errno 2] No such file or directory: '/gpfs/projects/rjh/adrian/test-suite-new/large_polar_low/hf/P2H4/dipole_hf_0-000000/response_base.json'\n",
      "P2H4 'NoneType' object is not subscriptable\n",
      "ClCN\n",
      "SH2\n"
     ]
    },
    {
     "name": "stderr",
     "output_type": "stream",
     "text": [
      "/gpfs/projects/rjh/adrian/test-suite-new/madness-test-suite/madnessReader.py:304: FutureWarning: The default dtype for empty Series will be 'object' instead of 'float64' in a future version. Specify a dtype explicitly to silence this warning.\n",
      "  return params, iter_data, k_data, thresh_data, d_res_data, bsh_res_data, full_freq_data, rdf, wall_time, cpu_time, pd.Series(\n"
     ]
    },
    {
     "name": "stdout",
     "output_type": "stream",
     "text": [
      "Be\n",
      "CO\n",
      "0.1612745  not found: [Errno 2] No such file or directory: '/gpfs/projects/rjh/adrian/test-suite-new/large_polar_low/hf/CO/dipole_hf_0-161274/response_base.json'\n",
      "CH3F\n",
      "SF2\n",
      "0.0705715  not found: [Errno 2] No such file or directory: '/gpfs/projects/rjh/adrian/test-suite-new/large_polar_low/hf/SF2/dipole_hf_0-070571/response_base.json'\n",
      "HCP\n",
      "HCP [Errno 2] No such file or directory: '/gpfs/projects/rjh/adrian/test-suite-new/large_polar_low/hf/HCP/calc_info.json'\n",
      "BH2Cl\n",
      "BH2Cl [Errno 2] No such file or directory: '/gpfs/projects/rjh/adrian/test-suite-new/large_polar_low/hf/BH2Cl/calc_info.json'\n",
      "BHF2\n",
      "H2O\n",
      "H2O [Errno 2] No such file or directory: '/gpfs/projects/rjh/adrian/test-suite-new/large_polar_low/hf/H2O/calc_info.json'\n",
      "HCCF\n",
      "OCl2\n",
      "HOF\n",
      "CH3SH\n",
      "HF\n",
      "NaLi\n",
      "0.01858775  not found: [Errno 2] No such file or directory: '/gpfs/projects/rjh/adrian/test-suite-new/large_polar_low/hf/NaLi/dipole_hf_0-018588/response_base.json'\n",
      "C2H2\n",
      "0.0  not found: [Errno 2] No such file or directory: '/gpfs/projects/rjh/adrian/test-suite-new/large_polar_low/hf/C2H2/dipole_hf_0-000000/response_base.json'\n",
      "C2H2 'NoneType' object is not subscriptable\n",
      "NaH\n",
      "NaH [Errno 2] No such file or directory: '/gpfs/projects/rjh/adrian/test-suite-new/large_polar_low/hf/NaH/calc_info.json'\n",
      "LiCl\n",
      "LiCl Expecting value: line 1 column 1 (char 0)\n",
      "LiBH4\n",
      "BF\n"
     ]
    },
    {
     "name": "stderr",
     "output_type": "stream",
     "text": [
      "/gpfs/projects/rjh/adrian/test-suite-new/madness-test-suite/madnessReader.py:304: FutureWarning: The default dtype for empty Series will be 'object' instead of 'float64' in a future version. Specify a dtype explicitly to silence this warning.\n",
      "  return params, iter_data, k_data, thresh_data, d_res_data, bsh_res_data, full_freq_data, rdf, wall_time, cpu_time, pd.Series(\n"
     ]
    }
   ],
   "source": [
    "import json\n",
    "converged=[]\n",
    "not_converged=[]\n",
    "not_found=[]\n",
    "json_error=[]\n",
    "for g in glob.glob('molecules/*.mol'):\n",
    "    m = g.split('/')\n",
    "    mol = m[1].split('.')[0]\n",
    "    print(mol)\n",
    "    try:\n",
    "        ben=FrequencyData(mol,'hf','dipole')\n",
    "        if ben.converged.all() and ben.converged.sum()==5:\n",
    "            converged.append(mol)\n",
    "        else:\n",
    "            not_converged.append(mol)\n",
    "    except (FileNotFoundError,TypeError) as f:\n",
    "        print(mol,f)\n",
    "        not_found.append(mol)\n",
    "    except json.decoder.JSONDecodeError as j:\n",
    "        json_error.append(mol)\n",
    "        print(mol,j)\n",
    "        \n",
    "            \n"
   ]
  },
  {
   "cell_type": "code",
   "execution_count": 36,
   "id": "804e6079",
   "metadata": {
    "pycharm": {
     "name": "#%%\n"
    }
   },
   "outputs": [
    {
     "name": "stdout",
     "output_type": "stream",
     "text": [
      "converged :  31\n",
      "not converged :  36\n",
      "not found :  22\n",
      "json error :  1\n",
      "total :  90\n"
     ]
    }
   ],
   "source": [
    "num_c=len(converged)\n",
    "num_n=len(not_converged)\n",
    "num_nf=len(not_found)\n",
    "num_json_e=len(json_error)\n",
    "\n",
    "total=num_c+num_n+num_nf+num_json_e\n",
    "print(\"converged : \",num_c)\n",
    "print(\"not converged : \",num_n)\n",
    "print(\"not found : \",num_nf)\n",
    "print(\"json error : \",num_json_e)\n",
    "print(\"total : \",total)\n"
   ]
  },
  {
   "cell_type": "code",
   "execution_count": 37,
   "id": "144cf671",
   "metadata": {
    "pycharm": {
     "name": "#%%\n"
    }
   },
   "outputs": [
    {
     "data": {
      "text/plain": [
       "['CH4',\n",
       " 'LiH_s',\n",
       " 'CH3BH2',\n",
       " 'CH3OH',\n",
       " 'SiH3Cl',\n",
       " 'Ne',\n",
       " 'C6H6',\n",
       " 'BeH2',\n",
       " 'LiH',\n",
       " 'Li2',\n",
       " 'SiH4',\n",
       " 'Mg',\n",
       " 'CH2BH',\n",
       " 'HBS',\n",
       " 'CH3NH2',\n",
       " 'NaCl',\n",
       " 'Cl2',\n",
       " 'BH3',\n",
       " 'H2',\n",
       " 'Ar',\n",
       " 'BH2F',\n",
       " 'Mg2',\n",
       " 'He',\n",
       " 'ClCN',\n",
       " 'Be',\n",
       " 'CH3F',\n",
       " 'BHF2',\n",
       " 'HCCF',\n",
       " 'CH3SH',\n",
       " 'HF',\n",
       " 'LiBH4']"
      ]
     },
     "execution_count": 37,
     "metadata": {},
     "output_type": "execute_result"
    }
   ],
   "source": [
    "converged"
   ]
  },
  {
   "cell_type": "code",
   "execution_count": 6,
   "id": "d87491db",
   "metadata": {
    "scrolled": true
   },
   "outputs": [
    {
     "data": {
      "text/plain": [
       "['LiCl']"
      ]
     },
     "metadata": {},
     "output_type": "display_data"
    }
   ],
   "source": [
    "not_converged_list='\" \"'.join(not_converged)\n",
    "not_found_list='\" \"'.join(not_found)\n",
    "json_error_list='\" \"'.join(json_error)\n",
    "display(json_error)"
   ]
  },
  {
   "cell_type": "code",
   "execution_count": 10,
   "id": "f6be8489",
   "metadata": {},
   "outputs": [],
   "source": [
    "if False:\n",
    "    for mol in not_converged:\n",
    "        print(mol)\n",
    "        d=display_convergence_plots(mol,'hf','dipole',False)\n",
    "    \n",
    "    \n",
    "    \n",
    "    "
   ]
  },
  {
   "cell_type": "code",
   "execution_count": 11,
   "id": "08b80fd3",
   "metadata": {},
   "outputs": [
    {
     "name": "stdout",
     "output_type": "stream",
     "text": [
      "0.036500375  not found: [Errno 2] No such file or directory: '/gpfs/projects/rjh/adrian/test-suite-new/large_polar_low/hf/N2/dipole_hf_0-036500/response_base.json'\n",
      "N2 converged:  0.0             True\n",
      "0.0182501875    True\n",
      "dtype: bool\n",
      "0.036500375  not found: [Errno 2] No such file or directory: '/gpfs/projects/rjh/adrian/test-suite-new/large_polar_low/hf/N2/dipole_hf_0-036500/response_base.json'\n"
     ]
    },
    {
     "data": {
      "text/plain": [
       "2"
      ]
     },
     "execution_count": 11,
     "metadata": {},
     "output_type": "execute_result"
    },
    {
     "data": {
      "image/png": "[encoded data removed]",
      "text/plain": [
       "<Figure size 576x864 with 6 Axes>"
      ]
     },
     "metadata": {
      "needs_background": "light"
     },
     "output_type": "display_data"
    }
   ],
   "source": [
    "d=display_convergence_plots('N2','hf','dipole',False)\n",
    "n2data=FrequencyData('N2','hf','dipole')\n",
    "n2data.converged.sum()"
   ]
  },
  {
   "cell_type": "code",
   "execution_count": null,
   "id": "ceec2336",
   "metadata": {},
   "outputs": [],
   "source": [
    "display(not_found)\n",
    "display(not_converged)\n",
    "display(json_error)\n"
   ]
  },
  {
   "cell_type": "code",
   "execution_count": null,
   "id": "b0a2c9d7",
   "metadata": {},
   "outputs": [],
   "source": [
    "display(len(json_error))\n",
    "l28='\" \"'.join(json_error[0:7])\n",
    "e28='\" \"'.join(json_error[7:15])\n",
    "l40='\" \"'.join(json_error[15:20])\n"
   ]
  },
  {
   "cell_type": "code",
   "execution_count": null,
   "id": "cc2f7fa1",
   "metadata": {},
   "outputs": [],
   "source": [
    "display(e28)\n",
    "display(l28)\n",
    "display(l40)"
   ]
  },
  {
   "cell_type": "code",
   "execution_count": null,
   "id": "5e1c9d96",
   "metadata": {},
   "outputs": [],
   "source": [
    "e24"
   ]
  },
  {
   "cell_type": "code",
   "execution_count": null,
   "id": "d902a80c",
   "metadata": {},
   "outputs": [],
   "source": [
    "l28"
   ]
  },
  {
   "cell_type": "code",
   "execution_count": null,
   "id": "b48f6a29",
   "metadata": {},
   "outputs": [],
   "source": [
    "l24"
   ]
  },
  {
   "cell_type": "code",
   "execution_count": null,
   "id": "4a6dbdd6",
   "metadata": {},
   "outputs": [],
   "source": [
    "not_converged"
   ]
  },
  {
   "cell_type": "code",
   "execution_count": null,
   "id": "7993b002",
   "metadata": {},
   "outputs": [],
   "source": [
    "display(len(not_converged))\n",
    "display(not_converged)\n"
   ]
  },
  {
   "cell_type": "code",
   "execution_count": null,
   "id": "168dc3d2",
   "metadata": {},
   "outputs": [],
   "source": []
  },
  {
   "cell_type": "code",
   "execution_count": null,
   "id": "133b60b5",
   "metadata": {},
   "outputs": [],
   "source": []
  },
  {
   "cell_type": "code",
   "execution_count": null,
   "id": "11043309",
   "metadata": {},
   "outputs": [],
   "source": [
    "if False:\n",
    "    for mol in converged:\n",
    "        create_polar_diff_plot(mol,d_basis_list[0:3])"
   ]
  },
  {
   "cell_type": "code",
   "execution_count": null,
   "id": "2c95fa9b",
   "metadata": {},
   "outputs": [],
   "source": []
  },
  {
   "cell_type": "code",
   "execution_count": null,
   "id": "e84a76d8",
   "metadata": {},
   "outputs": [],
   "source": [
    "\n",
    "non_converged=[]\n",
    "part_converged=[]\n",
    "if True:\n",
    "    for mol in not_converged[1:]:\n",
    "        check=FrequencyData(mol,'hf','dipole')\n",
    "        if(check.converged.any()):\n",
    "            #print(mol,'\\n',check.converged)\n",
    "            part_converged.append(mol)\n",
    "        else:\n",
    "            non_converged.append(mol)\n",
    "            \n",
    "                \n",
    "print(' '.join(part_converged))\n",
    "print(len(part_converged))\n",
    "\n"
   ]
  },
  {
   "cell_type": "code",
   "execution_count": null,
   "id": "c576a31b",
   "metadata": {},
   "outputs": [],
   "source": [
    "display_convergence_plots(part_converged[27],'hf','dipole',False)"
   ]
  },
  {
   "cell_type": "code",
   "execution_count": null,
   "id": "7d8107e0",
   "metadata": {},
   "outputs": [],
   "source": [
    "print(' '.join(non_converged))\n",
    "print(len(non_converged))"
   ]
  },
  {
   "cell_type": "code",
   "execution_count": null,
   "id": "e500e551",
   "metadata": {},
   "outputs": [],
   "source": [
    "display_convergence_plots(non_converged[12],'hf','dipole',False)"
   ]
  },
  {
   "cell_type": "code",
   "execution_count": null,
   "id": "8930f94c",
   "metadata": {},
   "outputs": [],
   "source": [
    "converged\n",
    "\n"
   ]
  },
  {
   "cell_type": "code",
   "execution_count": null,
   "id": "b4ffd1ca",
   "metadata": {},
   "outputs": [],
   "source": [
    "create_polar_diff_plot(converged[0],d_basis_list[0:])"
   ]
  },
  {
   "cell_type": "code",
   "execution_count": 29,
   "id": "cddfded6",
   "metadata": {},
   "outputs": [
    {
     "name": "stderr",
     "output_type": "stream",
     "text": [
      "Did not finish  /gpfs/projects/rjh/adrian/test-suite-new/large_polar_low/../dalton/hf/CH4/dipole/freq_CH4-d-aug-cc-pV5Z.out !\n"
     ]
    },
    {
     "name": "stdout",
     "output_type": "stream",
     "text": [
      "Retrying\n"
     ]
    },
    {
     "name": "stderr",
     "output_type": "stream",
     "text": [
      "forrtl: error (69): process interrupted (SIGINT)\n",
      "Image              PC                Routine            Line        Source             \n",
      "dalton.x           00000000027508DB  Unknown               Unknown  Unknown\n",
      "libpthread-2.17.s  00002AAAB1702630  Unknown               Unknown  Unknown\n",
      "dalton.x           00000000007B31D7  Unknown               Unknown  Unknown\n",
      "dalton.x           000000000079B905  Unknown               Unknown  Unknown\n",
      "dalton.x           0000000000798C87  Unknown               Unknown  Unknown\n",
      "dalton.x           0000000000795719  Unknown               Unknown  Unknown\n",
      "dalton.x           0000000000791D09  Unknown               Unknown  Unknown\n",
      "dalton.x           000000000078FA69  Unknown               Unknown  Unknown\n",
      "dalton.x           000000000078B8E7  Unknown               Unknown  Unknown\n",
      "dalton.x           0000000000847B52  Unknown               Unknown  Unknown\n",
      "dalton.x           0000000000850364  Unknown               Unknown  Unknown\n",
      "dalton.x           00000000014E44AF  Unknown               Unknown  Unknown\n",
      "dalton.x           00000000014EDCE9  Unknown               Unknown  Unknown\n",
      "dalton.x           00000000014BF125  Unknown               Unknown  Unknown\n",
      "dalton.x           00000000014BDDB5  Unknown               Unknown  Unknown\n",
      "dalton.x           00000000014BA7FE  Unknown               Unknown  Unknown\n",
      "dalton.x           000000000041B4EE  Unknown               Unknown  Unknown\n",
      "dalton.x           00000000004177CD  Unknown               Unknown  Unknown\n",
      "dalton.x           000000000041021B  Unknown               Unknown  Unknown\n",
      "dalton.x           000000000040A092  Unknown               Unknown  Unknown\n",
      "libc-2.17.so       00002AAAB4470555  __libc_start_main     Unknown  Unknown\n",
      "dalton.x           0000000000409FA9  Unknown               Unknown  Unknown\n",
      "forrtl: error (69): process interrupted (SIGINT)\n",
      "Image              PC                Routine            Line        Source             \n",
      "dalton.x           00000000027508DB  Unknown               Unknown  Unknown\n",
      "libpthread-2.17.s  00002AAAB1702630  Unknown               Unknown  Unknown\n",
      "dalton.x           000000000282891A  Unknown               Unknown  Unknown\n",
      "dalton.x           00000000012418EA  Unknown               Unknown  Unknown\n",
      "dalton.x           00000000007B6F43  Unknown               Unknown  Unknown\n",
      "dalton.x           00000000007B4C58  Unknown               Unknown  Unknown\n",
      "dalton.x           000000000079B905  Unknown               Unknown  Unknown\n",
      "dalton.x           0000000000798C87  Unknown               Unknown  Unknown\n",
      "dalton.x           0000000000795719  Unknown               Unknown  Unknown\n",
      "dalton.x           0000000000791D09  Unknown               Unknown  Unknown\n",
      "dalton.x           000000000078FA69  Unknown               Unknown  Unknown\n",
      "dalton.x           000000000078B8E7  Unknown               Unknown  Unknown\n",
      "dalton.x           0000000000847B52  Unknown               Unknown  Unknown\n",
      "dalton.x           0000000000850364  Unknown               Unknown  Unknown\n",
      "dalton.x           00000000014E44AF  Unknown               Unknown  Unknown\n",
      "dalton.x           00000000014EDCE9  Unknown               Unknown  Unknown\n",
      "dalton.x           00000000014BF125  Unknown               Unknown  Unknown\n",
      "dalton.x           00000000014BDDB5  Unknown               Unknown  Unknown\n",
      "dalton.x           00000000014BA7FE  Unknown               Unknown  Unknown\n",
      "dalton.x           000000000041B4EE  Unknown               Unknown  Unknown\n",
      "dalton.x           00000000004177CD  Unknown               Unknown  Unknown\n",
      "dalton.x           000000000041021B  Unknown               Unknown  Unknown\n",
      "dalton.x           000000000040A092  Unknown               Unknown  Unknown\n",
      "libc-2.17.so       00002AAAB4470555  __libc_start_main     Unknown  Unknown\n",
      "dalton.x           0000000000409FA9  Unknown               Unknown  Unknown\n",
      "forrtl: error (69): process interrupted (SIGINT)\n",
      "Image              PC                Routine            Line        Source             \n",
      "dalton.x           00000000027508DB  Unknown               Unknown  Unknown\n",
      "libpthread-2.17.s  00002AAAB1702630  Unknown               Unknown  Unknown\n",
      "libmkl_avx512.so.  00002AAB18674BDE  mkl_blas_avx512_d     Unknown  Unknown\n",
      "forrtl: error (69): process interrupted (SIGINT)\n",
      "Image              PC                Routine            Line        Source             \n",
      "dalton.x           00000000027508DB  Unknown               Unknown  Unknown\n",
      "libpthread-2.17.s  00002AAAB1702630  Unknown               Unknown  Unknown\n",
      "libpthread-2.17.s  00002AAAB1701DDD  lseek64               Unknown  Unknown\n",
      "dalton.x           000000000279F1EB  Unknown               Unknown  Unknown\n",
      "dalton.x           000000000081E0D7  Unknown               Unknown  Unknown\n",
      "dalton.x           000000000081D4B4  Unknown               Unknown  Unknown\n",
      "dalton.x           0000000000795B34  Unknown               Unknown  Unknown\n",
      "dalton.x           0000000000791D09  Unknown               Unknown  Unknown\n",
      "dalton.x           000000000078FA69  Unknown               Unknown  Unknown\n",
      "dalton.x           000000000078B8E7  Unknown               Unknown  Unknown\n",
      "dalton.x           0000000000847B52  Unknown               Unknown  Unknown\n",
      "dalton.x           0000000000850364  Unknown               Unknown  Unknown\n",
      "dalton.x           00000000014E44AF  Unknown               Unknown  Unknown\n",
      "dalton.x           00000000014EDCE9  Unknown               Unknown  Unknown\n",
      "dalton.x           00000000014BF125  Unknown               Unknown  Unknown\n",
      "dalton.x           00000000014BDDB5  Unknown               Unknown  Unknown\n",
      "dalton.x           00000000014BA7FE  Unknown               Unknown  Unknown\n",
      "dalton.x           000000000041B4EE  Unknown               Unknown  Unknown\n",
      "dalton.x           00000000004177CD  Unknown               Unknown  Unknown\n",
      "dalton.x           000000000041021B  Unknown               Unknown  Unknown\n",
      "dalton.x           000000000040A092  Unknown               Unknown  Unknown\n",
      "libc-2.17.so       00002AAAB4470555  __libc_start_main     Unknown  Unknown\n",
      "dalton.x           0000000000409FA9  Unknown               Unknown  Unknown\n",
      "mv: cannot stat ‘/gpfs/projects/rjh/adrian/test-suite-new/dalton/hf/CH4/dipole/freq_CH4-d-aug-cc-pV5Z.tar.gz.5’: No such file or directory\n"
     ]
    },
    {
     "ename": "FileNotFoundError",
     "evalue": "[Errno 2] No such file or directory: '/gpfs/projects/rjh/adrian/test-suite-new/dalton/hf/CH4/dipole/molecules/frequency.json'",
     "output_type": "error",
     "traceback": [
      "\u001b[0;31m---------------------------------------------------------------------------\u001b[0m",
      "\u001b[0;31mIndexError\u001b[0m                                Traceback (most recent call last)",
      "File \u001b[0;32m/gpfs/projects/rjh/adrian/test-suite-new/madness-test-suite/daltonRunner.py:210\u001b[0m, in \u001b[0;36mDaltonRunner.get_polar_json\u001b[0;34m(self, mol, xc, operator, basis)\u001b[0m\n\u001b[1;32m    209\u001b[0m     dj \u001b[38;5;241m=\u001b[39m daltonToJson()\n\u001b[0;32m--> 210\u001b[0m     data \u001b[38;5;241m=\u001b[39m \u001b[38;5;28;43mself\u001b[39;49m\u001b[38;5;241;43m.\u001b[39;49m\u001b[43m__create_frequency_json\u001b[49m\u001b[43m(\u001b[49m\u001b[43mdj\u001b[49m\u001b[38;5;241;43m.\u001b[39;49m\u001b[43mconvert\u001b[49m\u001b[43m(\u001b[49m\u001b[43mdaltonOutput\u001b[49m\u001b[43m)\u001b[49m\u001b[43m,\u001b[49m\u001b[43m \u001b[49m\u001b[43mbasis\u001b[49m\u001b[43m)\u001b[49m\n\u001b[1;32m    211\u001b[0m \u001b[38;5;28;01mexcept\u001b[39;00m \u001b[38;5;167;01mIndexError\u001b[39;00m \u001b[38;5;28;01mas\u001b[39;00m e:\n",
      "File \u001b[0;32m/gpfs/projects/rjh/adrian/test-suite-new/madness-test-suite/daltonRunner.py:156\u001b[0m, in \u001b[0;36mDaltonRunner.__create_frequency_json\u001b[0;34m(self, outfile, basis)\u001b[0m\n\u001b[1;32m    155\u001b[0m e_data \u001b[38;5;241m=\u001b[39m json\u001b[38;5;241m.\u001b[39mloads(outfile)[\u001b[38;5;124m'\u001b[39m\u001b[38;5;124msimulation\u001b[39m\u001b[38;5;124m'\u001b[39m][\u001b[38;5;124m'\u001b[39m\u001b[38;5;124mcalculations\u001b[39m\u001b[38;5;124m'\u001b[39m][\u001b[38;5;241m0\u001b[39m]\n\u001b[0;32m--> 156\u001b[0m r_data \u001b[38;5;241m=\u001b[39m \u001b[43mjson\u001b[49m\u001b[38;5;241;43m.\u001b[39;49m\u001b[43mloads\u001b[49m\u001b[43m(\u001b[49m\u001b[43moutfile\u001b[49m\u001b[43m)\u001b[49m\u001b[43m[\u001b[49m\u001b[38;5;124;43m'\u001b[39;49m\u001b[38;5;124;43msimulation\u001b[39;49m\u001b[38;5;124;43m'\u001b[39;49m\u001b[43m]\u001b[49m\u001b[43m[\u001b[49m\u001b[38;5;124;43m'\u001b[39;49m\u001b[38;5;124;43mcalculations\u001b[39;49m\u001b[38;5;124;43m'\u001b[39;49m\u001b[43m]\u001b[49m\u001b[43m[\u001b[49m\u001b[38;5;241;43m1\u001b[39;49m\u001b[43m]\u001b[49m\n\u001b[1;32m    158\u001b[0m p_data \u001b[38;5;241m=\u001b[39m r_data[\u001b[38;5;124m'\u001b[39m\u001b[38;5;124mcalculationResults\u001b[39m\u001b[38;5;124m'\u001b[39m]\n",
      "\u001b[0;31mIndexError\u001b[0m: list index out of range",
      "\nDuring handling of the above exception, another exception occurred:\n",
      "\u001b[0;31mKeyboardInterrupt\u001b[0m                         Traceback (most recent call last)",
      "Input \u001b[0;32mIn [29]\u001b[0m, in \u001b[0;36m<cell line: 1>\u001b[0;34m()\u001b[0m\n\u001b[1;32m      2\u001b[0m \u001b[38;5;28;01mtry\u001b[39;00m:\n\u001b[0;32m----> 3\u001b[0m     \u001b[43mcreate_polar_diff_plot\u001b[49m\u001b[43m(\u001b[49m\u001b[43mmol\u001b[49m\u001b[43m,\u001b[49m\u001b[43md_basis_list\u001b[49m\u001b[43m[\u001b[49m\u001b[38;5;241;43m0\u001b[39;49m\u001b[43m:\u001b[49m\u001b[43m]\u001b[49m\u001b[43m)\u001b[49m\n\u001b[1;32m      4\u001b[0m     create_polar_diff_plot(mol,basis_list[\u001b[38;5;241m0\u001b[39m:])\n",
      "File \u001b[0;32m/gpfs/projects/rjh/adrian/test-suite-new/madness-test-suite/madnessReader.py:634\u001b[0m, in \u001b[0;36mcreate_polar_diff_plot\u001b[0;34m(mol, basis_list)\u001b[0m\n\u001b[1;32m    632\u001b[0m yl \u001b[38;5;241m=\u001b[39m \u001b[38;5;124mr\u001b[39m\u001b[38;5;124m'\u001b[39m\u001b[38;5;124m $\u001b[39m\u001b[38;5;124m\\\u001b[39m\u001b[38;5;124mDelta\u001b[39m\u001b[38;5;124m\\\u001b[39m\u001b[38;5;124malpha_\u001b[39m\u001b[38;5;132;01m{avg}\u001b[39;00m\u001b[38;5;124m$\u001b[39m\u001b[38;5;124m'\u001b[39m \u001b[38;5;241m+\u001b[39m \u001b[38;5;124mr\u001b[39m\u001b[38;5;124m'\u001b[39m\u001b[38;5;124m (MRA - BASIS)\u001b[39m\u001b[38;5;124m'\u001b[39m\n\u001b[0;32m--> 634\u001b[0m data, diff_data, energy_diff, polar_diff \u001b[38;5;241m=\u001b[39m \u001b[43mcreate_data\u001b[49m\u001b[43m(\u001b[49m\u001b[43mmol\u001b[49m\u001b[43m,\u001b[49m\u001b[43m \u001b[49m\u001b[43mbasis_list\u001b[49m\u001b[43m)\u001b[49m\n\u001b[1;32m    635\u001b[0m polar_diff\u001b[38;5;241m.\u001b[39miloc[:, :]\u001b[38;5;241m.\u001b[39mplot(marker\u001b[38;5;241m=\u001b[39m\u001b[38;5;124m'\u001b[39m\u001b[38;5;124mo\u001b[39m\u001b[38;5;124m'\u001b[39m, linestyle\u001b[38;5;241m=\u001b[39m\u001b[38;5;124m'\u001b[39m\u001b[38;5;124msolid\u001b[39m\u001b[38;5;124m'\u001b[39m)\n",
      "File \u001b[0;32m/gpfs/projects/rjh/adrian/test-suite-new/madness-test-suite/madnessReader.py:603\u001b[0m, in \u001b[0;36mcreate_data\u001b[0;34m(mol, basis_list)\u001b[0m\n\u001b[1;32m    602\u001b[0m \u001b[38;5;28;01mfor\u001b[39;00m x \u001b[38;5;129;01min\u001b[39;00m xx:\n\u001b[0;32m--> 603\u001b[0m     data\u001b[38;5;241m.\u001b[39mappend(\u001b[43mcreate_polar_table\u001b[49m\u001b[43m(\u001b[49m\u001b[43mmol\u001b[49m\u001b[43m,\u001b[49m\u001b[43m \u001b[49m\u001b[38;5;124;43m'\u001b[39;49m\u001b[38;5;124;43mhf\u001b[39;49m\u001b[38;5;124;43m'\u001b[39;49m\u001b[43m,\u001b[49m\u001b[43m \u001b[49m\u001b[43mbasis_list\u001b[49m\u001b[43m,\u001b[49m\u001b[43m \u001b[49m\u001b[43mx\u001b[49m\u001b[43m)\u001b[49m)\n\u001b[1;32m    604\u001b[0m average \u001b[38;5;241m=\u001b[39m (data[\u001b[38;5;241m0\u001b[39m] \u001b[38;5;241m+\u001b[39m data[\u001b[38;5;241m1\u001b[39m] \u001b[38;5;241m+\u001b[39m data[\u001b[38;5;241m2\u001b[39m]) \u001b[38;5;241m/\u001b[39m \u001b[38;5;241m3\u001b[39m\n",
      "File \u001b[0;32m/gpfs/projects/rjh/adrian/test-suite-new/madness-test-suite/madnessReader.py:560\u001b[0m, in \u001b[0;36mcreate_polar_table\u001b[0;34m(mol, xc, basis_list, xx)\u001b[0m\n\u001b[1;32m    559\u001b[0m \u001b[38;5;28;01mfor\u001b[39;00m basis \u001b[38;5;129;01min\u001b[39;00m basis_list:\n\u001b[0;32m--> 560\u001b[0m     ground_dalton, response_dalton \u001b[38;5;241m=\u001b[39m \u001b[43mdalton_reader\u001b[49m\u001b[38;5;241;43m.\u001b[39;49m\u001b[43mget_frequency_result\u001b[49m\u001b[43m(\u001b[49m\u001b[43mmol\u001b[49m\u001b[43m,\u001b[49m\u001b[43m \u001b[49m\u001b[38;5;124;43m'\u001b[39;49m\u001b[38;5;124;43mhf\u001b[39;49m\u001b[38;5;124;43m'\u001b[39;49m\u001b[43m,\u001b[49m\u001b[43m \u001b[49m\u001b[38;5;124;43m'\u001b[39;49m\u001b[38;5;124;43mdipole\u001b[39;49m\u001b[38;5;124;43m'\u001b[39;49m\u001b[43m,\u001b[49m\u001b[43m \u001b[49m\u001b[43mbasis\u001b[49m\u001b[43m)\u001b[49m\n\u001b[1;32m    561\u001b[0m     \u001b[38;5;28;01mfor\u001b[39;00m i \u001b[38;5;129;01min\u001b[39;00m \u001b[38;5;28mrange\u001b[39m(\u001b[38;5;28mlen\u001b[39m(freq)):\n",
      "File \u001b[0;32m/gpfs/projects/rjh/adrian/test-suite-new/madness-test-suite/daltonRunner.py:305\u001b[0m, in \u001b[0;36mDaltonRunner.get_frequency_result\u001b[0;34m(self, mol, xc, operator, basis)\u001b[0m\n\u001b[1;32m    303\u001b[0m \u001b[38;5;28;01mdef\u001b[39;00m \u001b[38;5;21mget_frequency_result\u001b[39m(\u001b[38;5;28mself\u001b[39m, mol, xc, operator, basis):\n\u001b[0;32m--> 305\u001b[0m     dipole_j \u001b[38;5;241m=\u001b[39m \u001b[38;5;28;43mself\u001b[39;49m\u001b[38;5;241;43m.\u001b[39;49m\u001b[43mget_polar_json\u001b[49m\u001b[43m(\u001b[49m\u001b[43mmol\u001b[49m\u001b[43m,\u001b[49m\u001b[43m \u001b[49m\u001b[43mxc\u001b[49m\u001b[43m,\u001b[49m\u001b[43m \u001b[49m\u001b[43moperator\u001b[49m\u001b[43m,\u001b[49m\u001b[43m \u001b[49m\u001b[43mbasis\u001b[49m\u001b[43m)\u001b[49m[basis]\n\u001b[1;32m    306\u001b[0m     time \u001b[38;5;241m=\u001b[39m dipole_j[\u001b[38;5;124m'\u001b[39m\u001b[38;5;124mground\u001b[39m\u001b[38;5;124m'\u001b[39m][\u001b[38;5;124m'\u001b[39m\u001b[38;5;124mcalculationTime\u001b[39m\u001b[38;5;124m'\u001b[39m]\n",
      "File \u001b[0;32m/gpfs/projects/rjh/adrian/test-suite-new/madness-test-suite/daltonRunner.py:214\u001b[0m, in \u001b[0;36mDaltonRunner.get_polar_json\u001b[0;34m(self, mol, xc, operator, basis)\u001b[0m\n\u001b[1;32m    213\u001b[0m \u001b[38;5;28mprint\u001b[39m(\u001b[38;5;124mf\u001b[39m\u001b[38;5;124m\"\u001b[39m\u001b[38;5;124mRetrying\u001b[39m\u001b[38;5;124m\"\u001b[39m)\n\u001b[0;32m--> 214\u001b[0m d_out, d_error \u001b[38;5;241m=\u001b[39m \u001b[38;5;28;43mself\u001b[39;49m\u001b[38;5;241;43m.\u001b[39;49m\u001b[43m__run_dalton\u001b[49m\u001b[43m(\u001b[49m\u001b[43mrun_directory\u001b[49m\u001b[43m,\u001b[49m\u001b[43m \u001b[49m\u001b[43mdal_input\u001b[49m\u001b[43m,\u001b[49m\u001b[43m \u001b[49m\u001b[43mmol_input\u001b[49m\u001b[43m)\u001b[49m\n\u001b[1;32m    215\u001b[0m \u001b[38;5;28mprint\u001b[39m(d_out, d_error)\n",
      "File \u001b[0;32m/gpfs/projects/rjh/adrian/test-suite-new/madness-test-suite/daltonRunner.py:99\u001b[0m, in \u001b[0;36mDaltonRunner.__run_dalton\u001b[0;34m(self, rdir, dfile, mfile)\u001b[0m\n\u001b[1;32m     98\u001b[0m process \u001b[38;5;241m=\u001b[39m subprocess\u001b[38;5;241m.\u001b[39mPopen(daltonCommand\u001b[38;5;241m.\u001b[39msplit(), stdout\u001b[38;5;241m=\u001b[39msubprocess\u001b[38;5;241m.\u001b[39mPIPE)\n\u001b[0;32m---> 99\u001b[0m output, error \u001b[38;5;241m=\u001b[39m \u001b[43mprocess\u001b[49m\u001b[38;5;241;43m.\u001b[39;49m\u001b[43mcommunicate\u001b[49m\u001b[43m(\u001b[49m\u001b[43m)\u001b[49m\n\u001b[1;32m    100\u001b[0m os\u001b[38;5;241m.\u001b[39mchdir(PROOT)\n",
      "File \u001b[0;32m/gpfs/projects/rjh/adrian/anaconda3/lib/python3.9/subprocess.py:1121\u001b[0m, in \u001b[0;36mPopen.communicate\u001b[0;34m(self, input, timeout)\u001b[0m\n\u001b[1;32m   1120\u001b[0m \u001b[38;5;28;01melif\u001b[39;00m \u001b[38;5;28mself\u001b[39m\u001b[38;5;241m.\u001b[39mstdout:\n\u001b[0;32m-> 1121\u001b[0m     stdout \u001b[38;5;241m=\u001b[39m \u001b[38;5;28;43mself\u001b[39;49m\u001b[38;5;241;43m.\u001b[39;49m\u001b[43mstdout\u001b[49m\u001b[38;5;241;43m.\u001b[39;49m\u001b[43mread\u001b[49m\u001b[43m(\u001b[49m\u001b[43m)\u001b[49m\n\u001b[1;32m   1122\u001b[0m     \u001b[38;5;28mself\u001b[39m\u001b[38;5;241m.\u001b[39mstdout\u001b[38;5;241m.\u001b[39mclose()\n",
      "\u001b[0;31mKeyboardInterrupt\u001b[0m: ",
      "\nDuring handling of the above exception, another exception occurred:\n",
      "\u001b[0;31mFileNotFoundError\u001b[0m                         Traceback (most recent call last)",
      "Input \u001b[0;32mIn [29]\u001b[0m, in \u001b[0;36m<cell line: 1>\u001b[0;34m()\u001b[0m\n\u001b[1;32m      4\u001b[0m     create_polar_diff_plot(mol,basis_list[\u001b[38;5;241m0\u001b[39m:])\n\u001b[1;32m      5\u001b[0m \u001b[38;5;28;01mexcept\u001b[39;00m:\n\u001b[0;32m----> 6\u001b[0m     \u001b[43mcreate_polar_diff_plot\u001b[49m\u001b[43m(\u001b[49m\u001b[43mmol\u001b[49m\u001b[43m,\u001b[49m\u001b[43mbasis_list\u001b[49m\u001b[43m[\u001b[49m\u001b[38;5;241;43m0\u001b[39;49m\u001b[43m:\u001b[49m\u001b[38;5;241;43m3\u001b[39;49m\u001b[43m]\u001b[49m\u001b[43m)\u001b[49m\n\u001b[1;32m      7\u001b[0m     create_polar_diff_plot(mol,d_basis_list[\u001b[38;5;241m0\u001b[39m:\u001b[38;5;241m3\u001b[39m])\n",
      "File \u001b[0;32m/gpfs/projects/rjh/adrian/test-suite-new/madness-test-suite/madnessReader.py:634\u001b[0m, in \u001b[0;36mcreate_polar_diff_plot\u001b[0;34m(mol, basis_list)\u001b[0m\n\u001b[1;32m    631\u001b[0m title \u001b[38;5;241m=\u001b[39m mol\n\u001b[1;32m    632\u001b[0m yl \u001b[38;5;241m=\u001b[39m \u001b[38;5;124mr\u001b[39m\u001b[38;5;124m'\u001b[39m\u001b[38;5;124m $\u001b[39m\u001b[38;5;124m\\\u001b[39m\u001b[38;5;124mDelta\u001b[39m\u001b[38;5;124m\\\u001b[39m\u001b[38;5;124malpha_\u001b[39m\u001b[38;5;132;01m{avg}\u001b[39;00m\u001b[38;5;124m$\u001b[39m\u001b[38;5;124m'\u001b[39m \u001b[38;5;241m+\u001b[39m \u001b[38;5;124mr\u001b[39m\u001b[38;5;124m'\u001b[39m\u001b[38;5;124m (MRA - BASIS)\u001b[39m\u001b[38;5;124m'\u001b[39m\n\u001b[0;32m--> 634\u001b[0m data, diff_data, energy_diff, polar_diff \u001b[38;5;241m=\u001b[39m \u001b[43mcreate_data\u001b[49m\u001b[43m(\u001b[49m\u001b[43mmol\u001b[49m\u001b[43m,\u001b[49m\u001b[43m \u001b[49m\u001b[43mbasis_list\u001b[49m\u001b[43m)\u001b[49m\n\u001b[1;32m    635\u001b[0m polar_diff\u001b[38;5;241m.\u001b[39miloc[:, :]\u001b[38;5;241m.\u001b[39mplot(marker\u001b[38;5;241m=\u001b[39m\u001b[38;5;124m'\u001b[39m\u001b[38;5;124mo\u001b[39m\u001b[38;5;124m'\u001b[39m, linestyle\u001b[38;5;241m=\u001b[39m\u001b[38;5;124m'\u001b[39m\u001b[38;5;124msolid\u001b[39m\u001b[38;5;124m'\u001b[39m)\n\u001b[1;32m    636\u001b[0m plt\u001b[38;5;241m.\u001b[39maxhline(linewidth\u001b[38;5;241m=\u001b[39m\u001b[38;5;241m2\u001b[39m, ls\u001b[38;5;241m=\u001b[39m\u001b[38;5;124m'\u001b[39m\u001b[38;5;124m--\u001b[39m\u001b[38;5;124m'\u001b[39m, color\u001b[38;5;241m=\u001b[39m\u001b[38;5;124m'\u001b[39m\u001b[38;5;124mk\u001b[39m\u001b[38;5;124m'\u001b[39m, label\u001b[38;5;241m=\u001b[39m\u001b[38;5;124m\"\u001b[39m\u001b[38;5;124mMRA Reference\u001b[39m\u001b[38;5;124m\"\u001b[39m)\n",
      "File \u001b[0;32m/gpfs/projects/rjh/adrian/test-suite-new/madness-test-suite/madnessReader.py:599\u001b[0m, in \u001b[0;36mcreate_data\u001b[0;34m(mol, basis_list)\u001b[0m\n\u001b[1;32m    596\u001b[0m \u001b[38;5;28;01mdef\u001b[39;00m \u001b[38;5;21mcreate_data\u001b[39m(mol, basis_list):\n\u001b[1;32m    597\u001b[0m     res_dict \u001b[38;5;241m=\u001b[39m {\u001b[38;5;124m'\u001b[39m\u001b[38;5;124mxx\u001b[39m\u001b[38;5;124m'\u001b[39m: \u001b[38;5;124m'\u001b[39m\u001b[38;5;124mdensity_residualX\u001b[39m\u001b[38;5;124m'\u001b[39m, \u001b[38;5;124m'\u001b[39m\u001b[38;5;124myy\u001b[39m\u001b[38;5;124m'\u001b[39m: \u001b[38;5;124m'\u001b[39m\u001b[38;5;124mdensity_residualY\u001b[39m\u001b[38;5;124m'\u001b[39m, \u001b[38;5;124m'\u001b[39m\u001b[38;5;124mzz\u001b[39m\u001b[38;5;124m'\u001b[39m: \u001b[38;5;124m'\u001b[39m\u001b[38;5;124mdensity_residualZ\u001b[39m\u001b[38;5;124m'\u001b[39m}\n\u001b[0;32m--> 599\u001b[0m     moldata \u001b[38;5;241m=\u001b[39m \u001b[43mFrequencyData\u001b[49m\u001b[43m(\u001b[49m\u001b[43mmol\u001b[49m\u001b[43m,\u001b[49m\u001b[43m \u001b[49m\u001b[38;5;124;43m'\u001b[39;49m\u001b[38;5;124;43mhf\u001b[39;49m\u001b[38;5;124;43m'\u001b[39;49m\u001b[43m,\u001b[49m\u001b[43m \u001b[49m\u001b[38;5;124;43m'\u001b[39;49m\u001b[38;5;124;43mdipole\u001b[39;49m\u001b[38;5;124;43m'\u001b[39;49m\u001b[43m)\u001b[49m\n\u001b[1;32m    600\u001b[0m     xx \u001b[38;5;241m=\u001b[39m [\u001b[38;5;124m'\u001b[39m\u001b[38;5;124mxx\u001b[39m\u001b[38;5;124m'\u001b[39m, \u001b[38;5;124m'\u001b[39m\u001b[38;5;124myy\u001b[39m\u001b[38;5;124m'\u001b[39m, \u001b[38;5;124m'\u001b[39m\u001b[38;5;124mzz\u001b[39m\u001b[38;5;124m'\u001b[39m]\n\u001b[1;32m    601\u001b[0m     data \u001b[38;5;241m=\u001b[39m []\n",
      "File \u001b[0;32m/gpfs/projects/rjh/adrian/test-suite-new/madness-test-suite/madnessReader.py:358\u001b[0m, in \u001b[0;36mFrequencyData.__init__\u001b[0;34m(self, mol, xc, operator)\u001b[0m\n\u001b[1;32m    356\u001b[0m \u001b[38;5;28mself\u001b[39m\u001b[38;5;241m.\u001b[39mxc \u001b[38;5;241m=\u001b[39m xc\n\u001b[1;32m    357\u001b[0m \u001b[38;5;28mself\u001b[39m\u001b[38;5;241m.\u001b[39moperator \u001b[38;5;241m=\u001b[39m operator\n\u001b[0;32m--> 358\u001b[0m mad_reader \u001b[38;5;241m=\u001b[39m \u001b[43mMadnessReader\u001b[49m\u001b[43m(\u001b[49m\u001b[43m)\u001b[49m\n\u001b[1;32m    360\u001b[0m \u001b[38;5;28mself\u001b[39m\u001b[38;5;241m.\u001b[39mground_params, \u001b[38;5;28mself\u001b[39m\u001b[38;5;241m.\u001b[39mground_scf_data, \u001b[38;5;28mself\u001b[39m\u001b[38;5;241m.\u001b[39mground_timing \u001b[38;5;241m=\u001b[39m mad_reader\u001b[38;5;241m.\u001b[39mget_ground_scf_data(mol, xc)\n\u001b[1;32m    361\u001b[0m e_name_list \u001b[38;5;241m=\u001b[39m [\u001b[38;5;124m'\u001b[39m\u001b[38;5;124me_coulomb\u001b[39m\u001b[38;5;124m'\u001b[39m, \u001b[38;5;124m'\u001b[39m\u001b[38;5;124me_kinetic\u001b[39m\u001b[38;5;124m'\u001b[39m, \u001b[38;5;124m'\u001b[39m\u001b[38;5;124me_local\u001b[39m\u001b[38;5;124m'\u001b[39m, \u001b[38;5;124m'\u001b[39m\u001b[38;5;124me_nrep\u001b[39m\u001b[38;5;124m'\u001b[39m, \u001b[38;5;124m'\u001b[39m\u001b[38;5;124me_tot\u001b[39m\u001b[38;5;124m'\u001b[39m]\n",
      "File \u001b[0;32m/gpfs/projects/rjh/adrian/test-suite-new/madness-test-suite/madnessReader.py:21\u001b[0m, in \u001b[0;36mMadnessReader.__init__\u001b[0;34m(self)\u001b[0m\n\u001b[1;32m     19\u001b[0m \u001b[38;5;28;01mif\u001b[39;00m \u001b[38;5;129;01mnot\u001b[39;00m os\u001b[38;5;241m.\u001b[39mpath\u001b[38;5;241m.\u001b[39mexists(\u001b[38;5;124m\"\u001b[39m\u001b[38;5;124mdalton\u001b[39m\u001b[38;5;124m\"\u001b[39m):\n\u001b[1;32m     20\u001b[0m     os\u001b[38;5;241m.\u001b[39mmkdir(\u001b[38;5;124m\"\u001b[39m\u001b[38;5;124mdalton\u001b[39m\u001b[38;5;124m\"\u001b[39m)\n\u001b[0;32m---> 21\u001b[0m \u001b[38;5;28;01mwith\u001b[39;00m \u001b[38;5;28;43mopen\u001b[39;49m\u001b[43m(\u001b[49m\u001b[43mPROOT\u001b[49m\u001b[43m \u001b[49m\u001b[38;5;241;43m+\u001b[39;49m\u001b[43m \u001b[49m\u001b[38;5;124;43m'\u001b[39;49m\u001b[38;5;124;43m/molecules/frequency.json\u001b[39;49m\u001b[38;5;124;43m'\u001b[39;49m\u001b[43m)\u001b[49m \u001b[38;5;28;01mas\u001b[39;00m json_file:\n\u001b[1;32m     22\u001b[0m     \u001b[38;5;28mself\u001b[39m\u001b[38;5;241m.\u001b[39mfreq_json \u001b[38;5;241m=\u001b[39m json\u001b[38;5;241m.\u001b[39mloads(json_file\u001b[38;5;241m.\u001b[39mread())\n",
      "\u001b[0;31mFileNotFoundError\u001b[0m: [Errno 2] No such file or directory: '/gpfs/projects/rjh/adrian/test-suite-new/dalton/hf/CH4/dipole/molecules/frequency.json'"
     ]
    }
   ],
   "source": [
    "for mol in converged:\n",
    "    try:\n",
    "        create_polar_diff_plot(mol,d_basis_list[0:])\n",
    "        create_polar_diff_plot(mol,basis_list[0:])\n",
    "    except:\n",
    "        create_polar_diff_plot(mol,basis_list[0:3])\n",
    "        create_polar_diff_plot(mol,d_basis_list[0:3])\n",
    "        \n",
    "    "
   ]
  },
  {
   "cell_type": "code",
   "execution_count": 17,
   "id": "a907cc10",
   "metadata": {},
   "outputs": [
    {
     "data": {
      "text/plain": [
       "29"
      ]
     },
     "metadata": {},
     "output_type": "display_data"
    }
   ],
   "source": [
    "display(len(converged))"
   ]
  },
  {
   "cell_type": "code",
   "execution_count": null,
   "id": "4209396c",
   "metadata": {},
   "outputs": [
    {
     "name": "stderr",
     "output_type": "stream",
     "text": [
      "/gpfs/projects/rjh/adrian/test-suite-new/madness-test-suite/madnessReader.py:591: FutureWarning: The frame.append method is deprecated and will be removed from pandas in a future version. Use pandas.concat instead.\n",
      "  return dalton_df.append(mad_data)\n",
      "/gpfs/projects/rjh/adrian/test-suite-new/madness-test-suite/madnessReader.py:591: FutureWarning: The frame.append method is deprecated and will be removed from pandas in a future version. Use pandas.concat instead.\n",
      "  return dalton_df.append(mad_data)\n",
      "/gpfs/projects/rjh/adrian/test-suite-new/madness-test-suite/madnessReader.py:591: FutureWarning: The frame.append method is deprecated and will be removed from pandas in a future version. Use pandas.concat instead.\n",
      "  return dalton_df.append(mad_data)\n",
      "/gpfs/projects/rjh/adrian/test-suite-new/madness-test-suite/madnessReader.py:623: FutureWarning: The frame.append method is deprecated and will be removed from pandas in a future version. Use pandas.concat instead.\n",
      "  average = average.append(clean.T)\n",
      "/gpfs/projects/rjh/adrian/test-suite-new/madness-test-suite/madnessReader.py:653: FutureWarning: In future versions `DataFrame.to_latex` is expected to utilise the base implementation of `Styler.to_latex` for formatting and rendering. The arguments signature may therefore change. It is recommended instead to use `DataFrame.style.to_latex` which also contains additional functionality.\n",
      "  data.to_latex(latex_save, na_rep=' ')\n",
      "/gpfs/projects/rjh/adrian/test-suite-new/madness-test-suite/madnessReader.py:591: FutureWarning: The frame.append method is deprecated and will be removed from pandas in a future version. Use pandas.concat instead.\n",
      "  return dalton_df.append(mad_data)\n",
      "/gpfs/projects/rjh/adrian/test-suite-new/madness-test-suite/madnessReader.py:591: FutureWarning: The frame.append method is deprecated and will be removed from pandas in a future version. Use pandas.concat instead.\n",
      "  return dalton_df.append(mad_data)\n",
      "/gpfs/projects/rjh/adrian/test-suite-new/madness-test-suite/madnessReader.py:591: FutureWarning: The frame.append method is deprecated and will be removed from pandas in a future version. Use pandas.concat instead.\n",
      "  return dalton_df.append(mad_data)\n",
      "/gpfs/projects/rjh/adrian/test-suite-new/madness-test-suite/madnessReader.py:623: FutureWarning: The frame.append method is deprecated and will be removed from pandas in a future version. Use pandas.concat instead.\n",
      "  average = average.append(clean.T)\n",
      "/gpfs/projects/rjh/adrian/test-suite-new/madness-test-suite/madnessReader.py:653: FutureWarning: In future versions `DataFrame.to_latex` is expected to utilise the base implementation of `Styler.to_latex` for formatting and rendering. The arguments signature may therefore change. It is recommended instead to use `DataFrame.style.to_latex` which also contains additional functionality.\n",
      "  data.to_latex(latex_save, na_rep=' ')\n",
      "/gpfs/projects/rjh/adrian/test-suite-new/madness-test-suite/madnessReader.py:591: FutureWarning: The frame.append method is deprecated and will be removed from pandas in a future version. Use pandas.concat instead.\n",
      "  return dalton_df.append(mad_data)\n",
      "/gpfs/projects/rjh/adrian/test-suite-new/madness-test-suite/madnessReader.py:591: FutureWarning: The frame.append method is deprecated and will be removed from pandas in a future version. Use pandas.concat instead.\n",
      "  return dalton_df.append(mad_data)\n",
      "/gpfs/projects/rjh/adrian/test-suite-new/madness-test-suite/madnessReader.py:591: FutureWarning: The frame.append method is deprecated and will be removed from pandas in a future version. Use pandas.concat instead.\n",
      "  return dalton_df.append(mad_data)\n",
      "/gpfs/projects/rjh/adrian/test-suite-new/madness-test-suite/madnessReader.py:623: FutureWarning: The frame.append method is deprecated and will be removed from pandas in a future version. Use pandas.concat instead.\n",
      "  average = average.append(clean.T)\n",
      "/gpfs/projects/rjh/adrian/test-suite-new/madness-test-suite/madnessReader.py:653: FutureWarning: In future versions `DataFrame.to_latex` is expected to utilise the base implementation of `Styler.to_latex` for formatting and rendering. The arguments signature may therefore change. It is recommended instead to use `DataFrame.style.to_latex` which also contains additional functionality.\n",
      "  data.to_latex(latex_save, na_rep=' ')\n",
      "/gpfs/projects/rjh/adrian/test-suite-new/madness-test-suite/madnessReader.py:591: FutureWarning: The frame.append method is deprecated and will be removed from pandas in a future version. Use pandas.concat instead.\n",
      "  return dalton_df.append(mad_data)\n",
      "/gpfs/projects/rjh/adrian/test-suite-new/madness-test-suite/madnessReader.py:591: FutureWarning: The frame.append method is deprecated and will be removed from pandas in a future version. Use pandas.concat instead.\n",
      "  return dalton_df.append(mad_data)\n",
      "/gpfs/projects/rjh/adrian/test-suite-new/madness-test-suite/madnessReader.py:591: FutureWarning: The frame.append method is deprecated and will be removed from pandas in a future version. Use pandas.concat instead.\n",
      "  return dalton_df.append(mad_data)\n",
      "/gpfs/projects/rjh/adrian/test-suite-new/madness-test-suite/madnessReader.py:623: FutureWarning: The frame.append method is deprecated and will be removed from pandas in a future version. Use pandas.concat instead.\n",
      "  average = average.append(clean.T)\n",
      "/gpfs/projects/rjh/adrian/test-suite-new/madness-test-suite/madnessReader.py:653: FutureWarning: In future versions `DataFrame.to_latex` is expected to utilise the base implementation of `Styler.to_latex` for formatting and rendering. The arguments signature may therefore change. It is recommended instead to use `DataFrame.style.to_latex` which also contains additional functionality.\n",
      "  data.to_latex(latex_save, na_rep=' ')\n",
      "/gpfs/projects/rjh/adrian/test-suite-new/madness-test-suite/madnessReader.py:591: FutureWarning: The frame.append method is deprecated and will be removed from pandas in a future version. Use pandas.concat instead.\n",
      "  return dalton_df.append(mad_data)\n",
      "/gpfs/projects/rjh/adrian/test-suite-new/madness-test-suite/madnessReader.py:591: FutureWarning: The frame.append method is deprecated and will be removed from pandas in a future version. Use pandas.concat instead.\n",
      "  return dalton_df.append(mad_data)\n",
      "/gpfs/projects/rjh/adrian/test-suite-new/madness-test-suite/madnessReader.py:591: FutureWarning: The frame.append method is deprecated and will be removed from pandas in a future version. Use pandas.concat instead.\n",
      "  return dalton_df.append(mad_data)\n",
      "/gpfs/projects/rjh/adrian/test-suite-new/madness-test-suite/madnessReader.py:623: FutureWarning: The frame.append method is deprecated and will be removed from pandas in a future version. Use pandas.concat instead.\n",
      "  average = average.append(clean.T)\n",
      "/gpfs/projects/rjh/adrian/test-suite-new/madness-test-suite/madnessReader.py:653: FutureWarning: In future versions `DataFrame.to_latex` is expected to utilise the base implementation of `Styler.to_latex` for formatting and rendering. The arguments signature may therefore change. It is recommended instead to use `DataFrame.style.to_latex` which also contains additional functionality.\n",
      "  data.to_latex(latex_save, na_rep=' ')\n",
      "Did not finish  /gpfs/projects/rjh/adrian/test-suite-new/large_polar_low/../dalton/hf/CH3BH2/dipole/freq_CH3BH2-d-aug-cc-pVQZ.out !\n"
     ]
    },
    {
     "name": "stdout",
     "output_type": "stream",
     "text": [
      "Retrying\n"
     ]
    },
    {
     "name": "stderr",
     "output_type": "stream",
     "text": [
      "\n",
      " NOTE:    1 warnings have been issued.\n",
      " Check output, result, and error files for \"WARNING\".\n"
     ]
    }
   ],
   "source": [
    "for n in range(len(converged)):\n",
    "\n",
    "    create_polar_diff_plot(converged[n],basis_list[0:3])\n",
    "    create_polar_diff_plot(converged[n],d_basis_list[0:3])"
   ]
  },
  {
   "cell_type": "code",
   "execution_count": null,
   "id": "de564c1d",
   "metadata": {},
   "outputs": [],
   "source": []
  }
 ],
 "metadata": {
  "kernelspec": {
   "display_name": "Python 3 (ipykernel)",
   "language": "python",
   "name": "python3"
  },
  "language_info": {
   "codemirror_mode": {
    "name": "ipython",
    "version": 3
   },
   "file_extension": ".py",
   "mimetype": "text/x-python",
   "name": "python",
   "nbconvert_exporter": "python",
   "pygments_lexer": "ipython3",
   "version": "3.9.12"
  }
 },
 "nbformat": 4,
 "nbformat_minor": 5
}
